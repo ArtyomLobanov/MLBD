{
 "cells": [
  {
   "cell_type": "markdown",
   "metadata": {
    "toc": true
   },
   "source": [
    "<h1>Table of Contents<span class=\"tocSkip\"></span></h1>\n",
    "<div class=\"toc\"><ul class=\"toc-item\"><li><span><a href=\"#Movie-recommendation\" data-toc-modified-id=\"Movie-recommendation-1\"><span class=\"toc-item-num\">1&nbsp;&nbsp;</span>Movie recommendation</a></span><ul class=\"toc-item\"><li><span><a href=\"#Dataset\" data-toc-modified-id=\"Dataset-1.1\"><span class=\"toc-item-num\">1.1&nbsp;&nbsp;</span>Dataset</a></span></li><li><span><a href=\"#Evaluation-Protocol\" data-toc-modified-id=\"Evaluation-Protocol-1.2\"><span class=\"toc-item-num\">1.2&nbsp;&nbsp;</span>Evaluation Protocol</a></span></li><li><span><a href=\"#Models\" data-toc-modified-id=\"Models-1.3\"><span class=\"toc-item-num\">1.3&nbsp;&nbsp;</span>Models</a></span><ul class=\"toc-item\"><li><span><a href=\"#ALS\" data-toc-modified-id=\"ALS-1.3.1\"><span class=\"toc-item-num\">1.3.1&nbsp;&nbsp;</span><a href=\"https://spark.apache.org/docs/latest/ml-collaborative-filtering.html#explicit-vs-implicit-feedback\" target=\"_blank\">ALS</a></a></span></li><li><span><a href=\"#Ваша-формулировка\" data-toc-modified-id=\"Ваша-формулировка-1.3.2\"><span class=\"toc-item-num\">1.3.2&nbsp;&nbsp;</span>Ваша формулировка</a></span></li></ul></li><li><span><a href=\"#Evaluation-Results\" data-toc-modified-id=\"Evaluation-Results-1.4\"><span class=\"toc-item-num\">1.4&nbsp;&nbsp;</span>Evaluation Results</a></span></li></ul></li></ul></div>"
   ]
  },
  {
   "cell_type": "markdown",
   "metadata": {},
   "source": [
    "# Movie recommendation\n",
    "\n",
    "Ваша задача - рекомендация фильмов для пользователей\n"
   ]
  },
  {
   "cell_type": "code",
   "execution_count": 1,
   "metadata": {},
   "outputs": [],
   "source": [
    "%matplotlib inline\n",
    "%config InlineBackend.figure_format ='retina'\n",
    "\n",
    "import os\n",
    "import sys\n",
    "import glob\n",
    "import pickle\n",
    "import seaborn as sns\n",
    "import matplotlib.pyplot as plt\n",
    "import numpy as np\n",
    "\n",
    "import pyspark\n",
    "from pyspark.conf import SparkConf\n",
    "from pyspark.sql import SQLContext\n",
    "from pyspark.sql import SparkSession\n",
    "\n",
    "\n",
    "spark = SparkSession \\\n",
    "    .builder \\\n",
    "    .master('local[*]') \\\n",
    "    .appName(\"spark_sql_examples\") \\\n",
    "    .config(\"spark.executor.memory\", \"12g\") \\\n",
    "    .config(\"spark.driver.memory\", \"25g\") \\\n",
    "    .getOrCreate()\n",
    "\n",
    "sc = spark.sparkContext\n",
    "sqlContext = SQLContext(sc)"
   ]
  },
  {
   "cell_type": "code",
   "execution_count": 2,
   "metadata": {},
   "outputs": [
    {
     "name": "stdout",
     "output_type": "stream",
     "text": [
      "Collecting hyperopt\n",
      "  Downloading hyperopt-0.2.4-py2.py3-none-any.whl (964 kB)\n",
      "\u001b[K     |████████████████████████████████| 964 kB 666 kB/s eta 0:00:01\n",
      "\u001b[?25hRequirement already satisfied: scipy in /usr/lib64/python3.5/site-packages (from hyperopt) (1.3.3)\n",
      "Requirement already satisfied: six in /usr/lib/python3.5/site-packages (from hyperopt) (1.14.0)\n",
      "Collecting future\n",
      "  Downloading future-0.18.2.tar.gz (829 kB)\n",
      "\u001b[K     |████████████████████████████████| 829 kB 3.2 MB/s eta 0:00:01\n",
      "\u001b[?25hCollecting networkx>=2.2\n",
      "  Downloading networkx-2.4-py3-none-any.whl (1.6 MB)\n",
      "\u001b[K     |████████████████████████████████| 1.6 MB 4.6 MB/s eta 0:00:01\n",
      "\u001b[?25hCollecting tqdm\n",
      "  Downloading tqdm-4.46.1-py2.py3-none-any.whl (63 kB)\n",
      "\u001b[K     |████████████████████████████████| 63 kB 2.0 MB/s eta 0:00:011\n",
      "\u001b[?25hRequirement already satisfied: numpy in /usr/lib64/python3.5/site-packages (from hyperopt) (1.17.2)\n",
      "Collecting cloudpickle\n",
      "  Downloading cloudpickle-1.4.1-py3-none-any.whl (26 kB)\n",
      "Requirement already satisfied: decorator>=4.3.0 in /usr/lib/python3.5/site-packages (from networkx>=2.2->hyperopt) (4.4.2)\n",
      "Installing collected packages: future, networkx, tqdm, cloudpickle, hyperopt\n",
      "    Running setup.py install for future ... \u001b[?25ldone\n",
      "\u001b[?25hSuccessfully installed cloudpickle-1.4.1 future-0.18.2 hyperopt-0.2.4 networkx-2.4 tqdm-4.46.1\n",
      "\u001b[33mWARNING: You are using pip version 20.0.2; however, version 20.1.1 is available.\n",
      "You should consider upgrading via the '/usr/bin/python3.5 -m pip install --upgrade pip' command.\u001b[0m\n"
     ]
    }
   ],
   "source": [
    "!pip3.5 install hyperopt"
   ]
  },
  {
   "cell_type": "code",
   "execution_count": 3,
   "metadata": {},
   "outputs": [],
   "source": [
    "from pyspark.sql.window import Window\n",
    "from pyspark.mllib.evaluation import RankingMetrics\n",
    "from pyspark.ml.recommendation import ALS\n",
    "import pandas as pd\n",
    "from hyperopt import fmin, STATUS_OK, Trials, tpe, hp\n",
    "from functools import reduce\n",
    "from scipy import spatial"
   ]
  },
  {
   "cell_type": "markdown",
   "metadata": {},
   "source": [
    "## Dataset \n",
    "\n",
    "`MovieLens-25M`"
   ]
  },
  {
   "cell_type": "code",
   "execution_count": 4,
   "metadata": {},
   "outputs": [],
   "source": [
    "DATA_PATH = '/workspace/MLBD/data/ml-25m'\n",
    "\n",
    "RATINGS_PATH = os.path.join(DATA_PATH, 'ratings.csv')\n",
    "MOVIES_PATH = os.path.join(DATA_PATH, 'movies.csv')\n",
    "TAGS_PATH = os.path.join(DATA_PATH, 'tags.csv')"
   ]
  },
  {
   "cell_type": "code",
   "execution_count": 5,
   "metadata": {},
   "outputs": [
    {
     "name": "stdout",
     "output_type": "stream",
     "text": [
      "/workspace/MLBD/recsys/notebooks\r\n"
     ]
    }
   ],
   "source": [
    "!pwd"
   ]
  },
  {
   "cell_type": "code",
   "execution_count": 6,
   "metadata": {},
   "outputs": [
    {
     "name": "stdout",
     "output_type": "stream",
     "text": [
      "genome-scores.csv  links.csv\t      movies.csv   README.txt  tmdb.json\r\n",
      "genome-tags.csv    ml-25m-README.htm  ratings.csv  tags.csv\r\n"
     ]
    }
   ],
   "source": [
    "!ls /workspace/MLBD/data/ml-25m"
   ]
  },
  {
   "cell_type": "code",
   "execution_count": 7,
   "metadata": {},
   "outputs": [],
   "source": [
    "import pyspark.sql.functions as F\n",
    "from pyspark.sql.types import *\n",
    "\n",
    "\n",
    "ratings_df = sqlContext.read.format(\"com.databricks.spark.csv\") \\\n",
    "    .option(\"delimiter\", \",\") \\\n",
    "    .option(\"header\", \"true\") \\\n",
    "    .option(\"inferSchema\", \"true\") \\\n",
    "    .load('file:///' + RATINGS_PATH)\n",
    "\n",
    "movies_df = sqlContext.read.format(\"com.databricks.spark.csv\") \\\n",
    "    .option(\"delimiter\", \",\") \\\n",
    "    .option(\"header\", \"true\") \\\n",
    "    .option(\"inferSchema\", \"true\") \\\n",
    "    .load('file:///' + MOVIES_PATH)"
   ]
  },
  {
   "cell_type": "code",
   "execution_count": 8,
   "metadata": {},
   "outputs": [
    {
     "name": "stdout",
     "output_type": "stream",
     "text": [
      "root\n",
      " |-- userId: integer (nullable = true)\n",
      " |-- movieId: integer (nullable = true)\n",
      " |-- rating: double (nullable = true)\n",
      " |-- timestamp: integer (nullable = true)\n",
      "\n",
      "25000095\n"
     ]
    }
   ],
   "source": [
    "ratings_df.printSchema()\n",
    "print(ratings_df.count())"
   ]
  },
  {
   "cell_type": "code",
   "execution_count": 9,
   "metadata": {},
   "outputs": [
    {
     "name": "stdout",
     "output_type": "stream",
     "text": [
      "root\n",
      " |-- movieId: integer (nullable = true)\n",
      " |-- title: string (nullable = true)\n",
      " |-- genres: string (nullable = true)\n",
      "\n",
      "62423\n"
     ]
    }
   ],
   "source": [
    "movies_df.printSchema()\n",
    "print(movies_df.count())"
   ]
  },
  {
   "cell_type": "markdown",
   "metadata": {},
   "source": [
    "## Evaluation Protocol\n",
    "\n",
    "Так как мы хотим оценивать качество разных алгоритмов рекомендаций, то в первую очередь нам нужно определить\n",
    "* Как разбить данные на `Train`/`Validation`/`Test`;\n",
    "* Какие метрики использовать для оценки качества."
   ]
  },
  {
   "cell_type": "code",
   "execution_count": 10,
   "metadata": {},
   "outputs": [],
   "source": [
    "def split_df(df, train_part, validate_part, test_part):\n",
    "    n_parts = train_part + validate_part + test_part\n",
    "    tmp = df.withColumn('tile', F.ntile(n_parts).over(\n",
    "            Window.orderBy('timestamp') \\\n",
    "                .partitionBy('userId')))\n",
    "\n",
    "    train = tmp \\\n",
    "        .filter(F.col('tile') <= train_part) \\\n",
    "        .drop('tile') \\\n",
    "        .cache()\n",
    "    \n",
    "    validate = tmp \\\n",
    "        .filter(F.col('tile') > train_part) \\\n",
    "        .filter(F.col('tile') <= train_part + validate_part) \\\n",
    "        .drop('tile') \\\n",
    "        .cache()\n",
    "    \n",
    "    test = tmp \\\n",
    "        .filter(F.col('tile') > train_part + validate_part) \\\n",
    "        .drop('tile') \\\n",
    "        .cache()\n",
    "    \n",
    "    return train, validate, test\n",
    "\n",
    "train_ratings, validate_ratings, test_ratings = split_df(ratings_df, 8, 1, 1)"
   ]
  },
  {
   "cell_type": "code",
   "execution_count": 11,
   "metadata": {},
   "outputs": [
    {
     "data": {
      "text/plain": [
       "(20123411, 2445623, 2431061)"
      ]
     },
     "execution_count": 11,
     "metadata": {},
     "output_type": "execute_result"
    }
   ],
   "source": [
    "train_ratings.count(), validate_ratings.count(), test_ratings.count()"
   ]
  },
  {
   "cell_type": "code",
   "execution_count": 12,
   "metadata": {},
   "outputs": [],
   "source": [
    "def calculate_metrics(model, map_fn, df, k_options=[1, 5, 10, 20]):\n",
    "    users = df \\\n",
    "        .select('userId') \\\n",
    "        .distinct()\n",
    "    \n",
    "    targets = df \\\n",
    "        .groupby('userId') \\\n",
    "        .agg(F.collect_set('movieId').alias('labels'))\n",
    "    \n",
    "    predictions = model.recommendForUserSubset(users, max(k_options))\n",
    "\n",
    "    results = targets \\\n",
    "        .join(predictions, 'userId') \\\n",
    "        .select('recommendations', 'labels') \\\n",
    "        .rdd \\\n",
    "        .map(lambda row: (list(map(map_fn, row[0])), row[1])) \\\n",
    "        .cache()\n",
    "    \n",
    "    ranking_metrics = RankingMetrics(results)\n",
    "    \n",
    "    metrics_values = {\"MAP\": ranking_metrics.meanAveragePrecision}\n",
    "    \n",
    "    for k in k_options:\n",
    "        metrics_values[\"P@\" + str(k)] = ranking_metrics.precisionAt(k)\n",
    "        metrics_values[\"NDCG@\" + str(k)] = ranking_metrics.ndcgAt(k)\n",
    "    return metrics_values"
   ]
  },
  {
   "cell_type": "code",
   "execution_count": 13,
   "metadata": {},
   "outputs": [],
   "source": [
    "def get_ate(groups, control_name) -> pd.DataFrame:\n",
    "    \"\"\"Get Average Treatment Effect\n",
    "    groups - dictionary where keys - names of models, values - dicts of pairs <metric_name>, <metric_value>\n",
    "    control_name - name of baseline model\n",
    "    \n",
    "    return pd.DataFrame (rows corresponds to metrics, cols corresponds to models and ATE with respect to control)\n",
    "    \"\"\"\n",
    "    columns = ['metric']\n",
    "    control_metrics = groups[control_name]\n",
    "    metrics = list(sorted(control_metrics.keys()))\n",
    "    \n",
    "    df = {'metric': metrics}\n",
    "    \n",
    "    for name, treatment in groups.items():\n",
    "        if name == control_name:\n",
    "            continue\n",
    "        ate = []\n",
    "        for metric_name in metrics:\n",
    "            ate.append((treatment[metric_name] / control_metrics[metric_name] - 1.0) * 100)\n",
    "\n",
    "        columns.append('{} ate %'.format(name))\n",
    "        df['{} ate %'.format(name)] = ate\n",
    "            \n",
    "    return pd.DataFrame(df, columns=columns)"
   ]
  },
  {
   "cell_type": "code",
   "execution_count": 14,
   "metadata": {},
   "outputs": [],
   "source": [
    "def show_metrics(metrics) -> pd.DataFrame:\n",
    "    columns = ['metric']\n",
    "    metrics_names = list(reduce(set.union, map(dict.keys, metrics.values()), set()))\n",
    "    metrics_names.sort()\n",
    "    \n",
    "    df = {'metric': metrics_names}\n",
    "    \n",
    "    for name, values in metrics.items():\n",
    "        columns.append(name)\n",
    "        buffer = []\n",
    "        for metric_name in metrics_names:\n",
    "            buffer.append(values[metric_name])\n",
    "        df[name] = buffer\n",
    "            \n",
    "    return pd.DataFrame(df, columns=columns)"
   ]
  },
  {
   "cell_type": "code",
   "execution_count": 15,
   "metadata": {},
   "outputs": [],
   "source": [
    "all_metrics = {}"
   ]
  },
  {
   "cell_type": "markdown",
   "metadata": {},
   "source": [
    "## Models\n",
    "\n",
    "Теперь мы можем перейти к формулировке задачи в терминах машинного обучения.\n",
    "\n",
    "Одна из формулировок, к которой мы сведем нашу задачу - **Matrix Completetion**. Данную задачу будем решать с помощью `ALS`"
   ]
  },
  {
   "cell_type": "markdown",
   "metadata": {},
   "source": [
    "### [ALS](https://spark.apache.org/docs/latest/ml-collaborative-filtering.html#explicit-vs-implicit-feedback)"
   ]
  },
  {
   "cell_type": "code",
   "execution_count": 16,
   "metadata": {},
   "outputs": [
    {
     "name": "stdout",
     "output_type": "stream",
     "text": [
      "CPU times: user 93.6 ms, sys: 10.5 ms, total: 104 ms\n",
      "Wall time: 25 s\n"
     ]
    }
   ],
   "source": [
    "%%time\n",
    "\n",
    "baseline_parameters = {\n",
    "        'rank': 10,\n",
    "        'maxIter': 10,\n",
    "        'regParam': 0.1,\n",
    "        'implicitPrefs': False,\n",
    "        'alpha': 1.0,\n",
    "        'nonnegative': False,\n",
    "\n",
    "        'numUserBlocks': 10,\n",
    "        'numItemBlocks': 10,\n",
    "        'userCol': 'userId',\n",
    "        'itemCol': 'movieId',\n",
    "        'ratingCol': 'rating',\n",
    "        'seed': 239566,\n",
    "        'coldStartStrategy': 'nan',\n",
    "    }\n",
    "\n",
    "als = ALS(**baseline_parameters)\n",
    "baseline_als_model = als.fit(train_ratings)"
   ]
  },
  {
   "cell_type": "code",
   "execution_count": 17,
   "metadata": {},
   "outputs": [
    {
     "name": "stdout",
     "output_type": "stream",
     "text": [
      "CPU times: user 243 ms, sys: 87.8 ms, total: 331 ms\n",
      "Wall time: 1min 34s\n"
     ]
    }
   ],
   "source": [
    "%%time\n",
    "all_metrics['baseline'] = calculate_metrics(\n",
    "        baseline_als_model,\n",
    "        lambda rec: rec.movieId,\n",
    "        test_ratings)"
   ]
  },
  {
   "cell_type": "markdown",
   "metadata": {},
   "source": [
    "### Подбираем параметры"
   ]
  },
  {
   "cell_type": "code",
   "execution_count": 18,
   "metadata": {},
   "outputs": [],
   "source": [
    "subsample_users = train_ratings \\\n",
    "        .select('userId') \\\n",
    "        .distinct() \\\n",
    "        .sample(False, 0.2) \\\n",
    "        .cache()\n",
    "\n",
    "train_sampled = train_ratings.join(subsample_users, 'userId', how='leftsemi')\n",
    "validate_sampled = validate_ratings.join(subsample_users, 'userId', how='leftsemi')"
   ]
  },
  {
   "cell_type": "code",
   "execution_count": 19,
   "metadata": {},
   "outputs": [
    {
     "data": {
      "text/plain": [
       "(4035840, 490517)"
      ]
     },
     "execution_count": 19,
     "metadata": {},
     "output_type": "execute_result"
    }
   ],
   "source": [
    "train_sampled.count(), validate_sampled.count()"
   ]
  },
  {
   "cell_type": "code",
   "execution_count": 20,
   "metadata": {},
   "outputs": [],
   "source": [
    "def objective(space):\n",
    "    estimator = ALS(**space)\n",
    "    print('SPACE:', space)\n",
    "    success = False\n",
    "    attempts = 0\n",
    "    model = None\n",
    "    while not success and attempts < 2:\n",
    "        try:\n",
    "            model = estimator.fit(train_sampled)\n",
    "            success = True\n",
    "        except Exception as e:\n",
    "            attempts += 1\n",
    "            print(e)\n",
    "            print('Try again')\n",
    "    metrics = calculate_metrics(model, lambda rec: rec.movieId, validate_sampled)\n",
    "    return {\"loss\": -metrics['MAP'], 'status': STATUS_OK}"
   ]
  },
  {
   "cell_type": "code",
   "execution_count": 21,
   "metadata": {},
   "outputs": [],
   "source": [
    "best_parameters = {**baseline_parameters}"
   ]
  },
  {
   "cell_type": "code",
   "execution_count": 22,
   "metadata": {},
   "outputs": [
    {
     "name": "stdout",
     "output_type": "stream",
     "text": [
      "SPACE:                                                \n",
      "{'nonnegative': False, 'seed': 239566, 'coldStartStrategy': 'nan', 'rank': 10, 'itemCol': 'movieId', 'implicitPrefs': True, 'maxIter': 10, 'alpha': 1.5, 'userCol': 'userId', 'ratingCol': 'rating', 'numUserBlocks': 10, 'numItemBlocks': 10, 'regParam': 0.1}\n",
      "SPACE:                                                                             \n",
      "{'nonnegative': False, 'seed': 239566, 'coldStartStrategy': 'nan', 'rank': 10, 'itemCol': 'movieId', 'implicitPrefs': True, 'maxIter': 10, 'alpha': 1.0, 'userCol': 'userId', 'ratingCol': 'rating', 'numUserBlocks': 10, 'numItemBlocks': 10, 'regParam': 0.1}\n",
      "SPACE:                                                                             \n",
      "{'nonnegative': False, 'seed': 239566, 'coldStartStrategy': 'nan', 'rank': 10, 'itemCol': 'movieId', 'implicitPrefs': False, 'maxIter': 10, 'alpha': 1.5, 'userCol': 'userId', 'ratingCol': 'rating', 'numUserBlocks': 10, 'numItemBlocks': 10, 'regParam': 0.1}\n",
      "SPACE:                                                                             \n",
      "{'nonnegative': False, 'seed': 239566, 'coldStartStrategy': 'nan', 'rank': 10, 'itemCol': 'movieId', 'implicitPrefs': False, 'maxIter': 10, 'alpha': 1.5, 'userCol': 'userId', 'ratingCol': 'rating', 'numUserBlocks': 10, 'numItemBlocks': 10, 'regParam': 0.1}\n",
      "SPACE:                                                                             \n",
      "{'nonnegative': False, 'seed': 239566, 'coldStartStrategy': 'nan', 'rank': 10, 'itemCol': 'movieId', 'implicitPrefs': True, 'maxIter': 10, 'alpha': 0.5, 'userCol': 'userId', 'ratingCol': 'rating', 'numUserBlocks': 10, 'numItemBlocks': 10, 'regParam': 0.1}\n",
      "SPACE:                                                                             \n",
      "{'nonnegative': False, 'seed': 239566, 'coldStartStrategy': 'nan', 'rank': 10, 'itemCol': 'movieId', 'implicitPrefs': True, 'maxIter': 10, 'alpha': 1.0, 'userCol': 'userId', 'ratingCol': 'rating', 'numUserBlocks': 10, 'numItemBlocks': 10, 'regParam': 0.1}\n",
      "SPACE:                                                                             \n",
      "{'nonnegative': False, 'seed': 239566, 'coldStartStrategy': 'nan', 'rank': 10, 'itemCol': 'movieId', 'implicitPrefs': False, 'maxIter': 10, 'alpha': 0.5, 'userCol': 'userId', 'ratingCol': 'rating', 'numUserBlocks': 10, 'numItemBlocks': 10, 'regParam': 0.1}\n",
      "SPACE:                                                                             \n",
      "{'nonnegative': False, 'seed': 239566, 'coldStartStrategy': 'nan', 'rank': 10, 'itemCol': 'movieId', 'implicitPrefs': False, 'maxIter': 10, 'alpha': 1.0, 'userCol': 'userId', 'ratingCol': 'rating', 'numUserBlocks': 10, 'numItemBlocks': 10, 'regParam': 0.1}\n",
      "SPACE:                                                                             \n",
      "{'nonnegative': False, 'seed': 239566, 'coldStartStrategy': 'nan', 'rank': 10, 'itemCol': 'movieId', 'implicitPrefs': True, 'maxIter': 10, 'alpha': 0.5, 'userCol': 'userId', 'ratingCol': 'rating', 'numUserBlocks': 10, 'numItemBlocks': 10, 'regParam': 0.1}\n",
      "SPACE:                                                                             \n",
      "{'nonnegative': False, 'seed': 239566, 'coldStartStrategy': 'nan', 'rank': 10, 'itemCol': 'movieId', 'implicitPrefs': True, 'maxIter': 10, 'alpha': 1.0, 'userCol': 'userId', 'ratingCol': 'rating', 'numUserBlocks': 10, 'numItemBlocks': 10, 'regParam': 0.1}\n",
      "SPACE:                                                                              \n",
      "{'nonnegative': False, 'seed': 239566, 'coldStartStrategy': 'nan', 'rank': 10, 'itemCol': 'movieId', 'implicitPrefs': False, 'maxIter': 10, 'alpha': 1.5, 'userCol': 'userId', 'ratingCol': 'rating', 'numUserBlocks': 10, 'numItemBlocks': 10, 'regParam': 0.1}\n",
      "SPACE:                                                                              \n",
      "{'nonnegative': False, 'seed': 239566, 'coldStartStrategy': 'nan', 'rank': 10, 'itemCol': 'movieId', 'implicitPrefs': False, 'maxIter': 10, 'alpha': 0.5, 'userCol': 'userId', 'ratingCol': 'rating', 'numUserBlocks': 10, 'numItemBlocks': 10, 'regParam': 0.1}\n",
      "SPACE:                                                                              \n",
      "{'nonnegative': False, 'seed': 239566, 'coldStartStrategy': 'nan', 'rank': 10, 'itemCol': 'movieId', 'implicitPrefs': True, 'maxIter': 10, 'alpha': 0.5, 'userCol': 'userId', 'ratingCol': 'rating', 'numUserBlocks': 10, 'numItemBlocks': 10, 'regParam': 0.1}\n",
      "SPACE:                                                                              \n",
      "{'nonnegative': False, 'seed': 239566, 'coldStartStrategy': 'nan', 'rank': 10, 'itemCol': 'movieId', 'implicitPrefs': False, 'maxIter': 10, 'alpha': 1.0, 'userCol': 'userId', 'ratingCol': 'rating', 'numUserBlocks': 10, 'numItemBlocks': 10, 'regParam': 0.1}\n",
      "SPACE:                                                                              \n",
      "{'nonnegative': False, 'seed': 239566, 'coldStartStrategy': 'nan', 'rank': 10, 'itemCol': 'movieId', 'implicitPrefs': True, 'maxIter': 10, 'alpha': 0.5, 'userCol': 'userId', 'ratingCol': 'rating', 'numUserBlocks': 10, 'numItemBlocks': 10, 'regParam': 0.1}\n",
      "SPACE:                                                                              \n",
      "{'nonnegative': False, 'seed': 239566, 'coldStartStrategy': 'nan', 'rank': 10, 'itemCol': 'movieId', 'implicitPrefs': False, 'maxIter': 10, 'alpha': 0.5, 'userCol': 'userId', 'ratingCol': 'rating', 'numUserBlocks': 10, 'numItemBlocks': 10, 'regParam': 0.1}\n",
      "SPACE:                                                                              \n",
      "{'nonnegative': False, 'seed': 239566, 'coldStartStrategy': 'nan', 'rank': 10, 'itemCol': 'movieId', 'implicitPrefs': False, 'maxIter': 10, 'alpha': 0.5, 'userCol': 'userId', 'ratingCol': 'rating', 'numUserBlocks': 10, 'numItemBlocks': 10, 'regParam': 0.1}\n",
      "SPACE:                                                                              \n",
      "{'nonnegative': False, 'seed': 239566, 'coldStartStrategy': 'nan', 'rank': 10, 'itemCol': 'movieId', 'implicitPrefs': True, 'maxIter': 10, 'alpha': 1.0, 'userCol': 'userId', 'ratingCol': 'rating', 'numUserBlocks': 10, 'numItemBlocks': 10, 'regParam': 0.1}\n",
      "SPACE:                                                                              \n",
      "{'nonnegative': False, 'seed': 239566, 'coldStartStrategy': 'nan', 'rank': 10, 'itemCol': 'movieId', 'implicitPrefs': False, 'maxIter': 10, 'alpha': 1.5, 'userCol': 'userId', 'ratingCol': 'rating', 'numUserBlocks': 10, 'numItemBlocks': 10, 'regParam': 0.1}\n",
      "SPACE:                                                                              \n",
      "{'nonnegative': False, 'seed': 239566, 'coldStartStrategy': 'nan', 'rank': 10, 'itemCol': 'movieId', 'implicitPrefs': False, 'maxIter': 10, 'alpha': 1.0, 'userCol': 'userId', 'ratingCol': 'rating', 'numUserBlocks': 10, 'numItemBlocks': 10, 'regParam': 0.1}\n",
      "100%|██████████| 20/20 [10:30<00:00, 31.50s/trial, best loss: -0.013087767719488485]\n",
      "CPU times: user 4.45 s, sys: 2 s, total: 6.45 s\n",
      "Wall time: 10min 30s\n"
     ]
    }
   ],
   "source": [
    "%%time\n",
    "\n",
    "alpha_choice = [0.5, 1.0, 1.5]\n",
    "implicit_prefs_choice = [True, False]\n",
    "\n",
    "space = {**best_parameters}\n",
    "space['alpha'] = hp.choice('alpha', alpha_choice)\n",
    "space['implicitPrefs'] = hp.choice('implicitPrefs', implicit_prefs_choice)\n",
    "\n",
    "trials = Trials()\n",
    "best = fmin(fn=objective,\n",
    "            space=space,\n",
    "            algo=tpe.suggest,\n",
    "            max_evals=20,\n",
    "            trials=trials)\n",
    "best_parameters['alpha'] = alpha_choice[best['alpha']]\n",
    "best_parameters['implicitPrefs'] = implicit_prefs_choice[best['implicitPrefs']]"
   ]
  },
  {
   "cell_type": "code",
   "execution_count": 23,
   "metadata": {},
   "outputs": [
    {
     "name": "stdout",
     "output_type": "stream",
     "text": [
      "SPACE:                                                \n",
      "{'nonnegative': False, 'seed': 239566, 'coldStartStrategy': 'nan', 'rank': 12, 'itemCol': 'movieId', 'implicitPrefs': True, 'maxIter': 10, 'alpha': 1.5, 'userCol': 'userId', 'ratingCol': 'rating', 'numUserBlocks': 10, 'numItemBlocks': 10, 'regParam': 0.1}\n",
      "SPACE:                                                                             \n",
      "{'nonnegative': True, 'seed': 239566, 'coldStartStrategy': 'nan', 'rank': 15, 'itemCol': 'movieId', 'implicitPrefs': True, 'maxIter': 10, 'alpha': 1.5, 'userCol': 'userId', 'ratingCol': 'rating', 'numUserBlocks': 10, 'numItemBlocks': 10, 'regParam': 0.1}\n",
      "SPACE:                                                                             \n",
      "{'nonnegative': False, 'seed': 239566, 'coldStartStrategy': 'nan', 'rank': 12, 'itemCol': 'movieId', 'implicitPrefs': True, 'maxIter': 10, 'alpha': 1.5, 'userCol': 'userId', 'ratingCol': 'rating', 'numUserBlocks': 10, 'numItemBlocks': 10, 'regParam': 0.1}\n",
      "SPACE:                                                                             \n",
      "{'nonnegative': False, 'seed': 239566, 'coldStartStrategy': 'nan', 'rank': 8, 'itemCol': 'movieId', 'implicitPrefs': True, 'maxIter': 10, 'alpha': 1.5, 'userCol': 'userId', 'ratingCol': 'rating', 'numUserBlocks': 10, 'numItemBlocks': 10, 'regParam': 0.1}\n",
      "SPACE:                                                                             \n",
      "{'nonnegative': False, 'seed': 239566, 'coldStartStrategy': 'nan', 'rank': 15, 'itemCol': 'movieId', 'implicitPrefs': True, 'maxIter': 10, 'alpha': 1.5, 'userCol': 'userId', 'ratingCol': 'rating', 'numUserBlocks': 10, 'numItemBlocks': 10, 'regParam': 0.1}\n",
      "SPACE:                                                                             \n",
      "{'nonnegative': False, 'seed': 239566, 'coldStartStrategy': 'nan', 'rank': 15, 'itemCol': 'movieId', 'implicitPrefs': True, 'maxIter': 10, 'alpha': 1.5, 'userCol': 'userId', 'ratingCol': 'rating', 'numUserBlocks': 10, 'numItemBlocks': 10, 'regParam': 0.1}\n",
      "SPACE:                                                                             \n",
      "{'nonnegative': True, 'seed': 239566, 'coldStartStrategy': 'nan', 'rank': 10, 'itemCol': 'movieId', 'implicitPrefs': True, 'maxIter': 10, 'alpha': 1.5, 'userCol': 'userId', 'ratingCol': 'rating', 'numUserBlocks': 10, 'numItemBlocks': 10, 'regParam': 0.1}\n",
      "SPACE:                                                                             \n",
      "{'nonnegative': True, 'seed': 239566, 'coldStartStrategy': 'nan', 'rank': 10, 'itemCol': 'movieId', 'implicitPrefs': True, 'maxIter': 10, 'alpha': 1.5, 'userCol': 'userId', 'ratingCol': 'rating', 'numUserBlocks': 10, 'numItemBlocks': 10, 'regParam': 0.1}\n",
      "SPACE:                                                                             \n",
      "{'nonnegative': True, 'seed': 239566, 'coldStartStrategy': 'nan', 'rank': 12, 'itemCol': 'movieId', 'implicitPrefs': True, 'maxIter': 10, 'alpha': 1.5, 'userCol': 'userId', 'ratingCol': 'rating', 'numUserBlocks': 10, 'numItemBlocks': 10, 'regParam': 0.1}\n",
      "SPACE:                                                                             \n",
      "{'nonnegative': True, 'seed': 239566, 'coldStartStrategy': 'nan', 'rank': 12, 'itemCol': 'movieId', 'implicitPrefs': True, 'maxIter': 10, 'alpha': 1.5, 'userCol': 'userId', 'ratingCol': 'rating', 'numUserBlocks': 10, 'numItemBlocks': 10, 'regParam': 0.1}\n",
      "SPACE:                                                                              \n",
      "{'nonnegative': True, 'seed': 239566, 'coldStartStrategy': 'nan', 'rank': 8, 'itemCol': 'movieId', 'implicitPrefs': True, 'maxIter': 10, 'alpha': 1.5, 'userCol': 'userId', 'ratingCol': 'rating', 'numUserBlocks': 10, 'numItemBlocks': 10, 'regParam': 0.1}\n",
      "SPACE:                                                                              \n",
      "{'nonnegative': False, 'seed': 239566, 'coldStartStrategy': 'nan', 'rank': 15, 'itemCol': 'movieId', 'implicitPrefs': True, 'maxIter': 10, 'alpha': 1.5, 'userCol': 'userId', 'ratingCol': 'rating', 'numUserBlocks': 10, 'numItemBlocks': 10, 'regParam': 0.1}\n",
      "SPACE:                                                                              \n",
      "{'nonnegative': False, 'seed': 239566, 'coldStartStrategy': 'nan', 'rank': 10, 'itemCol': 'movieId', 'implicitPrefs': True, 'maxIter': 10, 'alpha': 1.5, 'userCol': 'userId', 'ratingCol': 'rating', 'numUserBlocks': 10, 'numItemBlocks': 10, 'regParam': 0.1}\n",
      "SPACE:                                                                              \n",
      "{'nonnegative': True, 'seed': 239566, 'coldStartStrategy': 'nan', 'rank': 15, 'itemCol': 'movieId', 'implicitPrefs': True, 'maxIter': 10, 'alpha': 1.5, 'userCol': 'userId', 'ratingCol': 'rating', 'numUserBlocks': 10, 'numItemBlocks': 10, 'regParam': 0.1}\n",
      "SPACE:                                                                              \n",
      "{'nonnegative': False, 'seed': 239566, 'coldStartStrategy': 'nan', 'rank': 8, 'itemCol': 'movieId', 'implicitPrefs': True, 'maxIter': 10, 'alpha': 1.5, 'userCol': 'userId', 'ratingCol': 'rating', 'numUserBlocks': 10, 'numItemBlocks': 10, 'regParam': 0.1}\n",
      "SPACE:                                                                              \n",
      "{'nonnegative': True, 'seed': 239566, 'coldStartStrategy': 'nan', 'rank': 8, 'itemCol': 'movieId', 'implicitPrefs': True, 'maxIter': 10, 'alpha': 1.5, 'userCol': 'userId', 'ratingCol': 'rating', 'numUserBlocks': 10, 'numItemBlocks': 10, 'regParam': 0.1}\n",
      "SPACE:                                                                              \n",
      "{'nonnegative': True, 'seed': 239566, 'coldStartStrategy': 'nan', 'rank': 8, 'itemCol': 'movieId', 'implicitPrefs': True, 'maxIter': 10, 'alpha': 1.5, 'userCol': 'userId', 'ratingCol': 'rating', 'numUserBlocks': 10, 'numItemBlocks': 10, 'regParam': 0.1}\n",
      "SPACE:                                                                              \n",
      "{'nonnegative': False, 'seed': 239566, 'coldStartStrategy': 'nan', 'rank': 10, 'itemCol': 'movieId', 'implicitPrefs': True, 'maxIter': 10, 'alpha': 1.5, 'userCol': 'userId', 'ratingCol': 'rating', 'numUserBlocks': 10, 'numItemBlocks': 10, 'regParam': 0.1}\n",
      "SPACE:                                                                              \n",
      "{'nonnegative': True, 'seed': 239566, 'coldStartStrategy': 'nan', 'rank': 15, 'itemCol': 'movieId', 'implicitPrefs': True, 'maxIter': 10, 'alpha': 1.5, 'userCol': 'userId', 'ratingCol': 'rating', 'numUserBlocks': 10, 'numItemBlocks': 10, 'regParam': 0.1}\n",
      "SPACE:                                                                              \n",
      "{'nonnegative': True, 'seed': 239566, 'coldStartStrategy': 'nan', 'rank': 12, 'itemCol': 'movieId', 'implicitPrefs': True, 'maxIter': 10, 'alpha': 1.5, 'userCol': 'userId', 'ratingCol': 'rating', 'numUserBlocks': 10, 'numItemBlocks': 10, 'regParam': 0.1}\n",
      "100%|██████████| 20/20 [11:06<00:00, 33.34s/trial, best loss: -0.013427239133640618]\n",
      "CPU times: user 4.6 s, sys: 1.89 s, total: 6.49 s\n",
      "Wall time: 11min 6s\n"
     ]
    }
   ],
   "source": [
    "%%time\n",
    "\n",
    "rank_choice = [8, 10, 12, 15]\n",
    "nonnegative_choice = [True, False]\n",
    "\n",
    "space = {**best_parameters}\n",
    "space['rank'] = hp.choice('rank', rank_choice)\n",
    "space['nonnegative'] = hp.choice('nonnegative', nonnegative_choice)\n",
    "\n",
    "trials = Trials()\n",
    "best = fmin(fn=objective,\n",
    "            space=space,\n",
    "            algo=tpe.suggest,\n",
    "            max_evals=20,\n",
    "            trials=trials)\n",
    "best_parameters['rank'] = rank_choice[best['rank']]\n",
    "best_parameters['nonnegative'] = nonnegative_choice[best['nonnegative']]"
   ]
  },
  {
   "cell_type": "code",
   "execution_count": 24,
   "metadata": {},
   "outputs": [
    {
     "name": "stdout",
     "output_type": "stream",
     "text": [
      "SPACE:                                                \n",
      "{'nonnegative': False, 'seed': 239566, 'coldStartStrategy': 'nan', 'rank': 12, 'itemCol': 'movieId', 'implicitPrefs': True, 'maxIter': 5, 'alpha': 1.5, 'userCol': 'userId', 'ratingCol': 'rating', 'numUserBlocks': 10, 'numItemBlocks': 10, 'regParam': 0.01}\n",
      "SPACE:                                                                            \n",
      "{'nonnegative': False, 'seed': 239566, 'coldStartStrategy': 'nan', 'rank': 12, 'itemCol': 'movieId', 'implicitPrefs': True, 'maxIter': 5, 'alpha': 1.5, 'userCol': 'userId', 'ratingCol': 'rating', 'numUserBlocks': 10, 'numItemBlocks': 10, 'regParam': 0.01}\n",
      "SPACE:                                                                             \n",
      "{'nonnegative': False, 'seed': 239566, 'coldStartStrategy': 'nan', 'rank': 12, 'itemCol': 'movieId', 'implicitPrefs': True, 'maxIter': 10, 'alpha': 1.5, 'userCol': 'userId', 'ratingCol': 'rating', 'numUserBlocks': 10, 'numItemBlocks': 10, 'regParam': 0.1}\n",
      "SPACE:                                                                             \n",
      "{'nonnegative': False, 'seed': 239566, 'coldStartStrategy': 'nan', 'rank': 12, 'itemCol': 'movieId', 'implicitPrefs': True, 'maxIter': 5, 'alpha': 1.5, 'userCol': 'userId', 'ratingCol': 'rating', 'numUserBlocks': 10, 'numItemBlocks': 10, 'regParam': 0.5}\n",
      "SPACE:                                                                             \n",
      "{'nonnegative': False, 'seed': 239566, 'coldStartStrategy': 'nan', 'rank': 12, 'itemCol': 'movieId', 'implicitPrefs': True, 'maxIter': 15, 'alpha': 1.5, 'userCol': 'userId', 'ratingCol': 'rating', 'numUserBlocks': 10, 'numItemBlocks': 10, 'regParam': 0.01}\n",
      "SPACE:                                                                             \n",
      "{'nonnegative': False, 'seed': 239566, 'coldStartStrategy': 'nan', 'rank': 12, 'itemCol': 'movieId', 'implicitPrefs': True, 'maxIter': 10, 'alpha': 1.5, 'userCol': 'userId', 'ratingCol': 'rating', 'numUserBlocks': 10, 'numItemBlocks': 10, 'regParam': 1.0}\n",
      "SPACE:                                                                             \n",
      "{'nonnegative': False, 'seed': 239566, 'coldStartStrategy': 'nan', 'rank': 12, 'itemCol': 'movieId', 'implicitPrefs': True, 'maxIter': 5, 'alpha': 1.5, 'userCol': 'userId', 'ratingCol': 'rating', 'numUserBlocks': 10, 'numItemBlocks': 10, 'regParam': 0.01}\n",
      "SPACE:                                                                             \n",
      "{'nonnegative': False, 'seed': 239566, 'coldStartStrategy': 'nan', 'rank': 12, 'itemCol': 'movieId', 'implicitPrefs': True, 'maxIter': 10, 'alpha': 1.5, 'userCol': 'userId', 'ratingCol': 'rating', 'numUserBlocks': 10, 'numItemBlocks': 10, 'regParam': 0.5}\n",
      "SPACE:                                                                             \n",
      "{'nonnegative': False, 'seed': 239566, 'coldStartStrategy': 'nan', 'rank': 12, 'itemCol': 'movieId', 'implicitPrefs': True, 'maxIter': 15, 'alpha': 1.5, 'userCol': 'userId', 'ratingCol': 'rating', 'numUserBlocks': 10, 'numItemBlocks': 10, 'regParam': 0.01}\n",
      "SPACE:                                                                             \n",
      "{'nonnegative': False, 'seed': 239566, 'coldStartStrategy': 'nan', 'rank': 12, 'itemCol': 'movieId', 'implicitPrefs': True, 'maxIter': 5, 'alpha': 1.5, 'userCol': 'userId', 'ratingCol': 'rating', 'numUserBlocks': 10, 'numItemBlocks': 10, 'regParam': 0.01}\n",
      "SPACE:                                                                              \n",
      "{'nonnegative': False, 'seed': 239566, 'coldStartStrategy': 'nan', 'rank': 12, 'itemCol': 'movieId', 'implicitPrefs': True, 'maxIter': 15, 'alpha': 1.5, 'userCol': 'userId', 'ratingCol': 'rating', 'numUserBlocks': 10, 'numItemBlocks': 10, 'regParam': 0.01}\n",
      "SPACE:                                                                              \n",
      "{'nonnegative': False, 'seed': 239566, 'coldStartStrategy': 'nan', 'rank': 12, 'itemCol': 'movieId', 'implicitPrefs': True, 'maxIter': 15, 'alpha': 1.5, 'userCol': 'userId', 'ratingCol': 'rating', 'numUserBlocks': 10, 'numItemBlocks': 10, 'regParam': 0.01}\n",
      "SPACE:                                                                              \n",
      "{'nonnegative': False, 'seed': 239566, 'coldStartStrategy': 'nan', 'rank': 12, 'itemCol': 'movieId', 'implicitPrefs': True, 'maxIter': 5, 'alpha': 1.5, 'userCol': 'userId', 'ratingCol': 'rating', 'numUserBlocks': 10, 'numItemBlocks': 10, 'regParam': 0.1}\n",
      "SPACE:                                                                              \n",
      "{'nonnegative': False, 'seed': 239566, 'coldStartStrategy': 'nan', 'rank': 12, 'itemCol': 'movieId', 'implicitPrefs': True, 'maxIter': 10, 'alpha': 1.5, 'userCol': 'userId', 'ratingCol': 'rating', 'numUserBlocks': 10, 'numItemBlocks': 10, 'regParam': 0.01}\n",
      "SPACE:                                                                              \n",
      "{'nonnegative': False, 'seed': 239566, 'coldStartStrategy': 'nan', 'rank': 12, 'itemCol': 'movieId', 'implicitPrefs': True, 'maxIter': 10, 'alpha': 1.5, 'userCol': 'userId', 'ratingCol': 'rating', 'numUserBlocks': 10, 'numItemBlocks': 10, 'regParam': 1.0}\n",
      "SPACE:                                                                              \n",
      "{'nonnegative': False, 'seed': 239566, 'coldStartStrategy': 'nan', 'rank': 12, 'itemCol': 'movieId', 'implicitPrefs': True, 'maxIter': 10, 'alpha': 1.5, 'userCol': 'userId', 'ratingCol': 'rating', 'numUserBlocks': 10, 'numItemBlocks': 10, 'regParam': 1.0}\n",
      "SPACE:                                                                              \n",
      "{'nonnegative': False, 'seed': 239566, 'coldStartStrategy': 'nan', 'rank': 12, 'itemCol': 'movieId', 'implicitPrefs': True, 'maxIter': 5, 'alpha': 1.5, 'userCol': 'userId', 'ratingCol': 'rating', 'numUserBlocks': 10, 'numItemBlocks': 10, 'regParam': 0.5}\n",
      "SPACE:                                                                              \n",
      "{'nonnegative': False, 'seed': 239566, 'coldStartStrategy': 'nan', 'rank': 12, 'itemCol': 'movieId', 'implicitPrefs': True, 'maxIter': 15, 'alpha': 1.5, 'userCol': 'userId', 'ratingCol': 'rating', 'numUserBlocks': 10, 'numItemBlocks': 10, 'regParam': 0.1}\n",
      "SPACE:                                                                              \n",
      "{'nonnegative': False, 'seed': 239566, 'coldStartStrategy': 'nan', 'rank': 12, 'itemCol': 'movieId', 'implicitPrefs': True, 'maxIter': 15, 'alpha': 1.5, 'userCol': 'userId', 'ratingCol': 'rating', 'numUserBlocks': 10, 'numItemBlocks': 10, 'regParam': 0.01}\n",
      "SPACE:                                                                              \n",
      "{'nonnegative': False, 'seed': 239566, 'coldStartStrategy': 'nan', 'rank': 12, 'itemCol': 'movieId', 'implicitPrefs': True, 'maxIter': 10, 'alpha': 1.5, 'userCol': 'userId', 'ratingCol': 'rating', 'numUserBlocks': 10, 'numItemBlocks': 10, 'regParam': 0.5}\n",
      "100%|██████████| 20/20 [10:54<00:00, 32.70s/trial, best loss: -0.013650871766141706]\n",
      "CPU times: user 4.35 s, sys: 1.97 s, total: 6.32 s\n",
      "Wall time: 10min 54s\n"
     ]
    }
   ],
   "source": [
    "%%time\n",
    "\n",
    "max_iter_choice = [5, 10, 15]\n",
    "reg_param_choice = [0.01, 0.1, 0.5, 1.0]\n",
    "\n",
    "space = {**best_parameters}\n",
    "space['maxIter'] = hp.choice('maxIter', max_iter_choice)\n",
    "space['regParam'] = hp.choice('regParam', reg_param_choice)\n",
    "\n",
    "trials = Trials()\n",
    "best = fmin(fn=objective,\n",
    "            space=space,\n",
    "            algo=tpe.suggest,\n",
    "            max_evals=20,\n",
    "            trials=trials)\n",
    "best_parameters['maxIter'] = max_iter_choice[best['maxIter']]\n",
    "best_parameters['regParam'] = reg_param_choice[best['regParam']]"
   ]
  },
  {
   "cell_type": "code",
   "execution_count": 25,
   "metadata": {},
   "outputs": [
    {
     "data": {
      "text/plain": [
       "{'alpha': 1.5,\n",
       " 'coldStartStrategy': 'nan',\n",
       " 'implicitPrefs': True,\n",
       " 'itemCol': 'movieId',\n",
       " 'maxIter': 10,\n",
       " 'nonnegative': False,\n",
       " 'numItemBlocks': 10,\n",
       " 'numUserBlocks': 10,\n",
       " 'rank': 12,\n",
       " 'ratingCol': 'rating',\n",
       " 'regParam': 0.01,\n",
       " 'seed': 239566,\n",
       " 'userCol': 'userId'}"
      ]
     },
     "execution_count": 25,
     "metadata": {},
     "output_type": "execute_result"
    }
   ],
   "source": [
    "best_parameters"
   ]
  },
  {
   "cell_type": "code",
   "execution_count": 26,
   "metadata": {},
   "outputs": [
    {
     "name": "stdout",
     "output_type": "stream",
     "text": [
      "CPU times: user 243 ms, sys: 79.1 ms, total: 322 ms\n",
      "Wall time: 1min 51s\n"
     ]
    }
   ],
   "source": [
    "%%time\n",
    "tuned_als = ALS(**best_parameters)\n",
    "tuned_als_model = tuned_als.fit(train_ratings)\n",
    "all_metrics['als-tuned'] = calculate_metrics(\n",
    "        tuned_als_model,\n",
    "        lambda rec: rec.movieId,\n",
    "        test_ratings)"
   ]
  },
  {
   "cell_type": "markdown",
   "metadata": {},
   "source": [
    "### Примеры рекоммендаций"
   ]
  },
  {
   "cell_type": "code",
   "execution_count": 27,
   "metadata": {},
   "outputs": [],
   "source": [
    "def nearest_movies(movie_id, model, limit=20):\n",
    "    movie_factors = model.itemFactors\n",
    "\n",
    "    selected_movie_factors = movie_factors \\\n",
    "        .filter(F.col('id') == movie_id) \\\n",
    "        .select(F.col('id').alias('requestId'), F.col('features').alias('movieFeatures'))\n",
    "    \n",
    "    cosine_dist = F.udf(lambda x, y: float(spatial.distance.cosine(x, y)), FloatType())\n",
    "    \n",
    "    out = selected_movie_factors \\\n",
    "        .crossJoin(movie_factors) \\\n",
    "        .withColumn('dist', cosine_dist('movieFeatures', 'features')) \\\n",
    "        .select('requestId', F.col('id').alias('recommendationId'), 'dist') \\\n",
    "        .join(movies_df, F.col('recommendationId') == movies_df['movieId']) \\\n",
    "        .filter(F.col('recommendationId') != movie_id) \\\n",
    "        .sort(F.col('dist')) \\\n",
    "        .limit(limit) \\\n",
    "        .select('movieId', 'dist', 'title', 'genres')\n",
    "    return out"
   ]
  },
  {
   "cell_type": "markdown",
   "metadata": {},
   "source": [
    "#### Фильмы, похожие на 'Железный Человек' (2008)"
   ]
  },
  {
   "cell_type": "code",
   "execution_count": 28,
   "metadata": {},
   "outputs": [
    {
     "data": {
      "text/html": [
       "<div>\n",
       "<style scoped>\n",
       "    .dataframe tbody tr th:only-of-type {\n",
       "        vertical-align: middle;\n",
       "    }\n",
       "\n",
       "    .dataframe tbody tr th {\n",
       "        vertical-align: top;\n",
       "    }\n",
       "\n",
       "    .dataframe thead th {\n",
       "        text-align: right;\n",
       "    }\n",
       "</style>\n",
       "<table border=\"1\" class=\"dataframe\">\n",
       "  <thead>\n",
       "    <tr style=\"text-align: right;\">\n",
       "      <th></th>\n",
       "      <th>title</th>\n",
       "      <th>genres</th>\n",
       "      <th>dist</th>\n",
       "    </tr>\n",
       "  </thead>\n",
       "  <tbody>\n",
       "    <tr>\n",
       "      <th>0</th>\n",
       "      <td>X-Men: First Class (2011)</td>\n",
       "      <td>Action|Adventure|Sci-Fi|Thriller|War</td>\n",
       "      <td>0.006534</td>\n",
       "    </tr>\n",
       "    <tr>\n",
       "      <th>1</th>\n",
       "      <td>X-Men: Days of Future Past (2014)</td>\n",
       "      <td>Action|Adventure|Sci-Fi</td>\n",
       "      <td>0.008488</td>\n",
       "    </tr>\n",
       "    <tr>\n",
       "      <th>2</th>\n",
       "      <td>Game Changers (2017)</td>\n",
       "      <td>Documentary</td>\n",
       "      <td>0.008959</td>\n",
       "    </tr>\n",
       "    <tr>\n",
       "      <th>3</th>\n",
       "      <td>Guardians of the Galaxy 2 (2017)</td>\n",
       "      <td>Action|Adventure|Sci-Fi</td>\n",
       "      <td>0.009209</td>\n",
       "    </tr>\n",
       "    <tr>\n",
       "      <th>4</th>\n",
       "      <td>Star Trek (2009)</td>\n",
       "      <td>Action|Adventure|Sci-Fi|IMAX</td>\n",
       "      <td>0.010212</td>\n",
       "    </tr>\n",
       "    <tr>\n",
       "      <th>5</th>\n",
       "      <td>Guardians of the Galaxy (2014)</td>\n",
       "      <td>Action|Adventure|Sci-Fi</td>\n",
       "      <td>0.011228</td>\n",
       "    </tr>\n",
       "    <tr>\n",
       "      <th>6</th>\n",
       "      <td>Avengers, The (2012)</td>\n",
       "      <td>Action|Adventure|Sci-Fi|IMAX</td>\n",
       "      <td>0.011908</td>\n",
       "    </tr>\n",
       "    <tr>\n",
       "      <th>7</th>\n",
       "      <td>Doctor Strange (2016)</td>\n",
       "      <td>Action|Adventure|Sci-Fi</td>\n",
       "      <td>0.012976</td>\n",
       "    </tr>\n",
       "    <tr>\n",
       "      <th>8</th>\n",
       "      <td>Ant-Man (2015)</td>\n",
       "      <td>Action|Adventure|Sci-Fi</td>\n",
       "      <td>0.013271</td>\n",
       "    </tr>\n",
       "    <tr>\n",
       "      <th>9</th>\n",
       "      <td>Marvel One-Shot: All Hail the King (2014)</td>\n",
       "      <td>Action|Comedy|Drama|Fantasy|Thriller</td>\n",
       "      <td>0.013656</td>\n",
       "    </tr>\n",
       "    <tr>\n",
       "      <th>10</th>\n",
       "      <td>Myq Kaplan: Small, Dork and Handsome (2014)</td>\n",
       "      <td>Comedy</td>\n",
       "      <td>0.014317</td>\n",
       "    </tr>\n",
       "    <tr>\n",
       "      <th>11</th>\n",
       "      <td>King Charles III (2017)</td>\n",
       "      <td>Drama</td>\n",
       "      <td>0.014972</td>\n",
       "    </tr>\n",
       "    <tr>\n",
       "      <th>12</th>\n",
       "      <td>Star Trek Into Darkness (2013)</td>\n",
       "      <td>Action|Adventure|Sci-Fi|IMAX</td>\n",
       "      <td>0.016086</td>\n",
       "    </tr>\n",
       "    <tr>\n",
       "      <th>13</th>\n",
       "      <td>Captain America: The Winter Soldier (2014)</td>\n",
       "      <td>Action|Adventure|Sci-Fi|IMAX</td>\n",
       "      <td>0.016453</td>\n",
       "    </tr>\n",
       "    <tr>\n",
       "      <th>14</th>\n",
       "      <td>Incredible Hulk, The (2008)</td>\n",
       "      <td>Action|Sci-Fi</td>\n",
       "      <td>0.016946</td>\n",
       "    </tr>\n",
       "    <tr>\n",
       "      <th>15</th>\n",
       "      <td>Captain America: Civil War (2016)</td>\n",
       "      <td>Action|Sci-Fi|Thriller</td>\n",
       "      <td>0.017303</td>\n",
       "    </tr>\n",
       "    <tr>\n",
       "      <th>16</th>\n",
       "      <td>Midnight Ride (1990)</td>\n",
       "      <td>(no genres listed)</td>\n",
       "      <td>0.017654</td>\n",
       "    </tr>\n",
       "    <tr>\n",
       "      <th>17</th>\n",
       "      <td>The Time Guardian (1987)</td>\n",
       "      <td>Sci-Fi</td>\n",
       "      <td>0.017654</td>\n",
       "    </tr>\n",
       "    <tr>\n",
       "      <th>18</th>\n",
       "      <td>Mission: Impossible - Ghost Protocol (2011)</td>\n",
       "      <td>Action|Adventure|Thriller|IMAX</td>\n",
       "      <td>0.018010</td>\n",
       "    </tr>\n",
       "    <tr>\n",
       "      <th>19</th>\n",
       "      <td>Aiyyaa (2012)</td>\n",
       "      <td>Comedy|Romance</td>\n",
       "      <td>0.018042</td>\n",
       "    </tr>\n",
       "  </tbody>\n",
       "</table>\n",
       "</div>"
      ],
      "text/plain": [
       "                                          title  \\\n",
       "0                     X-Men: First Class (2011)   \n",
       "1             X-Men: Days of Future Past (2014)   \n",
       "2                          Game Changers (2017)   \n",
       "3              Guardians of the Galaxy 2 (2017)   \n",
       "4                              Star Trek (2009)   \n",
       "5                Guardians of the Galaxy (2014)   \n",
       "6                          Avengers, The (2012)   \n",
       "7                         Doctor Strange (2016)   \n",
       "8                                Ant-Man (2015)   \n",
       "9     Marvel One-Shot: All Hail the King (2014)   \n",
       "10  Myq Kaplan: Small, Dork and Handsome (2014)   \n",
       "11                      King Charles III (2017)   \n",
       "12               Star Trek Into Darkness (2013)   \n",
       "13   Captain America: The Winter Soldier (2014)   \n",
       "14                  Incredible Hulk, The (2008)   \n",
       "15            Captain America: Civil War (2016)   \n",
       "16                         Midnight Ride (1990)   \n",
       "17                     The Time Guardian (1987)   \n",
       "18  Mission: Impossible - Ghost Protocol (2011)   \n",
       "19                                Aiyyaa (2012)   \n",
       "\n",
       "                                  genres      dist  \n",
       "0   Action|Adventure|Sci-Fi|Thriller|War  0.006534  \n",
       "1                Action|Adventure|Sci-Fi  0.008488  \n",
       "2                            Documentary  0.008959  \n",
       "3                Action|Adventure|Sci-Fi  0.009209  \n",
       "4           Action|Adventure|Sci-Fi|IMAX  0.010212  \n",
       "5                Action|Adventure|Sci-Fi  0.011228  \n",
       "6           Action|Adventure|Sci-Fi|IMAX  0.011908  \n",
       "7                Action|Adventure|Sci-Fi  0.012976  \n",
       "8                Action|Adventure|Sci-Fi  0.013271  \n",
       "9   Action|Comedy|Drama|Fantasy|Thriller  0.013656  \n",
       "10                                Comedy  0.014317  \n",
       "11                                 Drama  0.014972  \n",
       "12          Action|Adventure|Sci-Fi|IMAX  0.016086  \n",
       "13          Action|Adventure|Sci-Fi|IMAX  0.016453  \n",
       "14                         Action|Sci-Fi  0.016946  \n",
       "15                Action|Sci-Fi|Thriller  0.017303  \n",
       "16                    (no genres listed)  0.017654  \n",
       "17                                Sci-Fi  0.017654  \n",
       "18        Action|Adventure|Thriller|IMAX  0.018010  \n",
       "19                        Comedy|Romance  0.018042  "
      ]
     },
     "execution_count": 28,
     "metadata": {},
     "output_type": "execute_result"
    }
   ],
   "source": [
    "res = nearest_movies(59315, baseline_als_model)\n",
    "pd.DataFrame(res.select('title', 'genres', 'dist').collect(), \n",
    "             columns=['title', 'genres', 'dist'])\n",
    "   "
   ]
  },
  {
   "cell_type": "markdown",
   "metadata": {},
   "source": [
    "#### Фильмы, похожие на 'Брюс Всемогущий' (2003)"
   ]
  },
  {
   "cell_type": "code",
   "execution_count": 29,
   "metadata": {},
   "outputs": [
    {
     "data": {
      "text/html": [
       "<div>\n",
       "<style scoped>\n",
       "    .dataframe tbody tr th:only-of-type {\n",
       "        vertical-align: middle;\n",
       "    }\n",
       "\n",
       "    .dataframe tbody tr th {\n",
       "        vertical-align: top;\n",
       "    }\n",
       "\n",
       "    .dataframe thead th {\n",
       "        text-align: right;\n",
       "    }\n",
       "</style>\n",
       "<table border=\"1\" class=\"dataframe\">\n",
       "  <thead>\n",
       "    <tr style=\"text-align: right;\">\n",
       "      <th></th>\n",
       "      <th>title</th>\n",
       "      <th>genres</th>\n",
       "      <th>dist</th>\n",
       "    </tr>\n",
       "  </thead>\n",
       "  <tbody>\n",
       "    <tr>\n",
       "      <th>0</th>\n",
       "      <td>Yes Man (2008)</td>\n",
       "      <td>Comedy</td>\n",
       "      <td>0.007936</td>\n",
       "    </tr>\n",
       "    <tr>\n",
       "      <th>1</th>\n",
       "      <td>Whole Nine Yards, The (2000)</td>\n",
       "      <td>Comedy|Crime</td>\n",
       "      <td>0.008836</td>\n",
       "    </tr>\n",
       "    <tr>\n",
       "      <th>2</th>\n",
       "      <td>Having You (2013)</td>\n",
       "      <td>Comedy|Drama</td>\n",
       "      <td>0.009344</td>\n",
       "    </tr>\n",
       "    <tr>\n",
       "      <th>3</th>\n",
       "      <td>Nothing to Lose (1997)</td>\n",
       "      <td>Action|Adventure|Comedy|Crime</td>\n",
       "      <td>0.010040</td>\n",
       "    </tr>\n",
       "    <tr>\n",
       "      <th>4</th>\n",
       "      <td>Solstice (2008)</td>\n",
       "      <td>Drama|Horror|Thriller</td>\n",
       "      <td>0.010344</td>\n",
       "    </tr>\n",
       "    <tr>\n",
       "      <th>5</th>\n",
       "      <td>Fun with Dick and Jane (2005)</td>\n",
       "      <td>Comedy|Crime</td>\n",
       "      <td>0.010578</td>\n",
       "    </tr>\n",
       "    <tr>\n",
       "      <th>6</th>\n",
       "      <td>Ursul (2011)</td>\n",
       "      <td>Comedy|Drama</td>\n",
       "      <td>0.010825</td>\n",
       "    </tr>\n",
       "    <tr>\n",
       "      <th>7</th>\n",
       "      <td>Necessary Roughness (1991)</td>\n",
       "      <td>Comedy</td>\n",
       "      <td>0.011940</td>\n",
       "    </tr>\n",
       "    <tr>\n",
       "      <th>8</th>\n",
       "      <td>Il cosmo sul comò (2008)</td>\n",
       "      <td>Comedy</td>\n",
       "      <td>0.011948</td>\n",
       "    </tr>\n",
       "    <tr>\n",
       "      <th>9</th>\n",
       "      <td>Domani mi sposo (1984)</td>\n",
       "      <td>(no genres listed)</td>\n",
       "      <td>0.011948</td>\n",
       "    </tr>\n",
       "    <tr>\n",
       "      <th>10</th>\n",
       "      <td>Grey Owl (1999)</td>\n",
       "      <td>Action|Drama|Romance|Western</td>\n",
       "      <td>0.011948</td>\n",
       "    </tr>\n",
       "    <tr>\n",
       "      <th>11</th>\n",
       "      <td>Tiramisù (2016)</td>\n",
       "      <td>Comedy</td>\n",
       "      <td>0.011948</td>\n",
       "    </tr>\n",
       "    <tr>\n",
       "      <th>12</th>\n",
       "      <td>West Coast (2016)</td>\n",
       "      <td>Comedy</td>\n",
       "      <td>0.011948</td>\n",
       "    </tr>\n",
       "    <tr>\n",
       "      <th>13</th>\n",
       "      <td>Kissing a Fool (1998)</td>\n",
       "      <td>Comedy|Romance</td>\n",
       "      <td>0.012347</td>\n",
       "    </tr>\n",
       "    <tr>\n",
       "      <th>14</th>\n",
       "      <td>Nothing to Lose (1994)</td>\n",
       "      <td>Action|Crime|Drama</td>\n",
       "      <td>0.013105</td>\n",
       "    </tr>\n",
       "    <tr>\n",
       "      <th>15</th>\n",
       "      <td>Bedazzled (2000)</td>\n",
       "      <td>Comedy</td>\n",
       "      <td>0.013458</td>\n",
       "    </tr>\n",
       "    <tr>\n",
       "      <th>16</th>\n",
       "      <td>Mickey (2003)</td>\n",
       "      <td>Crime|Drama</td>\n",
       "      <td>0.013604</td>\n",
       "    </tr>\n",
       "    <tr>\n",
       "      <th>17</th>\n",
       "      <td>Kill Game (2015)</td>\n",
       "      <td>Horror</td>\n",
       "      <td>0.013750</td>\n",
       "    </tr>\n",
       "    <tr>\n",
       "      <th>18</th>\n",
       "      <td>Coyote's Morning (2001)</td>\n",
       "      <td>Action|Comedy|Drama|Romance</td>\n",
       "      <td>0.013793</td>\n",
       "    </tr>\n",
       "    <tr>\n",
       "      <th>19</th>\n",
       "      <td>Casanova's Big Night (1954)</td>\n",
       "      <td>Adventure|Comedy</td>\n",
       "      <td>0.013815</td>\n",
       "    </tr>\n",
       "  </tbody>\n",
       "</table>\n",
       "</div>"
      ],
      "text/plain": [
       "                            title                         genres      dist\n",
       "0                  Yes Man (2008)                         Comedy  0.007936\n",
       "1    Whole Nine Yards, The (2000)                   Comedy|Crime  0.008836\n",
       "2               Having You (2013)                   Comedy|Drama  0.009344\n",
       "3          Nothing to Lose (1997)  Action|Adventure|Comedy|Crime  0.010040\n",
       "4                 Solstice (2008)          Drama|Horror|Thriller  0.010344\n",
       "5   Fun with Dick and Jane (2005)                   Comedy|Crime  0.010578\n",
       "6                    Ursul (2011)                   Comedy|Drama  0.010825\n",
       "7      Necessary Roughness (1991)                         Comedy  0.011940\n",
       "8        Il cosmo sul comò (2008)                         Comedy  0.011948\n",
       "9          Domani mi sposo (1984)             (no genres listed)  0.011948\n",
       "10                Grey Owl (1999)   Action|Drama|Romance|Western  0.011948\n",
       "11                Tiramisù (2016)                         Comedy  0.011948\n",
       "12              West Coast (2016)                         Comedy  0.011948\n",
       "13          Kissing a Fool (1998)                 Comedy|Romance  0.012347\n",
       "14         Nothing to Lose (1994)             Action|Crime|Drama  0.013105\n",
       "15               Bedazzled (2000)                         Comedy  0.013458\n",
       "16                  Mickey (2003)                    Crime|Drama  0.013604\n",
       "17               Kill Game (2015)                         Horror  0.013750\n",
       "18        Coyote's Morning (2001)    Action|Comedy|Drama|Romance  0.013793\n",
       "19    Casanova's Big Night (1954)               Adventure|Comedy  0.013815"
      ]
     },
     "execution_count": 29,
     "metadata": {},
     "output_type": "execute_result"
    }
   ],
   "source": [
    "res = nearest_movies(6373, baseline_als_model)\n",
    "pd.DataFrame(res.select('title', 'genres', 'dist').collect(), \n",
    "             columns=['title', 'genres', 'dist'])"
   ]
  },
  {
   "cell_type": "markdown",
   "metadata": {},
   "source": [
    "### Ваша формулировка\n",
    "\n",
    "На лекции было еще несколько ML формулировок задачи рекомендаций. Выберете одну из них и реализуйте метод."
   ]
  },
  {
   "cell_type": "code",
   "execution_count": null,
   "metadata": {},
   "outputs": [],
   "source": [
    "import pickle\n",
    "\n",
    "def save_as_tensors(df, dst):\n",
    "    data_rows = df\\\n",
    "        .withColumn('partitial_ratings_list', F.collect_list('movieId')\\\n",
    "                    .over(Window.partitionBy('userId').orderBy('timestamp')))\\\n",
    "        .groupBy('userId')\\\n",
    "        .agg(F.max('partitial_ratings_list').alias('ratings_list'))\\\n",
    "        .sort('userId')\\\n",
    "        .collect()\n",
    "    users_ids = [row.userId for row in data_rows] \n",
    "    ratings_lists = [row.ratings_list for row in data_rows] \n",
    "    with open(dst, 'wb') as file:\n",
    "        pickle.dump((users_ids, ratings_lists), file)\n",
    "    \n",
    "save_as_tensors(train_ratings, \"train.pkl\")\n",
    "save_as_tensors(validate_ratings, \"validate.pkl\")\n",
    "save_as_tensors(test_ratings, \"test.pkl\")"
   ]
  },
  {
   "cell_type": "markdown",
   "metadata": {},
   "source": [
    "## Evaluation Results\n",
    "\n",
    "Сравните реализованные методы с помощью выбранных метрик. Не забывайте про оптимизацию гиперпараметров."
   ]
  },
  {
   "cell_type": "code",
   "execution_count": null,
   "metadata": {},
   "outputs": [],
   "source": [
    "show_metrics(all_metrics)"
   ]
  },
  {
   "cell_type": "code",
   "execution_count": null,
   "metadata": {},
   "outputs": [],
   "source": [
    "get_ate(all_metrics, \"baseline\")"
   ]
  }
 ],
 "metadata": {
  "kernelspec": {
   "display_name": "Python 3",
   "language": "python",
   "name": "python3"
  },
  "language_info": {
   "codemirror_mode": {
    "name": "ipython",
    "version": 3
   },
   "file_extension": ".py",
   "mimetype": "text/x-python",
   "name": "python",
   "nbconvert_exporter": "python",
   "pygments_lexer": "ipython3",
   "version": "3.5.6"
  },
  "toc": {
   "base_numbering": 1,
   "nav_menu": {},
   "number_sections": true,
   "sideBar": true,
   "skip_h1_title": false,
   "title_cell": "Table of Contents",
   "title_sidebar": "Contents",
   "toc_cell": true,
   "toc_position": {},
   "toc_section_display": true,
   "toc_window_display": true
  }
 },
 "nbformat": 4,
 "nbformat_minor": 2
}
