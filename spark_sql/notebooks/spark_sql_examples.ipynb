{
 "cells": [
  {
   "cell_type": "markdown",
   "metadata": {},
   "source": [
    "# Spark SQL\n",
    "\n",
    "Before you begin, make sure that you've installed spark of version `2.3` or higher (see `README.md`)\n",
    "\n",
    "**Links**\n",
    "\n",
    "* https://spark.apache.org/docs/latest/sql-getting-started.html"
   ]
  },
  {
   "cell_type": "code",
   "execution_count": 1,
   "metadata": {},
   "outputs": [
    {
     "name": "stdout",
     "output_type": "stream",
     "text": [
      "/workspace/spark_sql/notebooks\r\n",
      "-rw-r--r-- 1 root root 1.2K Feb  4 16:31 README.md\r\n"
     ]
    }
   ],
   "source": [
    "!pwd && ls -lah | grep README"
   ]
  },
  {
   "cell_type": "markdown",
   "metadata": {},
   "source": [
    "## Запуск spark"
   ]
  },
  {
   "cell_type": "code",
   "execution_count": 2,
   "metadata": {},
   "outputs": [],
   "source": [
    "%matplotlib inline\n",
    "%config InlineBackend.figure_format ='retina'\n",
    "\n",
    "import os\n",
    "import sys\n",
    "import glob\n",
    "import pickle\n",
    "import seaborn as sns\n",
    "import matplotlib.pyplot as plt\n",
    "\n",
    "import pyspark\n",
    "from pyspark.conf import SparkConf\n",
    "from pyspark.sql import SQLContext\n",
    "from pyspark.sql import SparkSession\n",
    "\n",
    "\n",
    "spark = SparkSession \\\n",
    "    .builder \\\n",
    "    .master('local[*]') \\\n",
    "    .appName(\"spark_sql_examples\") \\\n",
    "    .config(\"spark.executor.memory\", \"16g\") \\\n",
    "    .config(\"spark.driver.memory\", \"16g\") \\\n",
    "    .getOrCreate()\n",
    "\n",
    "sc = spark.sparkContext\n",
    "sqlContext = SQLContext(sc)"
   ]
  },
  {
   "cell_type": "code",
   "execution_count": 3,
   "metadata": {},
   "outputs": [],
   "source": [
    "DATA_PATH = '/workspace/data/ml-25m'\n",
    "\n",
    "RATINGS_PATH = os.path.join(DATA_PATH, 'ratings.csv')\n",
    "MOVIES_PATH = os.path.join(DATA_PATH, 'movies.csv')\n",
    "TAGS_PATH = os.path.join(DATA_PATH, 'tags.csv')"
   ]
  },
  {
   "cell_type": "markdown",
   "metadata": {},
   "source": [
    "---\n",
    "## DataFrame creation\n",
    "\n",
    "DataFrame можно создать несколькими способами:\n",
    "\n",
    "* из файла\n",
    "* из существующего RDD\n",
    "* из другого DataFrame'a\n",
    "\n",
    "### From file\n",
    "\n",
    "В случае с созданием из csv файла, может понадобится указать схему"
   ]
  },
  {
   "cell_type": "code",
   "execution_count": 4,
   "metadata": {},
   "outputs": [],
   "source": [
    "from pyspark.sql.types import *\n",
    "\n",
    "\n",
    "schema = StructType([\n",
    "    StructField('user_id', IntegerType()),\n",
    "    StructField('movie_id', IntegerType()),\n",
    "    StructField('rating', FloatType()),\n",
    "    StructField('timestamp', IntegerType())\n",
    "])\n",
    "\n",
    "ratings_df = sqlContext.read \\\n",
    "    .format('com.databricks.spark.csv') \\\n",
    "    .schema(schema) \\\n",
    "    .options(header='true', delimiter=',') \\\n",
    "    .load('file:///' + RATINGS_PATH)"
   ]
  },
  {
   "cell_type": "code",
   "execution_count": 5,
   "metadata": {},
   "outputs": [
    {
     "name": "stdout",
     "output_type": "stream",
     "text": [
      "root\n",
      " |-- user_id: integer (nullable = true)\n",
      " |-- movie_id: integer (nullable = true)\n",
      " |-- rating: float (nullable = true)\n",
      " |-- timestamp: integer (nullable = true)\n",
      "\n"
     ]
    }
   ],
   "source": [
    "ratings_df.printSchema()"
   ]
  },
  {
   "cell_type": "code",
   "execution_count": 6,
   "metadata": {},
   "outputs": [
    {
     "data": {
      "text/plain": [
       "[Row(user_id=1, movie_id=296, rating=5.0, timestamp=1147880044),\n",
       " Row(user_id=1, movie_id=306, rating=3.5, timestamp=1147868817),\n",
       " Row(user_id=1, movie_id=307, rating=5.0, timestamp=1147868828),\n",
       " Row(user_id=1, movie_id=665, rating=5.0, timestamp=1147878820),\n",
       " Row(user_id=1, movie_id=899, rating=3.5, timestamp=1147868510)]"
      ]
     },
     "execution_count": 6,
     "metadata": {},
     "output_type": "execute_result"
    }
   ],
   "source": [
    "ratings_df.take(5)"
   ]
  },
  {
   "cell_type": "markdown",
   "metadata": {},
   "source": [
    "### From RDD\n",
    "\n",
    "Для того чтобы построить DataFrame из RDD нужно у RDD вызвать метод `toDF`.\n",
    "\n",
    "*Remark:* RDD можно получить из DataFrame с помощью аттрибута `rdd`."
   ]
  },
  {
   "cell_type": "code",
   "execution_count": 7,
   "metadata": {},
   "outputs": [],
   "source": [
    "ratings = sc.textFile('file:///' + RATINGS_PATH)"
   ]
  },
  {
   "cell_type": "code",
   "execution_count": 8,
   "metadata": {},
   "outputs": [
    {
     "data": {
      "text/plain": [
       "['userId,movieId,rating,timestamp',\n",
       " '1,296,5.0,1147880044',\n",
       " '1,306,3.5,1147868817',\n",
       " '1,307,5.0,1147868828',\n",
       " '1,665,5.0,1147878820']"
      ]
     },
     "execution_count": 8,
     "metadata": {},
     "output_type": "execute_result"
    }
   ],
   "source": [
    "ratings.take(5)"
   ]
  },
  {
   "cell_type": "code",
   "execution_count": 9,
   "metadata": {},
   "outputs": [],
   "source": [
    "from pyspark.sql import Row\n",
    "\n",
    "\n",
    "ratings_df = ratings \\\n",
    "    .map(lambda s: s.split(',')) \\\n",
    "    .filter(lambda arr: arr[0].isdigit()) \\\n",
    "    .map(lambda arr: Row(user_id=int(arr[0]), \n",
    "                         movie_id=int(arr[1]), \n",
    "                         rating=float(arr[2]), \n",
    "                         timestamp=int(arr[3])))\\\n",
    "    .toDF()"
   ]
  },
  {
   "cell_type": "code",
   "execution_count": 10,
   "metadata": {},
   "outputs": [
    {
     "name": "stdout",
     "output_type": "stream",
     "text": [
      "root\n",
      " |-- movie_id: long (nullable = true)\n",
      " |-- rating: double (nullable = true)\n",
      " |-- timestamp: long (nullable = true)\n",
      " |-- user_id: long (nullable = true)\n",
      "\n"
     ]
    }
   ],
   "source": [
    "ratings_df.printSchema()"
   ]
  },
  {
   "cell_type": "markdown",
   "metadata": {},
   "source": [
    "---\n",
    "## DataFrame API"
   ]
  },
  {
   "cell_type": "code",
   "execution_count": 11,
   "metadata": {},
   "outputs": [],
   "source": [
    "import pyspark.sql.functions as F\n",
    "\n",
    "\n",
    "movies_df = sqlContext.read.format(\"com.databricks.spark.csv\") \\\n",
    "    .option(\"delimiter\", \",\") \\\n",
    "    .option(\"header\", \"true\") \\\n",
    "    .option(\"inferSchema\", \"true\") \\\n",
    "    .load('file:///' + MOVIES_PATH)"
   ]
  },
  {
   "cell_type": "code",
   "execution_count": 12,
   "metadata": {},
   "outputs": [
    {
     "name": "stdout",
     "output_type": "stream",
     "text": [
      "root\n",
      " |-- movieId: integer (nullable = true)\n",
      " |-- title: string (nullable = true)\n",
      " |-- genres: string (nullable = true)\n",
      "\n"
     ]
    }
   ],
   "source": [
    "movies_df.printSchema()"
   ]
  },
  {
   "cell_type": "markdown",
   "metadata": {},
   "source": [
    "### Фильмы с наибольшим средним рейтингом\n",
    "\n",
    "Найти 10 фильмов с наибольшим средним рейтингом. Вывести их названия и средний рейтинг.\n",
    "\n",
    "Сравните код ниже с кодом, использующим RDD API (см. `apache_spark/notebooks/spark_examples.ipynb`):\n",
    "\n",
    "```\n",
    "ratings \\\n",
    "    .map(lambda r: (r.movie_id, (r.rating, 1))) \\\n",
    "    .reduceByKey(lambda a, b: (a[0] + b[0], a[1] + b[1])) \\\n",
    "    .mapValues(lambda ratings: ratings[0] / ratings[1]) \\\n",
    "    .join(movies) \\\n",
    "    .sortBy(lambda key_value: key_value[1][0], ascending=False) \\\n",
    "    .take(10)\n",
    "```"
   ]
  },
  {
   "cell_type": "code",
   "execution_count": 13,
   "metadata": {},
   "outputs": [
    {
     "data": {
      "text/plain": [
       "[Row(movie_id=159053, mean_rating=5.0, ratings_count=1, movieId=159053, title='In Her Line of Fire (2006)', genres='Action|Drama|Thriller'),\n",
       " Row(movie_id=199756, mean_rating=5.0, ratings_count=1, movieId=199756, title='Zum Teufel mit der Penne (1968)', genres='Comedy'),\n",
       " Row(movie_id=174971, mean_rating=5.0, ratings_count=1, movieId=174971, title='This Thing of Ours (2005)', genres='Action|Drama|Thriller'),\n",
       " Row(movie_id=209155, mean_rating=5.0, ratings_count=1, movieId=209155, title='Santosh Subramaniam (2008)', genres='Action|Comedy|Romance'),\n",
       " Row(movie_id=123959, mean_rating=5.0, ratings_count=1, movieId=123959, title='Groupie (2010)', genres='Horror|Thriller'),\n",
       " Row(movie_id=144200, mean_rating=5.0, ratings_count=1, movieId=144200, title='Lonely Boy (2013)', genres='Comedy|Drama'),\n",
       " Row(movie_id=145060, mean_rating=5.0, ratings_count=1, movieId=145060, title='Tales From the Dark 1 (2013)', genres='Horror'),\n",
       " Row(movie_id=145232, mean_rating=5.0, ratings_count=1, movieId=145232, title='Million Dollar Crocodile (2012)', genres='Crime|Drama|Horror|Thriller'),\n",
       " Row(movie_id=136996, mean_rating=5.0, ratings_count=1, movieId=136996, title='The Wrong Girl (1999)', genres='Drama|Thriller'),\n",
       " Row(movie_id=195211, mean_rating=5.0, ratings_count=1, movieId=195211, title='Junk (2012)', genres='Comedy')]"
      ]
     },
     "execution_count": 13,
     "metadata": {},
     "output_type": "execute_result"
    }
   ],
   "source": [
    "ratings_df \\\n",
    "    .groupby('movie_id') \\\n",
    "    .agg(F.mean('rating').alias('mean_rating'), \n",
    "         F.count('rating').alias('ratings_count')) \\\n",
    "    .join(movies_df, ratings_df['movie_id'] == movies_df['movieId'], how='inner') \\\n",
    "    .sort(F.col('mean_rating').desc()) \\\n",
    "    .take(10)"
   ]
  },
  {
   "cell_type": "markdown",
   "metadata": {},
   "source": [
    "### Фильмы с наибольшим числом оценок\n",
    "\n",
    "Найти 10 фильмов с наибольшим числом оценок. Вывести их названия и число оценок"
   ]
  },
  {
   "cell_type": "code",
   "execution_count": 14,
   "metadata": {},
   "outputs": [],
   "source": [
    "movies_frequency_pdf = ratings_df \\\n",
    "    .groupby('movie_id') \\\n",
    "    .count() \\\n",
    "    .join(movies_df, ratings_df['movie_id'] == movies_df['movieId']) \\\n",
    "    .sort(F.col('count').desc()) \\\n",
    "    .toPandas()"
   ]
  },
  {
   "cell_type": "code",
   "execution_count": 15,
   "metadata": {},
   "outputs": [
    {
     "data": {
      "text/html": [
       "<div>\n",
       "<style scoped>\n",
       "    .dataframe tbody tr th:only-of-type {\n",
       "        vertical-align: middle;\n",
       "    }\n",
       "\n",
       "    .dataframe tbody tr th {\n",
       "        vertical-align: top;\n",
       "    }\n",
       "\n",
       "    .dataframe thead th {\n",
       "        text-align: right;\n",
       "    }\n",
       "</style>\n",
       "<table border=\"1\" class=\"dataframe\">\n",
       "  <thead>\n",
       "    <tr style=\"text-align: right;\">\n",
       "      <th></th>\n",
       "      <th>movie_id</th>\n",
       "      <th>count</th>\n",
       "      <th>movieId</th>\n",
       "      <th>title</th>\n",
       "      <th>genres</th>\n",
       "    </tr>\n",
       "  </thead>\n",
       "  <tbody>\n",
       "    <tr>\n",
       "      <th>0</th>\n",
       "      <td>356</td>\n",
       "      <td>81491</td>\n",
       "      <td>356</td>\n",
       "      <td>Forrest Gump (1994)</td>\n",
       "      <td>Comedy|Drama|Romance|War</td>\n",
       "    </tr>\n",
       "    <tr>\n",
       "      <th>1</th>\n",
       "      <td>318</td>\n",
       "      <td>81482</td>\n",
       "      <td>318</td>\n",
       "      <td>Shawshank Redemption, The (1994)</td>\n",
       "      <td>Crime|Drama</td>\n",
       "    </tr>\n",
       "    <tr>\n",
       "      <th>2</th>\n",
       "      <td>296</td>\n",
       "      <td>79672</td>\n",
       "      <td>296</td>\n",
       "      <td>Pulp Fiction (1994)</td>\n",
       "      <td>Comedy|Crime|Drama|Thriller</td>\n",
       "    </tr>\n",
       "    <tr>\n",
       "      <th>3</th>\n",
       "      <td>593</td>\n",
       "      <td>74127</td>\n",
       "      <td>593</td>\n",
       "      <td>Silence of the Lambs, The (1991)</td>\n",
       "      <td>Crime|Horror|Thriller</td>\n",
       "    </tr>\n",
       "    <tr>\n",
       "      <th>4</th>\n",
       "      <td>2571</td>\n",
       "      <td>72674</td>\n",
       "      <td>2571</td>\n",
       "      <td>Matrix, The (1999)</td>\n",
       "      <td>Action|Sci-Fi|Thriller</td>\n",
       "    </tr>\n",
       "    <tr>\n",
       "      <th>5</th>\n",
       "      <td>260</td>\n",
       "      <td>68717</td>\n",
       "      <td>260</td>\n",
       "      <td>Star Wars: Episode IV - A New Hope (1977)</td>\n",
       "      <td>Action|Adventure|Sci-Fi</td>\n",
       "    </tr>\n",
       "    <tr>\n",
       "      <th>6</th>\n",
       "      <td>480</td>\n",
       "      <td>64144</td>\n",
       "      <td>480</td>\n",
       "      <td>Jurassic Park (1993)</td>\n",
       "      <td>Action|Adventure|Sci-Fi|Thriller</td>\n",
       "    </tr>\n",
       "    <tr>\n",
       "      <th>7</th>\n",
       "      <td>527</td>\n",
       "      <td>60411</td>\n",
       "      <td>527</td>\n",
       "      <td>Schindler's List (1993)</td>\n",
       "      <td>Drama|War</td>\n",
       "    </tr>\n",
       "    <tr>\n",
       "      <th>8</th>\n",
       "      <td>110</td>\n",
       "      <td>59184</td>\n",
       "      <td>110</td>\n",
       "      <td>Braveheart (1995)</td>\n",
       "      <td>Action|Drama|War</td>\n",
       "    </tr>\n",
       "    <tr>\n",
       "      <th>9</th>\n",
       "      <td>2959</td>\n",
       "      <td>58773</td>\n",
       "      <td>2959</td>\n",
       "      <td>Fight Club (1999)</td>\n",
       "      <td>Action|Crime|Drama|Thriller</td>\n",
       "    </tr>\n",
       "  </tbody>\n",
       "</table>\n",
       "</div>"
      ],
      "text/plain": [
       "   movie_id  count  movieId                                      title  \\\n",
       "0       356  81491      356                        Forrest Gump (1994)   \n",
       "1       318  81482      318           Shawshank Redemption, The (1994)   \n",
       "2       296  79672      296                        Pulp Fiction (1994)   \n",
       "3       593  74127      593           Silence of the Lambs, The (1991)   \n",
       "4      2571  72674     2571                         Matrix, The (1999)   \n",
       "5       260  68717      260  Star Wars: Episode IV - A New Hope (1977)   \n",
       "6       480  64144      480                       Jurassic Park (1993)   \n",
       "7       527  60411      527                    Schindler's List (1993)   \n",
       "8       110  59184      110                          Braveheart (1995)   \n",
       "9      2959  58773     2959                          Fight Club (1999)   \n",
       "\n",
       "                             genres  \n",
       "0          Comedy|Drama|Romance|War  \n",
       "1                       Crime|Drama  \n",
       "2       Comedy|Crime|Drama|Thriller  \n",
       "3             Crime|Horror|Thriller  \n",
       "4            Action|Sci-Fi|Thriller  \n",
       "5           Action|Adventure|Sci-Fi  \n",
       "6  Action|Adventure|Sci-Fi|Thriller  \n",
       "7                         Drama|War  \n",
       "8                  Action|Drama|War  \n",
       "9       Action|Crime|Drama|Thriller  "
      ]
     },
     "execution_count": 15,
     "metadata": {},
     "output_type": "execute_result"
    }
   ],
   "source": [
    "movies_frequency_pdf.head(10)"
   ]
  },
  {
   "cell_type": "markdown",
   "metadata": {},
   "source": [
    "---\n",
    "## SQL"
   ]
  },
  {
   "cell_type": "code",
   "execution_count": 16,
   "metadata": {},
   "outputs": [],
   "source": [
    "ratings_df.createTempView('ratings')\n",
    "movies_df.createTempView('movies')"
   ]
  },
  {
   "cell_type": "code",
   "execution_count": 17,
   "metadata": {},
   "outputs": [
    {
     "name": "stdout",
     "output_type": "stream",
     "text": [
      "+--------+--------+--------------------+\n",
      "|movie_id|count(1)|               title|\n",
      "+--------+--------+--------------------+\n",
      "|     356|   81491| Forrest Gump (1994)|\n",
      "|     318|   81482|Shawshank Redempt...|\n",
      "|     296|   79672| Pulp Fiction (1994)|\n",
      "|     364|   42745|Lion King, The (1...|\n",
      "|     380|   41673|    True Lies (1994)|\n",
      "|     377|   41302|        Speed (1994)|\n",
      "|     344|   37453|Ace Ventura: Pet ...|\n",
      "|     367|   34621|    Mask, The (1994)|\n",
      "|     293|   33680|Léon: The Profess...|\n",
      "|     231|   31843|Dumb & Dumber (Du...|\n",
      "|     316|   30910|     Stargate (1994)|\n",
      "|     349|   27766|Clear and Present...|\n",
      "|     253|   27577|Interview with th...|\n",
      "|     357|   26709|Four Weddings and...|\n",
      "|     329|   24615|Star Trek: Genera...|\n",
      "|     223|   24050|       Clerks (1994)|\n",
      "|     288|   23259|Natural Born Kill...|\n",
      "|     300|   18997|    Quiz Show (1994)|\n",
      "|     368|   16475|     Maverick (1994)|\n",
      "|     353|   16219|    Crow, The (1994)|\n",
      "+--------+--------+--------------------+\n",
      "only showing top 20 rows\n",
      "\n"
     ]
    }
   ],
   "source": [
    "query = \"\"\"\n",
    "    SELECT movie_id, COUNT(*), first(title) as title\n",
    "    FROM ratings INNER JOIN movies ON ratings.movie_id == movies.movieId\n",
    "    WHERE movies.title LIKE '%(1994)%'\n",
    "    GROUP BY movie_id\n",
    "    ORDER BY COUNT(*) DESC\n",
    "\"\"\"\n",
    "\n",
    "movies_frequency = spark.sql(query)\n",
    "movies_frequency.show()"
   ]
  },
  {
   "cell_type": "code",
   "execution_count": 18,
   "metadata": {
    "scrolled": false
   },
   "outputs": [
    {
     "name": "stdout",
     "output_type": "stream",
     "text": [
      "== Parsed Logical Plan ==\n",
      "'Sort ['COUNT(1) DESC NULLS LAST], true\n",
      "+- 'Aggregate ['movie_id], ['movie_id, unresolvedalias('COUNT(1), None), first('title, false) AS title#131]\n",
      "   +- 'Filter 'movies.title LIKE %(1994)%\n",
      "      +- 'Join Inner, ('ratings.movie_id = 'movies.movieId)\n",
      "         :- 'UnresolvedRelation `ratings`\n",
      "         +- 'UnresolvedRelation `movies`\n",
      "\n",
      "== Analyzed Logical Plan ==\n",
      "movie_id: bigint, count(1): bigint, title: string\n",
      "Project [movie_id#12L, count(1)#134L, title#131]\n",
      "+- Sort [count(1)#134L DESC NULLS LAST], true\n",
      "   +- Aggregate [movie_id#12L], [movie_id#12L, count(1) AS count(1)#134L, first(title#31, false) AS title#131]\n",
      "      +- Filter title#31 LIKE %(1994)%\n",
      "         +- Join Inner, (movie_id#12L = cast(movieId#30 as bigint))\n",
      "            :- SubqueryAlias `ratings`\n",
      "            :  +- LogicalRDD [movie_id#12L, rating#13, timestamp#14L, user_id#15L], false\n",
      "            +- SubqueryAlias `movies`\n",
      "               +- Relation[movieId#30,title#31,genres#32] csv\n",
      "\n",
      "== Optimized Logical Plan ==\n",
      "Sort [count(1)#134L DESC NULLS LAST], true\n",
      "+- Aggregate [movie_id#12L], [movie_id#12L, count(1) AS count(1)#134L, first(title#31, false) AS title#131]\n",
      "   +- Project [movie_id#12L, title#31]\n",
      "      +- Join Inner, (movie_id#12L = cast(movieId#30 as bigint))\n",
      "         :- Project [movie_id#12L]\n",
      "         :  +- Filter isnotnull(movie_id#12L)\n",
      "         :     +- LogicalRDD [movie_id#12L, rating#13, timestamp#14L, user_id#15L], false\n",
      "         +- Project [movieId#30, title#31]\n",
      "            +- Filter ((isnotnull(title#31) && Contains(title#31, (1994))) && isnotnull(movieId#30))\n",
      "               +- Relation[movieId#30,title#31,genres#32] csv\n",
      "\n",
      "== Physical Plan ==\n",
      "*(4) Sort [count(1)#134L DESC NULLS LAST], true, 0\n",
      "+- Exchange rangepartitioning(count(1)#134L DESC NULLS LAST, 200)\n",
      "   +- SortAggregate(key=[movie_id#12L], functions=[count(1), first(title#31, false)], output=[movie_id#12L, count(1)#134L, title#131])\n",
      "      +- *(3) Sort [movie_id#12L ASC NULLS FIRST], false, 0\n",
      "         +- Exchange hashpartitioning(movie_id#12L, 200)\n",
      "            +- SortAggregate(key=[movie_id#12L], functions=[partial_count(1), partial_first(title#31, false)], output=[movie_id#12L, count#142L, first#143, valueSet#144])\n",
      "               +- *(2) Sort [movie_id#12L ASC NULLS FIRST], false, 0\n",
      "                  +- *(2) Project [movie_id#12L, title#31]\n",
      "                     +- *(2) BroadcastHashJoin [movie_id#12L], [cast(movieId#30 as bigint)], Inner, BuildRight\n",
      "                        :- *(2) Project [movie_id#12L]\n",
      "                        :  +- *(2) Filter isnotnull(movie_id#12L)\n",
      "                        :     +- Scan ExistingRDD[movie_id#12L,rating#13,timestamp#14L,user_id#15L]\n",
      "                        +- BroadcastExchange HashedRelationBroadcastMode(List(cast(input[0, int, true] as bigint)))\n",
      "                           +- *(1) Project [movieId#30, title#31]\n",
      "                              +- *(1) Filter ((isnotnull(title#31) && Contains(title#31, (1994))) && isnotnull(movieId#30))\n",
      "                                 +- *(1) FileScan csv [movieId#30,title#31] Batched: false, Format: CSV, Location: InMemoryFileIndex[file:/workspace/data/ml-25m/movies.csv], PartitionFilters: [], PushedFilters: [IsNotNull(title), StringContains(title,(1994)), IsNotNull(movieId)], ReadSchema: struct<movieId:int,title:string>\n"
     ]
    }
   ],
   "source": [
    "spark.sql(query).explain(True)"
   ]
  },
  {
   "cell_type": "markdown",
   "metadata": {},
   "source": [
    "---\n",
    "## User Defined Function (UDF)\n",
    "\n",
    "\n",
    "### Количество вышедших фильмов по годам\n",
    "\n",
    "Мы знаем, что название фильма содержит информацию о дате выхода"
   ]
  },
  {
   "cell_type": "code",
   "execution_count": 19,
   "metadata": {},
   "outputs": [],
   "source": [
    "import re\n",
    "\n",
    "\n",
    "def get_release_year(title):\n",
    "    result = re.match(r'.*(\\(\\d+\\))', title)\n",
    "    return int(result.group(1)[1:-1]) if result is not None else None\n",
    "\n",
    "\n",
    "get_release_year_udf = F.udf(get_release_year, IntegerType())"
   ]
  },
  {
   "cell_type": "code",
   "execution_count": 20,
   "metadata": {},
   "outputs": [],
   "source": [
    "relase_count_by_year = movies_df \\\n",
    "    .withColumn('year', get_release_year_udf('title')) \\\n",
    "    .filter(F.col('year').isNotNull()) \\\n",
    "    .groupby('year') \\\n",
    "    .count() \\\n",
    "    .toPandas()"
   ]
  },
  {
   "cell_type": "code",
   "execution_count": 21,
   "metadata": {},
   "outputs": [
    {
     "data": {
      "image/png": "[encoded data removed]",
      "text/plain": [
       "<Figure size 864x360 with 1 Axes>"
      ]
     },
     "metadata": {
      "image/png": {
       "height": 317,
       "width": 718
      },
      "needs_background": "light"
     },
     "output_type": "display_data"
    }
   ],
   "source": [
    "plt.figure(figsize=(12, 5))\n",
    "relase_count_by_year.sort_values('year').set_index('year')['count'].plot()\n",
    "plt.show()"
   ]
  },
  {
   "cell_type": "markdown",
   "metadata": {},
   "source": [
    "---\n",
    "## Window Functions\n",
    "\n",
    "Хотим понять, сколько времени проходит между последовательными оценками для пользователей, более формально:\n",
    "\n",
    "Для пользователя $u$ есть последовательность $(m_1, r_1, t_1), \\ldots, (m_n, r_n, t_n)$, где $t_i \\leq t_{i+1}$. Рассмотрим последовательность $\\Delta_i = t_{i+1} - t_i$, для $i=1,\\ldots,n-1$.\n",
    "\n",
    "Хотим построить распределение величины $\\Delta_i$ используя информацию обо всех пользователях."
   ]
  },
  {
   "cell_type": "code",
   "execution_count": 22,
   "metadata": {},
   "outputs": [
    {
     "data": {
      "text/plain": [
       "[Row(movie_id=2161, rating=3.5, timestamp=1280513623, user_id=26, next_timestamp=1280513649),\n",
       " Row(movie_id=455, rating=3.0, timestamp=1280513649, user_id=26, next_timestamp=1280513679),\n",
       " Row(movie_id=1037, rating=2.5, timestamp=1280513679, user_id=26, next_timestamp=1280513702),\n",
       " Row(movie_id=1586, rating=3.0, timestamp=1280513702, user_id=26, next_timestamp=1280513710),\n",
       " Row(movie_id=54286, rating=4.0, timestamp=1280513710, user_id=26, next_timestamp=1280513785),\n",
       " Row(movie_id=4023, rating=3.0, timestamp=1280513785, user_id=26, next_timestamp=1280513802),\n",
       " Row(movie_id=54503, rating=2.0, timestamp=1280513802, user_id=26, next_timestamp=1280513817),\n",
       " Row(movie_id=3173, rating=3.5, timestamp=1280513817, user_id=26, next_timestamp=1280513893),\n",
       " Row(movie_id=53322, rating=4.0, timestamp=1280513893, user_id=26, next_timestamp=1280513897),\n",
       " Row(movie_id=2764, rating=4.5, timestamp=1280513897, user_id=26, next_timestamp=1280513931)]"
      ]
     },
     "execution_count": 22,
     "metadata": {},
     "output_type": "execute_result"
    }
   ],
   "source": [
    "from pyspark.sql.window import Window\n",
    "\n",
    "\n",
    "user_window = Window.orderBy('timestamp').partitionBy('user_id')\n",
    "\n",
    "ratings_df \\\n",
    "    .withColumn('next_timestamp', F.lead('timestamp').over(user_window)) \\\n",
    "    .filter(F.col('next_timestamp').isNotNull()) \\\n",
    "    .take(10)"
   ]
  },
  {
   "cell_type": "code",
   "execution_count": 23,
   "metadata": {},
   "outputs": [
    {
     "data": {
      "text/plain": [
       "<matplotlib.axes._subplots.AxesSubplot at 0x7f861a453f28>"
      ]
     },
     "execution_count": 23,
     "metadata": {},
     "output_type": "execute_result"
    },
    {
     "data": {
      "image/png": "[encoded data removed]",
      "text/plain": [
       "<Figure size 432x288 with 1 Axes>"
      ]
     },
     "metadata": {
      "image/png": {
       "height": 250,
       "width": 389
      },
      "needs_background": "light"
     },
     "output_type": "display_data"
    }
   ],
   "source": [
    "DAY = 24 * 60 * 60\n",
    "\n",
    "ratings_df \\\n",
    "    .withColumn('next_timestamp', F.lead('timestamp').over(user_window)) \\\n",
    "    .filter(F.col('next_timestamp').isNotNull()) \\\n",
    "    .withColumn('delta', (F.col('next_timestamp') - F.col('timestamp')) / F.lit(DAY)) \\\n",
    "    .select('delta') \\\n",
    "    .filter(F.col('delta') <= 365) \\\n",
    "    .sample(False, 0.1) \\\n",
    "    .toPandas().plot.hist(bins=100, logy=True)"
   ]
  },
  {
   "cell_type": "markdown",
   "metadata": {},
   "source": [
    "# Упражнения. Recommender System\n",
    "\n",
    "Пусть $U$ - множество пользователей, $I$ - множество фильмов, и $R = (r_{ui})$ - матрица рейтингов. \n",
    "\n",
    "Через $R_u$ будем обозначать строку матрицы $R$, соотвествующую пользователю $u$."
   ]
  },
  {
   "cell_type": "markdown",
   "metadata": {},
   "source": [
    "## Генерируем выборку\n",
    "\n",
    "На всём наборе данных запросы выполняются очень долго, поэтому в доманего задания выборка была уменьшена."
   ]
  },
  {
   "cell_type": "code",
   "execution_count": 42,
   "metadata": {},
   "outputs": [],
   "source": [
    "small_users = ratings_df\\\n",
    "    .groupby('user_id')\\\n",
    "    .agg(F.count('movie_id').alias('ratings_cnt')) \\\n",
    "    .select('user_id', 'ratings_cnt')\\\n",
    "    .sample(fraction=5000/162541, seed=239566, withReplacement=False)\\\n",
    "    .persist()"
   ]
  },
  {
   "cell_type": "code",
   "execution_count": 43,
   "metadata": {},
   "outputs": [],
   "source": [
    "small_ratings = ratings_df\\\n",
    "    .join(small_users, small_users[\"user_id\"] == ratings_df[\"user_id\"], \"leftsemi\")\\\n",
    "    .persist()"
   ]
  },
  {
   "cell_type": "code",
   "execution_count": 46,
   "metadata": {},
   "outputs": [],
   "source": [
    "marks_counts = small_ratings\\\n",
    "    .groupby('movie_id') \\\n",
    "    .agg(F.count('user_id').alias('ratings_cnt')) \\\n",
    "    .persist()"
   ]
  },
  {
   "cell_type": "code",
   "execution_count": 44,
   "metadata": {},
   "outputs": [
    {
     "name": "stdout",
     "output_type": "stream",
     "text": [
      "5013\n"
     ]
    }
   ],
   "source": [
    "print(small_users.count())"
   ]
  },
  {
   "cell_type": "code",
   "execution_count": 45,
   "metadata": {},
   "outputs": [
    {
     "name": "stdout",
     "output_type": "stream",
     "text": [
      "762008\n"
     ]
    }
   ],
   "source": [
    "print(small_ratings.count())"
   ]
  },
  {
   "cell_type": "code",
   "execution_count": 47,
   "metadata": {},
   "outputs": [
    {
     "name": "stdout",
     "output_type": "stream",
     "text": [
      "18907\n"
     ]
    }
   ],
   "source": [
    "print(marks_counts.count())"
   ]
  },
  {
   "cell_type": "markdown",
   "metadata": {},
   "source": [
    "---\n",
    "\n",
    "## Most similar items\n",
    "\n",
    "Для каждого фильма $i$ определим множество $U(i) = \\{ u \\in U \\mid r_{ui} \\neq 0 \\}$ - множество пользователей, поставивших фильму $i$ оценку.\n",
    "\n",
    "Тогда мы можем определить множество $I(i) = \\left\\{ i' \\in I ~\\Big|~ sim(i, i') = \\frac{|U(i) ~\\cap~ U(i')|}{|U(i) ~\\cup~ U(i')|} > \\delta \\right\\}$ - множество похожих фильмов.\n",
    "\n",
    "Можно отсортировать элементы множества $I(i)$ по неубыванию $sim(i, i')$.\n",
    "\n",
    "Реализуйте функцию, которая на вход получает `movie_id` и возвращает топ `N` фильмов отранжированных по $sim$."
   ]
  },
  {
   "cell_type": "code",
   "execution_count": 52,
   "metadata": {},
   "outputs": [],
   "source": [
    "def request_closest(request_marks, marks, marks_counts, N):\n",
    "    return request_marks.alias(\"request\")\\\n",
    "        .join(marks.alias(\"base\"), F.col(\"request.user_id\") == F.col(\"base.user_id\"))\\\n",
    "        .select(\n",
    "            F.col(\"request.movie_id\").alias(\"request_id\"), \n",
    "            F.col(\"base.movie_id\").alias(\"movie_id\"), \n",
    "            F.col(\"base.user_id\").alias(\"user_id\"))\\\n",
    "        .filter(F.col('request_id') != F.col('movie_id')) \\\n",
    "        .groupby('request_id', 'movie_id')\\\n",
    "        .agg(F.count('user_id').alias('common_users'))\\\n",
    "        .alias(\"intersection\")\\\n",
    "        .join(marks_counts.alias(\"request_cnts\"), F.col(\"request_cnts.movie_id\") == F.col(\"intersection.request_id\"))\\\n",
    "        .join(marks_counts.alias(\"movie_cnts\"), F.col(\"movie_cnts.movie_id\") == F.col(\"intersection.movie_id\"))\\\n",
    "        .select(\n",
    "            F.col(\"intersection.request_id\").alias(\"request_id\"),\n",
    "            F.col(\"intersection.movie_id\").alias(\"movie_id\"),\n",
    "            F.col(\"intersection.common_users\").alias(\"intersection_cnt\"),\n",
    "            F.col(\"request_cnts.ratings_cnt\").alias(\"request_cnt\"),\n",
    "            F.col(\"movie_cnts.ratings_cnt\").alias(\"movie_cnt\"))\\\n",
    "        .withColumn('sim', \n",
    "                    F.col('intersection_cnt') / (F.col('request_cnt') + F.col('movie_cnt') - F.col('intersection_cnt')))\\\n",
    "        .drop('intersection_cnt', 'request_cnt', 'movie_cnt')\\\n",
    "        .withColumn('sim_rank', \n",
    "                    F.rank().over(\n",
    "                        Window.partitionBy('request_id')\n",
    "                            .orderBy(F.col('sim').desc())))\\\n",
    "        .filter(F.col(\"sim_rank\") <= N)\n",
    "\n",
    "    \n",
    "def get_n_closest(movie_id, N):\n",
    "    return request_closest(\n",
    "            small_ratings.filter(small_ratings[\"movie_id\"] == movie_id),\n",
    "            small_ratings,\n",
    "            marks_counts,\n",
    "            N)\\\n",
    "        .sort(F.col('sim').desc())\\\n",
    "        .drop(\"request_id\", \"sim_rank\")"
   ]
  },
  {
   "cell_type": "code",
   "execution_count": 53,
   "metadata": {},
   "outputs": [
    {
     "name": "stdout",
     "output_type": "stream",
     "text": [
      "root\n",
      " |-- request_id: long (nullable = true)\n",
      " |-- movie_id: long (nullable = true)\n",
      " |-- sim: double (nullable = true)\n",
      " |-- sim_rank: integer (nullable = true)\n",
      "\n"
     ]
    }
   ],
   "source": [
    "request_closest(small_ratings.where(small_ratings['movie_id'] < 10), small_ratings, marks_counts, 5).printSchema()"
   ]
  },
  {
   "cell_type": "code",
   "execution_count": 195,
   "metadata": {},
   "outputs": [
    {
     "data": {
      "text/plain": [
       "[Row(movie_id=708, sim=0.29709035222052066),\n",
       " Row(movie_id=3, sim=0.2833333333333333),\n",
       " Row(movie_id=5, sim=0.24546952224052718),\n",
       " Row(movie_id=802, sim=0.2403225806451613),\n",
       " Row(movie_id=494, sim=0.23895253682487724)]"
      ]
     },
     "execution_count": 195,
     "metadata": {},
     "output_type": "execute_result"
    }
   ],
   "source": [
    "get_n_closest(7, 5).take(5)"
   ]
  },
  {
   "cell_type": "markdown",
   "metadata": {},
   "source": [
    "Построим несколько вариантов простой Рекомендательной Системы.\n",
    "\n",
    "*Основная цель:* порекомендовать фильм пользователю. (Для простоты опустим информацию о самих рейтингах)\n",
    "\n",
    "## Methods\n",
    "\n",
    "При разработке сложных методов, сначала нужно выбрать несколько простотых методов (`Baseline`), относительно которых мы будем сравнивать новый метод."
   ]
  },
  {
   "cell_type": "code",
   "execution_count": 55,
   "metadata": {},
   "outputs": [],
   "source": [
    "class AbstractMethod:\n",
    "    def train(self, marks):\n",
    "        pass\n",
    "    \n",
    "    def predict(self, users_id, N):\n",
    "        pass"
   ]
  },
  {
   "cell_type": "markdown",
   "metadata": {},
   "source": [
    "### POP\n",
    "\n",
    "Будем всегда рекомендовать самые популярные фильмы (с наибольшим цислом оценок пользователей).\n",
    "\n",
    "Не смотря на свою простоту, в ряде задач показывает себя достаточно хорошо."
   ]
  },
  {
   "cell_type": "code",
   "execution_count": 79,
   "metadata": {},
   "outputs": [],
   "source": [
    "class PopularRecommendation(AbstractMethod):\n",
    "    \n",
    "    def __init__(self, movies_base_limit=1000):\n",
    "        self.movies_base_limit = movies_base_limit\n",
    "    \n",
    "    def train(self, marks):\n",
    "        self.marks = marks.alias(\"train_marks\")\n",
    "        self.marks_counts = marks\\\n",
    "            .drop(\"timestamp\", \"rating\")\\\n",
    "            .groupby('movie_id') \\\n",
    "            .agg(F.count('user_id').alias('ratings_cnt')) \\\n",
    "            .sort(F.col('ratings_cnt').desc()) \\\n",
    "            .limit(self.movies_base_limit)\\\n",
    "            .persist()\n",
    "    \n",
    "    def predict(self, users_id, N):\n",
    "        return self.marks_counts\\\n",
    "            .crossJoin(users_id)\\\n",
    "            .alias(\"recommendation\")\\\n",
    "            .join(self.marks, \n",
    "                  (F.col(\"train_marks.user_id\") == F.col(\"recommendation.user_id\")) & \n",
    "                      (F.col(\"train_marks.movie_id\") == F.col(\"recommendation.movie_id\")),\n",
    "                  \"leftanti\")\\\n",
    "            .withColumn('rank', \n",
    "                    F.rank().over(\n",
    "                        Window.partitionBy('user_id')\n",
    "                            .orderBy(F.col('ratings_cnt').desc())))\\\n",
    "            .filter(F.col(\"rank\") <= N)\\\n",
    "            .select(F.col(\"user_id\").alias(\"request_id\"), \"movie_id\", \"rank\")"
   ]
  },
  {
   "cell_type": "markdown",
   "metadata": {},
   "source": [
    "### User-based Collaborative Filtering\n",
    "\n",
    "1. Для пользователя $u$ определим множество похожих пользователей как \n",
    "\n",
    "$$U(u) = \\left\\{ u' \\in U \\mid sim(u, u') > \\alpha \\right\\},$$\n",
    "\n",
    "где $sim(u, u')$ — одна из возможных мер близости $u'$ к $u$, например, косинусная близость между $R_{u}$ и $R_{u'}$\n",
    "\n",
    "2. $$I(u) = \\left\\{ i \\in I ~\\Big|~ B(i) = \\frac{|U(u) ~\\cap~ U(i)|}{|U(u) ~\\cup~ U(i)|} > 0 \\right\\}$$\n",
    "\n",
    "\n",
    "3. Отсортировать $i \\in I(u)$ по убыванию $B(i)$, взять top $N$"
   ]
  },
  {
   "cell_type": "code",
   "execution_count": 215,
   "metadata": {},
   "outputs": [],
   "source": [
    "class CollaborativeFilteringRecommendation(AbstractMethod):\n",
    "    def __init__(self, alpha, movies_base_limit=1000):\n",
    "        self.alpha = alpha\n",
    "        self.movies_base_limit = movies_base_limit\n",
    "    \n",
    "    def train(self, marks):\n",
    "        self.movie_count = marks\\\n",
    "            .groupby(\"movie_id\")\\\n",
    "            .agg(F.count(\"user_id\").alias(\"movie_cnt\"))\\\n",
    "            .select(\"movie_id\", \"movie_cnt\") \\\n",
    "            .sort(F.col('movie_cnt').desc()) \\\n",
    "            .limit(self.movies_base_limit)\\\n",
    "            .alias(\"movie_counts\")\\\n",
    "            .persist()\n",
    "        self.marks = marks\\\n",
    "            .join(self.movie_count, self.movie_count['movie_id'] == marks['movie_id'], \"leftsemi\")\n",
    "        self.user_norm = self.marks\\\n",
    "            .withColumn(\"squared_rating\", marks[\"rating\"] * marks[\"rating\"])\\\n",
    "            .groupby(\"user_id\")\\\n",
    "            .agg(F.sum(\"squared_rating\").alias(\"squared_norm\"))\\\n",
    "            .withColumn(\"vec_norm\", F.sqrt(\"squared_norm\"))\\\n",
    "            .select(\"user_id\", \"vec_norm\") \\\n",
    "            .persist()\n",
    "            \n",
    "    def predict(self, users_id, N):\n",
    "        similar_users = self._get_similar_users(users_id)\n",
    "        users_count = similar_users\\\n",
    "            .groupby(\"request_id\")\\\n",
    "            .agg(F.count(\"user_id\").alias(\"request_cnt\"))\\\n",
    "            .select(\"request_id\", \"request_cnt\")\n",
    "        return similar_users\\\n",
    "            .join(self.marks, similar_users[\"user_id\"] == self.marks[\"user_id\"])\\\n",
    "            .select(\n",
    "                similar_users[\"request_id\"].alias(\"request_id\"), \n",
    "                self.marks[\"movie_id\"].alias(\"movie_id\"), \n",
    "                similar_users[\"user_id\"].alias(\"user_id\"))\\\n",
    "            .groupby(\"request_id\", \"movie_id\")\\\n",
    "            .agg(F.count(\"user_id\").alias(\"common_cnt\"))\\\n",
    "            .alias(\"intersection\")\\\n",
    "            .join(self.movie_count, self.movie_count[\"movie_id\"] == F.column(\"intersection.movie_id\"))\\\n",
    "            .join(users_count, users_count[\"request_id\"] == F.column(\"intersection.request_id\"))\\\n",
    "            .select(\n",
    "                F.col(\"intersection.request_id\").alias(\"request_id\"),\n",
    "                F.col(\"intersection.movie_id\").alias(\"movie_id\"),\n",
    "                F.col(\"intersection.common_cnt\").alias(\"common_cnt\"),\n",
    "                self.movie_count[\"movie_cnt\"].alias(\"movie_cnt\"),\n",
    "                users_count[\"request_cnt\"].alias(\"request_cnt\"))\\\n",
    "            .withColumn(\"sim\", \n",
    "                        F.col(\"common_cnt\") / (F.col(\"movie_cnt\") + F.col(\"request_cnt\") - F.col(\"common_cnt\")))\\\n",
    "            .select('request_id', 'movie_id', 'sim')\\\n",
    "            .alias('options')\\\n",
    "            .join(self.marks.alias(\"base\"), \n",
    "                  (F.col(\"options.request_id\") == F.col(\"base.user_id\")) & \n",
    "                      (F.col(\"options.movie_id\") == F.col(\"base.movie_id\")),\n",
    "                  \"leftanti\")\\\n",
    "            .withColumn('rank', \n",
    "                    F.rank().over(\n",
    "                        Window.partitionBy('request_id')\n",
    "                            .orderBy(F.col('sim').desc())))\\\n",
    "            .filter(F.col(\"rank\") <= N)\\\n",
    "            .select(\"request_id\", \"movie_id\", \"rank\")\n",
    "            \n",
    "        \n",
    "    def _get_similar_users(self, users_ids):\n",
    "        return self.marks\\\n",
    "            .join(users_ids, self.marks[\"user_id\"] ==  users_ids[\"user_id\"], \"leftsemi\")\\\n",
    "            .alias(\"request\")\\\n",
    "            .join(self.marks.alias(\"base\"), F.col(\"request.movie_id\") == F.col(\"base.movie_id\"))\\\n",
    "            .withColumn(\"rating_prod\", F.col(\"base.rating\") * F.col(\"request.rating\"))\\\n",
    "            .select(\n",
    "                F.col(\"request.user_id\").alias(\"request_id\"), \n",
    "                F.col(\"base.user_id\").alias(\"user_id\"), \n",
    "                F.col(\"rating_prod\"))\\\n",
    "            .filter(F.col('request_id') != F.col('user_id')) \\\n",
    "            .groupby('request_id', 'user_id')\\\n",
    "            .agg(F.sum('rating_prod').alias('dot'))\\\n",
    "            .alias(\"dot_holder\")\\\n",
    "            .join(self.user_norm.alias(\"request_norm\"), F.col(\"request_norm.user_id\") == F.col(\"dot_holder.request_id\"))\\\n",
    "            .join(self.user_norm.alias(\"user_norm\"), F.col(\"user_norm.user_id\") == F.col(\"dot_holder.user_id\"))\\\n",
    "            .withColumn('cos_sim', \n",
    "                    F.col('dot_holder.dot') / (F.col('request_norm.vec_norm') * F.col('user_norm.vec_norm')))\\\n",
    "            .filter(F.col(\"cos_sim\") >= self.alpha)\\\n",
    "            .select(\n",
    "                F.col(\"dot_holder.request_id\").alias(\"request_id\"),\n",
    "                F.col(\"dot_holder.user_id\").alias(\"user_id\"))      "
   ]
  },
  {
   "cell_type": "code",
   "execution_count": 245,
   "metadata": {},
   "outputs": [
    {
     "data": {
      "text/plain": [
       "[Row(request_id=7, movie_id=296, rank=1),\n",
       " Row(request_id=7, movie_id=356, rank=2),\n",
       " Row(request_id=7, movie_id=593, rank=3),\n",
       " Row(request_id=7, movie_id=318, rank=4),\n",
       " Row(request_id=7, movie_id=527, rank=5),\n",
       " Row(request_id=7, movie_id=480, rank=6),\n",
       " Row(request_id=7, movie_id=2571, rank=7),\n",
       " Row(request_id=7, movie_id=260, rank=8),\n",
       " Row(request_id=7, movie_id=110, rank=9),\n",
       " Row(request_id=7, movie_id=589, rank=10),\n",
       " Row(request_id=6, movie_id=318, rank=1),\n",
       " Row(request_id=6, movie_id=356, rank=2),\n",
       " Row(request_id=6, movie_id=296, rank=3),\n",
       " Row(request_id=6, movie_id=593, rank=4),\n",
       " Row(request_id=6, movie_id=2571, rank=5),\n",
       " Row(request_id=6, movie_id=260, rank=6),\n",
       " Row(request_id=6, movie_id=480, rank=7),\n",
       " Row(request_id=6, movie_id=527, rank=8),\n",
       " Row(request_id=6, movie_id=110, rank=9),\n",
       " Row(request_id=6, movie_id=1196, rank=10)]"
      ]
     },
     "execution_count": 245,
     "metadata": {},
     "output_type": "execute_result"
    }
   ],
   "source": [
    "tmp = CollaborativeFilteringRecommendation(0.01)\n",
    "tmp.train(small_ratings)\n",
    "tmp.predict(request, 10).take(20)"
   ]
  },
  {
   "cell_type": "markdown",
   "metadata": {},
   "source": [
    "### Item-kNN\n",
    "\n",
    "1. Для пользователя $u$ мы знаем $R(u) = \\{ i \\in I \\mid r_{ui} \\neq 0 \\} $\n",
    "\n",
    "\n",
    "2. Для каждого $i \\in R(u)$ построим $I(i)$ - множество похожих фильмов\n",
    "\n",
    "\n",
    "3. Отсортируем элементы множества $ \\bigcup_{i \\in R(u)} I(i) $, возьмем top $N$"
   ]
  },
  {
   "cell_type": "code",
   "execution_count": 260,
   "metadata": {},
   "outputs": [],
   "source": [
    "class IkNNRecommendation(AbstractMethod):\n",
    "    \n",
    "    def __init__(self, movies_base_limit=1000):\n",
    "        self.movies_base_limit = movies_base_limit\n",
    "    \n",
    "    def train(self, marks):\n",
    "        self.marks_counts = marks\\\n",
    "            .groupby('movie_id') \\\n",
    "            .agg(F.count('user_id').alias('marks_cnt')) \\\n",
    "            .sort(F.col('marks_cnt').desc()) \\\n",
    "            .limit(self.movies_base_limit)\\\n",
    "            .alias(\"marks_counts\")\\\n",
    "            .persist()\n",
    "        self.marks = marks\\\n",
    "            .select('movie_id', 'user_id')\\\n",
    "            .join(self.marks_counts, marks[\"movie_id\"] == self.marks_counts[\"movie_id\"], \"leftsemi\")\\\n",
    "            .persist()\n",
    "        \n",
    "    def predict(self, users_ids, N):\n",
    "        return self.marks\\\n",
    "            .join(users_ids, self.marks[\"user_id\"] ==  users_ids[\"user_id\"], \"leftsemi\")\\\n",
    "            .alias(\"request\")\\\n",
    "            .crossJoin(self.marks.alias(\"base\"))\\\n",
    "            .select(\n",
    "                F.col(\"request.user_id\").alias(\"request_id\"), \n",
    "                F.col(\"request.movie_id\").alias(\"request_movie_id\"), \n",
    "                F.col(\"base.movie_id\").alias(\"movie_id\"), \n",
    "                F.col(\"base.user_id\").alias(\"user_id\"))\\\n",
    "            .filter(F.col('request_movie_id') != F.col('movie_id')) \\\n",
    "            .filter(F.col('request_id') != F.col('user_id')) \\\n",
    "            .groupby('request_id', 'request_movie_id', 'movie_id')\\\n",
    "            .agg(F.count('user_id').alias('common_users'))\\\n",
    "            .alias(\"intersection\")\\\n",
    "            .join(self.marks_counts.alias(\"request_cnts\"), F.col(\"request_cnts.movie_id\") == F.col(\"intersection.request_movie_id\"))\\\n",
    "            .join(self.marks_counts.alias(\"movie_cnts\"), F.col(\"movie_cnts.movie_id\") == F.col(\"intersection.movie_id\"))\\\n",
    "            .select(\n",
    "                F.col(\"intersection.request_id\").alias(\"request_id\"),\n",
    "                F.col(\"intersection.request_movie_id\").alias(\"request_movie_id\"),\n",
    "                F.col(\"intersection.movie_id\").alias(\"movie_id\"),\n",
    "                F.col(\"intersection.common_users\").alias(\"intersection_cnt\"),\n",
    "                F.col(\"request_cnts.marks_cnt\").alias(\"request_cnt\"),\n",
    "                F.col(\"movie_cnts.marks_cnt\").alias(\"movie_cnt\"))\\\n",
    "            .withColumn('sim', \n",
    "                    F.col('intersection_cnt') / (F.col('request_cnt') + F.col('movie_cnt') - F.col('intersection_cnt')))\\\n",
    "            .groupby(\"request_id\", \"movie_id\")\\\n",
    "            .agg(F.max(\"sim\").alias(\"sim\"))\\\n",
    "            .alias('options')\\\n",
    "            .join(self.marks.alias(\"database\"), \n",
    "                  (F.col(\"options.request_id\") == F.col(\"database.user_id\")) & \n",
    "                      (F.col(\"options.movie_id\") == F.col(\"database.movie_id\")),\n",
    "                  \"leftanti\")\\\n",
    "            .withColumn('rank', \n",
    "                    F.dense_rank().over(\n",
    "                        Window.partitionBy('request_id',)\n",
    "                            .orderBy(F.col('sim').desc())))\\\n",
    "            .filter(F.col(\"rank\") <= N)\\\n",
    "            .select(\"request_id\", \"movie_id\", \"rank\")"
   ]
  },
  {
   "cell_type": "code",
   "execution_count": 261,
   "metadata": {},
   "outputs": [
    {
     "name": "stdout",
     "output_type": "stream",
     "text": [
      "root\n",
      " |-- request_id: long (nullable = true)\n",
      " |-- movie_id: long (nullable = true)\n",
      " |-- rank: integer (nullable = true)\n",
      "\n"
     ]
    }
   ],
   "source": [
    "trm = IkNNRecommendation()\n",
    "trm.train(small_ratings)\n",
    "trm.predict(small_ratings, 10).printSchema()"
   ]
  },
  {
   "cell_type": "markdown",
   "metadata": {},
   "source": [
    "## Evaluation Protocol\n",
    "\n",
    "Теперь опишем, как будем оценивать качество рассматриваемых методов.\n",
    "\n",
    "### Data Splits\n",
    "\n",
    "Так как в данных `ratings` есть поле `timestamp`, то для каждого пользователя отсортируем его рейтинги по времени и первые $80\\%$ рейтингов отнесем в `Train`, еще $10\\%$ в `Validation`, и остальное в `Test`.\n"
   ]
  },
  {
   "cell_type": "code",
   "execution_count": 176,
   "metadata": {},
   "outputs": [
    {
     "data": {
      "text/plain": [
       "5013"
      ]
     },
     "execution_count": 176,
     "metadata": {},
     "output_type": "execute_result"
    }
   ],
   "source": [
    "small_users.count()"
   ]
  },
  {
   "cell_type": "code",
   "execution_count": 177,
   "metadata": {},
   "outputs": [],
   "source": [
    "dataset = small_ratings\\\n",
    "            .withColumn('rank', \n",
    "                    F.rank().over(\n",
    "                        Window.partitionBy('user_id',)\n",
    "                            .orderBy(F.col('timestamp').asc())))\\\n",
    "            .join(small_users, small_users[\"user_id\"] == small_ratings[\"user_id\"])\\\n",
    "            .select(\n",
    "                small_ratings[\"user_id\"].alias(\"user_id\"),\n",
    "                small_ratings[\"movie_id\"].alias(\"movie_id\"),\n",
    "                small_ratings[\"rating\"].alias(\"rating\"),\n",
    "                \"rank\",\n",
    "                small_users[\"ratings_cnt\"].alias(\"ratings_cnt\"))\\\n",
    "            .persist()"
   ]
  },
  {
   "cell_type": "code",
   "execution_count": 178,
   "metadata": {},
   "outputs": [],
   "source": [
    "train = dataset.filter(F.col(\"ratings_cnt\") * 0.8 > F.col(\"rank\"))\\\n",
    "    .drop(\"rank\", \"ratings_cnt\")\\\n",
    "    .persist()"
   ]
  },
  {
   "cell_type": "code",
   "execution_count": 179,
   "metadata": {},
   "outputs": [],
   "source": [
    "validate = dataset.filter((F.col(\"ratings_cnt\") * 0.8 <= F.col(\"rank\")) & (F.col(\"ratings_cnt\") * 0.9 > F.col(\"rank\")))\\\n",
    "    .drop(\"rank\", \"ratings_cnt\")\\\n",
    "    .persist()"
   ]
  },
  {
   "cell_type": "code",
   "execution_count": 180,
   "metadata": {},
   "outputs": [],
   "source": [
    "test = dataset.filter(F.col(\"ratings_cnt\") * 0.9 <= F.col(\"rank\"))\\\n",
    "    .drop(\"rank\", \"ratings_cnt\")\\\n",
    "    .persist()"
   ]
  },
  {
   "cell_type": "code",
   "execution_count": 175,
   "metadata": {},
   "outputs": [
    {
     "data": {
      "text/plain": [
       "76997"
      ]
     },
     "execution_count": 175,
     "metadata": {},
     "output_type": "execute_result"
    }
   ],
   "source": [
    "test.count()"
   ]
  },
  {
   "cell_type": "code",
   "execution_count": 267,
   "metadata": {},
   "outputs": [],
   "source": [
    "small_test_users = test\\\n",
    "    .select(\"user_id\")\\\n",
    "    .distinct()\\\n",
    "    .sample(fraction=5/5000, seed=1235, withReplacement=False)\\\n",
    "    .alias(\"small_test_users\")\\\n",
    "    .persist()"
   ]
  },
  {
   "cell_type": "code",
   "execution_count": 268,
   "metadata": {},
   "outputs": [],
   "source": [
    "small_test = test\\\n",
    "    .join(small_test_users, small_test_users[\"user_id\"] == test[\"user_id\"], \"left_semi\")\\\n",
    "    .alias(\"small_test\")\\\n",
    "    .persist()"
   ]
  },
  {
   "cell_type": "markdown",
   "metadata": {},
   "source": [
    "### Metrics\n",
    "\n",
    "В `Test` для каждого пользователя есть `user_id, R_u`, где $R_u$ - множество фильмов, которым он поставил оценку. Для того чтобы оценить качество рассматриваемых методов будем для пользователя строить список из $N$ рекомендаций $\\hat{R}_{1\\colon N}$ и считать метрики.\n",
    "\n",
    "* $$ Precision@N = \\frac{|R_u \\cap \\hat{R}_{1\\colon N} |}{N} $$\n",
    "* $$ Recall@N = \\frac{|R_u \\cap \\hat{R}_{1\\colon N} |}{|R_u|} $$\n",
    "* $Map@N$\n",
    "\n",
    "где $N \\in \\{1,5,10\\}$\n",
    "\n",
    "https://spark.apache.org/docs/latest/mllib-evaluation-metrics.html#ranking-systems"
   ]
  },
  {
   "cell_type": "code",
   "execution_count": null,
   "metadata": {},
   "outputs": [],
   "source": [
    "import numpy as np\n",
    "\n",
    "def get_metrics(test, predictions, ns):\n",
    "    tp = test\\\n",
    "        .join(predictions, \n",
    "              (test[\"user_id\"] == predictions[\"request_id\"]) & (test[\"movie_id\"] == predictions[\"movie_id\"]),\n",
    "             \"inner\")\\\n",
    "        .select(\n",
    "            test[\"user_id\"].alias(\"user_id\"), \n",
    "            predictions[\"rank\"])\\\n",
    "        .alias(\"tp\")\n",
    "    test_counts = test\\\n",
    "        .groupby(\"user_id\")\\\n",
    "        .agg(F.count('movie_id').alias('m'))\\\n",
    "        .select(\"user_id\", \"m\")\\\n",
    "        .alias(\"user_m\")\n",
    "    result = test_counts\\\n",
    "        .join(tp, tp[\"user_id\"] == test_counts[\"user_id\"], \"left\")\\\n",
    "        .select(\n",
    "            tp[\"user_id\"].alias(\"user_id\"),\n",
    "            tp[\"rank\"].alias(\"rank\"),\n",
    "            test_counts[\"m\"].alias(\"m\"))\\\n",
    "        .alias(\"result\")\\\n",
    "        .persist()\n",
    "    N = max(ns)\n",
    "    num_users = test_counts.count()\n",
    "    print(num_users)\n",
    "    precisions = []\n",
    "    recalls = []\n",
    "    for i in range(1, N + 1):\n",
    "        metrics = result\\\n",
    "            .filter((result[\"rank\"] <= i) | (result[\"rank\"] == None))\\\n",
    "            .groupby(\"user_id\")\\\n",
    "            .agg(F.count(\"rank\").alias(\"tp\"), F.min(\"m\").alias(\"m\"))\\\n",
    "            .withColumn(\"precision\", F.col(\"tp\") / i)\\\n",
    "            .withColumn(\"recall\", F.col(\"tp\") / F.col(\"m\"))\\\n",
    "            .select(F.sum(\"recall\").alias(\"sum_recall\"), F.sum(\"precision\").alias(\"sum_precision\"))\\\n",
    "            .collect()\n",
    "        precisions.append(metrics[0].sum_precision / num_users)\n",
    "        recalls.append(metrics[0].sum_recall / num_users)\n",
    "            \n",
    "            \n",
    "    return [(precisions[n - 1], recalls[n - 1], np.mean(precisions[:n])) for n in ns]"
   ]
  },
  {
   "cell_type": "markdown",
   "metadata": {},
   "source": [
    "## Experimental Results\n",
    "\n",
    "Посмотрим на результаты\n",
    "\n",
    "*Remark* скорее всего посчитать метрики для всех пользователей будет довольно долго - можно ограничится, например, случайными 10к пользователями"
   ]
  },
  {
   "cell_type": "code",
   "execution_count": 155,
   "metadata": {},
   "outputs": [],
   "source": [
    "ns = [1, 5, 10]"
   ]
  },
  {
   "cell_type": "markdown",
   "metadata": {},
   "source": [
    "### PopularRecommendation"
   ]
  },
  {
   "cell_type": "code",
   "execution_count": 201,
   "metadata": {},
   "outputs": [],
   "source": [
    "pop = PopularRecommendation()\n",
    "pop.train(train)\n",
    "result = pop.predict(small_users.select(\"user_id\"), 10).persist()\n",
    "metrics = get_metrics(test, result, ns)"
   ]
  },
  {
   "cell_type": "code",
   "execution_count": 202,
   "metadata": {},
   "outputs": [
    {
     "name": "stdout",
     "output_type": "stream",
     "text": [
      "P@1 = 0.05467479674796748,\tR@1 = 0.004956849797669468,\tMAP@1 = 0.05467479674796748\n",
      "P@5 = 0.044308943089430904,\tR@5 = 0.023164098561375506,\tMAP@5 = 0.04848915989159891\n",
      "P@10 = 0.039349593495934955,\tR@10 = 0.03918812469640851,\tMAP@10 = 0.04489899503161698\n"
     ]
    }
   ],
   "source": [
    "for metric_pack, n in zip(metrics, ns):\n",
    "    precision, recall, MAP = metric_pack\n",
    "    print(\"P@\", n, \" = \", precision, \",\\tR@\", n, \" = \", recall, \",\\tMAP@\", n, \" = \", MAP, sep='')"
   ]
  },
  {
   "cell_type": "markdown",
   "metadata": {},
   "source": [
    "### User-based Collaborative Filtering"
   ]
  },
  {
   "cell_type": "code",
   "execution_count": 225,
   "metadata": {},
   "outputs": [
    {
     "name": "stdout",
     "output_type": "stream",
     "text": [
      "136984\n"
     ]
    }
   ],
   "source": [
    "cfr = CollaborativeFilteringRecommendation(0.5)\n",
    "cfr.train(train)\n",
    "\n",
    "result = cfr.predict(small_users.select(\"user_id\"), 10).persist()\n",
    "metrics = get_metrics(test, result, ns)"
   ]
  },
  {
   "cell_type": "code",
   "execution_count": 226,
   "metadata": {},
   "outputs": [
    {
     "name": "stdout",
     "output_type": "stream",
     "text": [
      "P@1 = 0.01707317073170732,\tR@1 = 0.001170444401960477,\tMAP@1 = 0.01707317073170732\n",
      "P@5 = 0.01813008130081302,\tR@5 = 0.00871476346753608,\tMAP@5 = 0.017470867208672088\n",
      "P@10 = 0.018252032520325208,\tR@10 = 0.01760218559887633,\tMAP@10 = 0.01801502613240418\n"
     ]
    }
   ],
   "source": [
    "for metric_pack, n in zip(metrics, ns):\n",
    "    precision, recall, MAP = metric_pack\n",
    "    print(\"P@\", n, \" = \", precision, \",\\tR@\", n, \" = \", recall, \",\\tMAP@\", n, \" = \", MAP, sep='')"
   ]
  },
  {
   "cell_type": "markdown",
   "metadata": {},
   "source": [
    "### Item-kNN"
   ]
  },
  {
   "cell_type": "code",
   "execution_count": null,
   "metadata": {},
   "outputs": [],
   "source": [
    "kNN = IkNNRecommendation()\n",
    "kNN.train(train)\n",
    "\n",
    "result = kNN.predict(small_test_users.select(\"user_id\"), 10).persist()\n",
    "metrics = get_metrics(small_test, result, ns)"
   ]
  },
  {
   "cell_type": "code",
   "execution_count": null,
   "metadata": {},
   "outputs": [],
   "source": [
    "result.take(20)"
   ]
  },
  {
   "cell_type": "code",
   "execution_count": null,
   "metadata": {},
   "outputs": [],
   "source": []
  }
 ],
 "metadata": {
  "kernelspec": {
   "display_name": "Python 3",
   "language": "python",
   "name": "python3"
  },
  "language_info": {
   "codemirror_mode": {
    "name": "ipython",
    "version": 3
   },
   "file_extension": ".py",
   "mimetype": "text/x-python",
   "name": "python",
   "nbconvert_exporter": "python",
   "pygments_lexer": "ipython3",
   "version": "3.5.6"
  },
  "toc": {
   "base_numbering": 1,
   "nav_menu": {
    "height": "431.997px",
    "width": "329.514px"
   },
   "number_sections": true,
   "sideBar": true,
   "skip_h1_title": false,
   "title_cell": "Table of Contents",
   "title_sidebar": "Contents",
   "toc_cell": false,
   "toc_position": {
    "height": "calc(100% - 180px)",
    "left": "10px",
    "top": "150px",
    "width": "321.545px"
   },
   "toc_section_display": true,
   "toc_window_display": true
  }
 },
 "nbformat": 4,
 "nbformat_minor": 2
}
