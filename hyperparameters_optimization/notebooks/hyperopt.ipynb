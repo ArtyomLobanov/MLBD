{
 "cells": [
  {
   "cell_type": "markdown",
   "metadata": {
    "toc": true
   },
   "source": [
    "<h1>Table of Contents<span class=\"tocSkip\"></span></h1>\n",
    "<div class=\"toc\"><ul class=\"toc-item\"><li><span><a href=\"#Spark-MLlib-Tuning\" data-toc-modified-id=\"Spark-MLlib-Tuning-1\"><span class=\"toc-item-num\">1&nbsp;&nbsp;</span><a href=\"https://spark.apache.org/docs/latest/ml-tuning.html\" target=\"_blank\">Spark MLlib Tuning</a></a></span></li><li><span><a href=\"#Hyperopt\" data-toc-modified-id=\"Hyperopt-2\"><span class=\"toc-item-num\">2&nbsp;&nbsp;</span><a href=\"https://github.com/hyperopt/hyperopt\" target=\"_blank\">Hyperopt</a></a></span><ul class=\"toc-item\"><li><span><a href=\"#XGBoost-Tuning\" data-toc-modified-id=\"XGBoost-Tuning-2.1\"><span class=\"toc-item-num\">2.1&nbsp;&nbsp;</span><a href=\"https://www.analyticsvidhya.com/blog/2016/03/complete-guide-parameter-tuning-xgboost-with-codes-python/\" target=\"_blank\">XGBoost Tuning</a></a></span><ul class=\"toc-item\"><li><span><a href=\"#Objective-function\" data-toc-modified-id=\"Objective-function-2.1.1\"><span class=\"toc-item-num\">2.1.1&nbsp;&nbsp;</span>Objective function</a></span></li><li><span><a href=\"#Tune-number-of-trees\" data-toc-modified-id=\"Tune-number-of-trees-2.1.2\"><span class=\"toc-item-num\">2.1.2&nbsp;&nbsp;</span>Tune number of trees</a></span></li><li><span><a href=\"#Tune-tree-specific-parameters\" data-toc-modified-id=\"Tune-tree-specific-parameters-2.1.3\"><span class=\"toc-item-num\">2.1.3&nbsp;&nbsp;</span>Tune tree-specific parameters</a></span><ul class=\"toc-item\"><li><span><a href=\"#Tune-max_depth,-min_child_weight\" data-toc-modified-id=\"Tune-max_depth,-min_child_weight-2.1.3.1\"><span class=\"toc-item-num\">2.1.3.1&nbsp;&nbsp;</span>Tune max_depth, min_child_weight</a></span></li><li><span><a href=\"#Tune-gamma\" data-toc-modified-id=\"Tune-gamma-2.1.3.2\"><span class=\"toc-item-num\">2.1.3.2&nbsp;&nbsp;</span>Tune gamma</a></span></li><li><span><a href=\"#Tune-subsample,-colsample_bytree\" data-toc-modified-id=\"Tune-subsample,-colsample_bytree-2.1.3.3\"><span class=\"toc-item-num\">2.1.3.3&nbsp;&nbsp;</span>Tune subsample, colsample_bytree</a></span></li></ul></li><li><span><a href=\"#Tune-regularization-parameters\" data-toc-modified-id=\"Tune-regularization-parameters-2.1.4\"><span class=\"toc-item-num\">2.1.4&nbsp;&nbsp;</span>Tune regularization parameters</a></span></li><li><span><a href=\"#Lower-the-learning-rate-and-decide-the-optimal-parameters\" data-toc-modified-id=\"Lower-the-learning-rate-and-decide-the-optimal-parameters-2.1.5\"><span class=\"toc-item-num\">2.1.5&nbsp;&nbsp;</span>Lower the learning rate and decide the optimal parameters</a></span></li></ul></li><li><span><a href=\"#LogisticRegression-Tuning\" data-toc-modified-id=\"LogisticRegression-Tuning-2.2\"><span class=\"toc-item-num\">2.2&nbsp;&nbsp;</span>LogisticRegression Tuning</a></span></li><li><span><a href=\"#Optional-MongoTrials\" data-toc-modified-id=\"Optional-MongoTrials-2.3\"><span class=\"toc-item-num\">2.3&nbsp;&nbsp;</span>Optional <a href=\"https://hyperopt.github.io/hyperopt/scaleout/mongodb/\" target=\"_blank\">MongoTrials</a></a></span><ul class=\"toc-item\"><li><span><a href=\"#XGBoost-Tuning\" data-toc-modified-id=\"XGBoost-Tuning-2.3.1\"><span class=\"toc-item-num\">2.3.1&nbsp;&nbsp;</span>XGBoost Tuning</a></span></li></ul></li></ul></li><li><span><a href=\"#Results\" data-toc-modified-id=\"Results-3\"><span class=\"toc-item-num\">3&nbsp;&nbsp;</span>Results</a></span></li></ul></div>"
   ]
  },
  {
   "cell_type": "markdown",
   "metadata": {},
   "source": [
    "Продолжаем работать над задачей CTR-prediction с использованием датасета от Criteo.\n",
    "\n",
    "Описание задачи и данных можно посмотреть в notebook'e предыдущей практики (`sgd_logreg_nn/notebooks/ctr_prediction_mllib.ipynb`)."
   ]
  },
  {
   "cell_type": "code",
   "execution_count": 1,
   "metadata": {},
   "outputs": [],
   "source": [
    "%matplotlib inline\n",
    "%config InlineBackend.figure_format ='retina'\n",
    "\n",
    "import os\n",
    "import sys\n",
    "import glob\n",
    "import pickle\n",
    "import seaborn as sns\n",
    "import matplotlib.pyplot as plt\n",
    "import numpy as np\n",
    "\n",
    "import pyspark\n",
    "import pyspark.sql.functions as F\n",
    "from pyspark.conf import SparkConf\n",
    "from pyspark.sql import SQLContext\n",
    "from pyspark.sql import SparkSession\n",
    "from pyspark.sql import Row\n",
    "\n",
    "COMMON_PATH = '/workspace/common'\n",
    "\n",
    "sys.path.append(os.path.join(COMMON_PATH, 'utils'))\n",
    "\n",
    "os.environ['PYSPARK_SUBMIT_ARGS'] = \"\"\"\n",
    "--jars {common}/xgboost4j-spark-0.72.jar,{common}/xgboost4j-0.72.jar\n",
    "--py-files {common}/sparkxgb.zip pyspark-shell\n",
    "\"\"\".format(common=COMMON_PATH).replace('\\n', ' ')\n",
    "\n",
    "spark = SparkSession \\\n",
    "    .builder \\\n",
    "    .master('local[*]') \\\n",
    "    .appName(\"spark_sql_examples\") \\\n",
    "    .config(\"spark.executor.memory\", \"6g\") \\\n",
    "    .getOrCreate()\n",
    "\n",
    "sc = spark.sparkContext\n",
    "sqlContext = SQLContext(sc)\n",
    "\n",
    "from metrics import rocauc, logloss, ne, get_ate\n",
    "from processing import split_by_col\n",
    "\n",
    "from sparkxgb.xgboost import *"
   ]
  },
  {
   "cell_type": "code",
   "execution_count": 67,
   "metadata": {},
   "outputs": [],
   "source": [
    "from pyspark.ml.classification import LogisticRegression"
   ]
  },
  {
   "cell_type": "code",
   "execution_count": 2,
   "metadata": {},
   "outputs": [],
   "source": [
    "DATA_PATH = '/workspace/data/criteo/dac/'\n",
    "\n",
    "TRAIN_PATH = os.path.join(DATA_PATH, 'train.csv')"
   ]
  },
  {
   "cell_type": "code",
   "execution_count": 3,
   "metadata": {},
   "outputs": [],
   "source": [
    "df = sqlContext.read.format(\"com.databricks.spark.csv\") \\\n",
    "    .option(\"delimiter\", \",\") \\\n",
    "    .option(\"header\", \"true\") \\\n",
    "    .option(\"inferSchema\", \"true\") \\\n",
    "    .load('file:///' + TRAIN_PATH)"
   ]
  },
  {
   "cell_type": "markdown",
   "metadata": {},
   "source": [
    "**Remark** Необязательно использовать половину датасета и всего две категориальные переменные. Можно использовать больше данных, если вам позволяет ваша конфигурация"
   ]
  },
  {
   "cell_type": "code",
   "execution_count": 4,
   "metadata": {},
   "outputs": [],
   "source": [
    "df = df.sample(False, 0.5)"
   ]
  },
  {
   "cell_type": "code",
   "execution_count": 5,
   "metadata": {},
   "outputs": [
    {
     "data": {
      "text/plain": [
       "(13, 2)"
      ]
     },
     "execution_count": 5,
     "metadata": {},
     "output_type": "execute_result"
    }
   ],
   "source": [
    "num_columns = ['_c{}'.format(i) for i in range(1, 14)]\n",
    "cat_columns = ['_c{}'.format(i) for i in range(14, 40)][:2]\n",
    "len(num_columns), len(cat_columns)"
   ]
  },
  {
   "cell_type": "code",
   "execution_count": 6,
   "metadata": {},
   "outputs": [],
   "source": [
    "df = df.fillna(0, subset=num_columns)"
   ]
  },
  {
   "cell_type": "code",
   "execution_count": 7,
   "metadata": {},
   "outputs": [],
   "source": [
    "from pyspark.ml import PipelineModel\n",
    "\n",
    "\n",
    "pipeline_model = PipelineModel.load(os.path.join(DATA_PATH, 'preprocessing_transformer'))"
   ]
  },
  {
   "cell_type": "code",
   "execution_count": 8,
   "metadata": {},
   "outputs": [
    {
     "data": {
      "text/plain": [
       "1832511"
      ]
     },
     "execution_count": 8,
     "metadata": {},
     "output_type": "execute_result"
    }
   ],
   "source": [
    "df = pipeline_model \\\n",
    "    .transform(df) \\\n",
    "    .select(F.col('_c0').alias('label'), 'features', 'id') \\\n",
    "    .cache()\n",
    "\n",
    "df.count()"
   ]
  },
  {
   "cell_type": "code",
   "execution_count": 9,
   "metadata": {},
   "outputs": [],
   "source": [
    "train_df, val_df, test_df = split_by_col(df, 'id', [0.8, 0.1, 0.1])"
   ]
  },
  {
   "cell_type": "markdown",
   "metadata": {},
   "source": [
    "# [Spark MLlib Tuning](https://spark.apache.org/docs/latest/ml-tuning.html)\n",
    "\n",
    "У имеющегося в Spark'e метода HPO есть два существенных недостатка, которые делают его мало пригодным в контексте нашей задачи:\n",
    "\n",
    "1. `ParamGridBuilder` - поиск по сетке\n",
    "2. `TrainValidationSplit` - делит данные случайнм образом"
   ]
  },
  {
   "cell_type": "markdown",
   "metadata": {},
   "source": [
    "# [Hyperopt](https://github.com/hyperopt/hyperopt)\n",
    "\n",
    "Установим `hyperopt`"
   ]
  },
  {
   "cell_type": "code",
   "execution_count": 10,
   "metadata": {},
   "outputs": [
    {
     "name": "stdout",
     "output_type": "stream",
     "text": [
      "Requirement already satisfied: hyperopt in /usr/lib/python3.5/site-packages (0.2.3)\n",
      "Requirement already satisfied: tqdm in /usr/lib/python3.5/site-packages (from hyperopt) (4.43.0)\n",
      "Requirement already satisfied: future in /usr/lib/python3.5/site-packages (from hyperopt) (0.18.2)\n",
      "Requirement already satisfied: cloudpickle in /usr/lib/python3.5/site-packages (from hyperopt) (1.3.0)\n",
      "Requirement already satisfied: scipy in /usr/lib64/python3.5/site-packages (from hyperopt) (1.3.3)\n",
      "Requirement already satisfied: networkx==2.2 in /usr/lib/python3.5/site-packages (from hyperopt) (2.2)\n",
      "Requirement already satisfied: six in /usr/lib/python3.5/site-packages (from hyperopt) (1.14.0)\n",
      "Requirement already satisfied: numpy in /usr/lib64/python3.5/site-packages (from hyperopt) (1.17.2)\n",
      "Requirement already satisfied: decorator>=4.3.0 in /usr/lib/python3.5/site-packages (from networkx==2.2->hyperopt) (4.4.1)\n"
     ]
    }
   ],
   "source": [
    "!pip3.5 install hyperopt"
   ]
  },
  {
   "cell_type": "markdown",
   "metadata": {},
   "source": [
    "## [XGBoost Tuning](https://www.analyticsvidhya.com/blog/2016/03/complete-guide-parameter-tuning-xgboost-with-codes-python/)\n",
    "\n",
    "> [Notes on Parameter Tuning](https://xgboost.readthedocs.io/en/latest/tutorials/param_tuning.html)\n",
    "\n",
    "### Objective function"
   ]
  },
  {
   "cell_type": "code",
   "execution_count": 11,
   "metadata": {},
   "outputs": [],
   "source": [
    "from hyperopt import fmin, tpe, hp, Trials, STATUS_OK\n",
    "import scipy.stats as st\n",
    "\n",
    "\n",
    "def objective(space):\n",
    "    estimator = XGBoostEstimator(**space)\n",
    "    print('SPACE:', estimator._input_kwargs_processed())\n",
    "    success = False\n",
    "    attempts = 0\n",
    "    model = None\n",
    "    while not success and attempts < 2:\n",
    "        try:\n",
    "            model = estimator.fit(train_df)\n",
    "            success = True\n",
    "        except Exception as e:\n",
    "            attempts += 1\n",
    "            print(e)\n",
    "            print('Try again')\n",
    "        \n",
    "    log_loss = logloss(model, val_df, probabilities_col='probabilities')\n",
    "    roc_auc = rocauc(model, val_df, probabilities_col='probabilities')\n",
    "    \n",
    "    print('LOG-LOSS: {}, ROC-AUC: {}'.format(log_loss, roc_auc))\n",
    "\n",
    "    return {'loss': log_loss, 'rocauc': roc_auc, 'status': STATUS_OK }"
   ]
  },
  {
   "cell_type": "code",
   "execution_count": 12,
   "metadata": {},
   "outputs": [],
   "source": [
    "static_params = {\n",
    "    'featuresCol': \"features\", \n",
    "    'labelCol': \"label\", \n",
    "    'predictionCol': \"prediction\",\n",
    "    'eval_metric': 'logloss',\n",
    "    'objective': 'binary:logistic',\n",
    "    'nthread': 1,\n",
    "    'silent': 0,\n",
    "    'nworkers': 1\n",
    "}"
   ]
  },
  {
   "cell_type": "markdown",
   "metadata": {},
   "source": [
    "Fix baseline parameters and train baseline model"
   ]
  },
  {
   "cell_type": "code",
   "execution_count": 13,
   "metadata": {},
   "outputs": [],
   "source": [
    "CONTROL_NAME = 'xgb baseline'\n",
    "\n",
    "baseline_params = {\n",
    "    'colsample_bytree': 0.9,\n",
    "    'eta': 0.15,\n",
    "    'gamma': 0.9,\n",
    "    'max_depth': 6,\n",
    "    'min_child_weight': 50.0,\n",
    "    'subsample': 0.9,\n",
    "    'num_round': 20\n",
    "}\n",
    "\n",
    "baseline_model = XGBoostEstimator(**{**static_params, **baseline_params}).fit(train_df)"
   ]
  },
  {
   "cell_type": "code",
   "execution_count": 14,
   "metadata": {},
   "outputs": [
    {
     "data": {
      "text/plain": [
       "0.7251075671753238"
      ]
     },
     "execution_count": 14,
     "metadata": {},
     "output_type": "execute_result"
    }
   ],
   "source": [
    "baseline_rocauc = rocauc(baseline_model, val_df, probabilities_col='probabilities')\n",
    "baseline_rocauc"
   ]
  },
  {
   "cell_type": "code",
   "execution_count": 15,
   "metadata": {},
   "outputs": [],
   "source": [
    "all_metrics = {}"
   ]
  },
  {
   "cell_type": "code",
   "execution_count": 76,
   "metadata": {},
   "outputs": [],
   "source": [
    "def add_metrics_result(name, model, train_df, test_df, all_metrics, probabilities_col='probabilities'):\n",
    "    metrics_values = {\n",
    "        'logloss_test': logloss(model, test_df, probabilities_col=probabilities_col),\n",
    "        'rocauc_test': rocauc(model, test_df, probabilities_col=probabilities_col)\n",
    "    }\n",
    "    all_metrics[name] = metrics_values"
   ]
  },
  {
   "cell_type": "code",
   "execution_count": 17,
   "metadata": {},
   "outputs": [],
   "source": [
    "add_metrics_result(CONTROL_NAME, baseline_model, train_df, test_df, all_metrics)"
   ]
  },
  {
   "cell_type": "markdown",
   "metadata": {},
   "source": [
    "### Tune number of trees\n",
    "\n",
    "> Choose a relatively high learning rate. Generally a learning rate of 0.1 works but somewhere between 0.05 to 0.3 should work for different problems. Determine the optimum number of trees for this learning rate."
   ]
  },
  {
   "cell_type": "code",
   "execution_count": 22,
   "metadata": {
    "scrolled": true
   },
   "outputs": [
    {
     "name": "stdout",
     "output_type": "stream",
     "text": [
      "SPACE:                                                \n",
      "{'objective': 'binary:logistic', 'gamma': 0.9, 'silent': 0, 'labelCol': 'label', 'eta': 0.2, 'colsample_bytree': 0.9, 'min_child_weight': 50.0, 'featuresCol': 'features', 'eval_metric': 'logloss', 'nthread': 1, 'nworkers': 1, 'num_round': 10, 'max_depth': 6, 'predictionCol': 'prediction', 'subsample': 0.9}\n",
      "LOG-LOSS: 0.516636396266625, ROC-AUC: 0.7218785845888716\n",
      "SPACE:                                                                          \n",
      "{'objective': 'binary:logistic', 'gamma': 0.9, 'silent': 0, 'labelCol': 'label', 'eta': 0.1, 'colsample_bytree': 0.9, 'min_child_weight': 50.0, 'featuresCol': 'features', 'eval_metric': 'logloss', 'nthread': 1, 'nworkers': 1, 'num_round': 10, 'max_depth': 6, 'predictionCol': 'prediction', 'subsample': 0.9}\n",
      "LOG-LOSS: 0.5442859204790472, ROC-AUC: 0.7189505048332658                       \n",
      "SPACE:                                                                          \n",
      "{'objective': 'binary:logistic', 'gamma': 0.9, 'silent': 0, 'labelCol': 'label', 'eta': 0.5, 'colsample_bytree': 0.9, 'min_child_weight': 50.0, 'featuresCol': 'features', 'eval_metric': 'logloss', 'nthread': 1, 'nworkers': 1, 'num_round': 20, 'max_depth': 6, 'predictionCol': 'prediction', 'subsample': 0.9}\n",
      "LOG-LOSS: 0.5060419549666916, ROC-AUC: 0.730622221218416                        \n",
      "SPACE:                                                                           \n",
      "{'objective': 'binary:logistic', 'gamma': 0.9, 'silent': 0, 'labelCol': 'label', 'eta': 0.1, 'colsample_bytree': 0.9, 'min_child_weight': 50.0, 'featuresCol': 'features', 'eval_metric': 'logloss', 'nthread': 1, 'nworkers': 1, 'num_round': 20, 'max_depth': 6, 'predictionCol': 'prediction', 'subsample': 0.9}\n",
      "LOG-LOSS: 0.5171906754449938, ROC-AUC: 0.7225797042691408                        \n",
      "SPACE:                                                                           \n",
      "{'objective': 'binary:logistic', 'gamma': 0.9, 'silent': 0, 'labelCol': 'label', 'eta': 0.1, 'colsample_bytree': 0.9, 'min_child_weight': 50.0, 'featuresCol': 'features', 'eval_metric': 'logloss', 'nthread': 1, 'nworkers': 1, 'num_round': 10, 'max_depth': 6, 'predictionCol': 'prediction', 'subsample': 0.9}\n",
      "LOG-LOSS: 0.5442859204790472, ROC-AUC: 0.718950504833265                         \n",
      "SPACE:                                                                           \n",
      "{'objective': 'binary:logistic', 'gamma': 0.9, 'silent': 0, 'labelCol': 'label', 'eta': 0.1, 'colsample_bytree': 0.9, 'min_child_weight': 50.0, 'featuresCol': 'features', 'eval_metric': 'logloss', 'nthread': 1, 'nworkers': 1, 'num_round': 20, 'max_depth': 6, 'predictionCol': 'prediction', 'subsample': 0.9}\n",
      "LOG-LOSS: 0.5171906754449938, ROC-AUC: 0.7225797042691412                        \n",
      "SPACE:                                                                           \n",
      "{'objective': 'binary:logistic', 'gamma': 0.9, 'silent': 0, 'labelCol': 'label', 'eta': 0.2, 'colsample_bytree': 0.9, 'min_child_weight': 50.0, 'featuresCol': 'features', 'eval_metric': 'logloss', 'nthread': 1, 'nworkers': 1, 'num_round': 10, 'max_depth': 6, 'predictionCol': 'prediction', 'subsample': 0.9}\n",
      "LOG-LOSS: 0.516636396266625, ROC-AUC: 0.7218785845888717                         \n",
      "SPACE:                                                                           \n",
      "{'objective': 'binary:logistic', 'gamma': 0.9, 'silent': 0, 'labelCol': 'label', 'eta': 0.3, 'colsample_bytree': 0.9, 'min_child_weight': 50.0, 'featuresCol': 'features', 'eval_metric': 'logloss', 'nthread': 1, 'nworkers': 1, 'num_round': 40, 'max_depth': 6, 'predictionCol': 'prediction', 'subsample': 0.9}\n",
      "LOG-LOSS: 0.5043433238278184, ROC-AUC: 0.7334145630575841                       \n",
      "SPACE:                                                                          \n",
      "{'objective': 'binary:logistic', 'gamma': 0.9, 'silent': 0, 'labelCol': 'label', 'eta': 0.2, 'colsample_bytree': 0.9, 'min_child_weight': 50.0, 'featuresCol': 'features', 'eval_metric': 'logloss', 'nthread': 1, 'nworkers': 1, 'num_round': 40, 'max_depth': 6, 'predictionCol': 'prediction', 'subsample': 0.9}\n",
      "LOG-LOSS: 0.5058236955512775, ROC-AUC: 0.7314299456757107                       \n",
      "SPACE:                                                                           \n",
      "{'objective': 'binary:logistic', 'gamma': 0.9, 'silent': 0, 'labelCol': 'label', 'eta': 0.2, 'colsample_bytree': 0.9, 'min_child_weight': 50.0, 'featuresCol': 'features', 'eval_metric': 'logloss', 'nthread': 1, 'nworkers': 1, 'num_round': 100, 'max_depth': 6, 'predictionCol': 'prediction', 'subsample': 0.9}\n",
      "LOG-LOSS: 0.5025670034222809, ROC-AUC: 0.7358765399343549                        \n",
      "SPACE:                                                                            \n",
      "{'objective': 'binary:logistic', 'gamma': 0.9, 'silent': 0, 'labelCol': 'label', 'eta': 0.1, 'colsample_bytree': 0.9, 'min_child_weight': 50.0, 'featuresCol': 'features', 'eval_metric': 'logloss', 'nthread': 1, 'nworkers': 1, 'num_round': 20, 'max_depth': 6, 'predictionCol': 'prediction', 'subsample': 0.9}\n",
      "LOG-LOSS: 0.5171906754449938, ROC-AUC: 0.7225797042691403                         \n",
      "SPACE:                                                                            \n",
      "{'objective': 'binary:logistic', 'gamma': 0.9, 'silent': 0, 'labelCol': 'label', 'eta': 0.1, 'colsample_bytree': 0.9, 'min_child_weight': 50.0, 'featuresCol': 'features', 'eval_metric': 'logloss', 'nthread': 1, 'nworkers': 1, 'num_round': 40, 'max_depth': 6, 'predictionCol': 'prediction', 'subsample': 0.9}\n",
      "LOG-LOSS: 0.5087387462634196, ROC-AUC: 0.7277042952232825                         \n",
      "SPACE:                                                                            \n",
      "{'objective': 'binary:logistic', 'gamma': 0.9, 'silent': 0, 'labelCol': 'label', 'eta': 0.3, 'colsample_bytree': 0.9, 'min_child_weight': 50.0, 'featuresCol': 'features', 'eval_metric': 'logloss', 'nthread': 1, 'nworkers': 1, 'num_round': 100, 'max_depth': 6, 'predictionCol': 'prediction', 'subsample': 0.9}\n",
      "LOG-LOSS: 0.5013809286589649, ROC-AUC: 0.7374787328544605                         \n",
      "SPACE:                                                                            \n",
      "{'objective': 'binary:logistic', 'gamma': 0.9, 'silent': 0, 'labelCol': 'label', 'eta': 0.2, 'colsample_bytree': 0.9, 'min_child_weight': 50.0, 'featuresCol': 'features', 'eval_metric': 'logloss', 'nthread': 1, 'nworkers': 1, 'num_round': 100, 'max_depth': 6, 'predictionCol': 'prediction', 'subsample': 0.9}\n",
      "LOG-LOSS: 0.5025670034222809, ROC-AUC: 0.7358765399343561                         \n",
      "SPACE:                                                                            \n",
      "{'objective': 'binary:logistic', 'gamma': 0.9, 'silent': 0, 'labelCol': 'label', 'eta': 0.3, 'colsample_bytree': 0.9, 'min_child_weight': 50.0, 'featuresCol': 'features', 'eval_metric': 'logloss', 'nthread': 1, 'nworkers': 1, 'num_round': 20, 'max_depth': 6, 'predictionCol': 'prediction', 'subsample': 0.9}\n",
      "LOG-LOSS: 0.5070877157144487, ROC-AUC: 0.7296694124632563                         \n",
      "SPACE:                                                                            \n",
      "{'objective': 'binary:logistic', 'gamma': 0.9, 'silent': 0, 'labelCol': 'label', 'eta': 0.1, 'colsample_bytree': 0.9, 'min_child_weight': 50.0, 'featuresCol': 'features', 'eval_metric': 'logloss', 'nthread': 1, 'nworkers': 1, 'num_round': 20, 'max_depth': 6, 'predictionCol': 'prediction', 'subsample': 0.9}\n",
      "LOG-LOSS: 0.5171906754449938, ROC-AUC: 0.7225797042691429                         \n",
      "SPACE:                                                                            \n",
      "{'objective': 'binary:logistic', 'gamma': 0.9, 'silent': 0, 'labelCol': 'label', 'eta': 0.2, 'colsample_bytree': 0.9, 'min_child_weight': 50.0, 'featuresCol': 'features', 'eval_metric': 'logloss', 'nthread': 1, 'nworkers': 1, 'num_round': 20, 'max_depth': 6, 'predictionCol': 'prediction', 'subsample': 0.9}\n",
      "LOG-LOSS: 0.5090287471473949, ROC-AUC: 0.7268541089764433                         \n",
      "SPACE:                                                                            \n",
      "{'objective': 'binary:logistic', 'gamma': 0.9, 'silent': 0, 'labelCol': 'label', 'eta': 0.3, 'colsample_bytree': 0.9, 'min_child_weight': 50.0, 'featuresCol': 'features', 'eval_metric': 'logloss', 'nthread': 1, 'nworkers': 1, 'num_round': 20, 'max_depth': 6, 'predictionCol': 'prediction', 'subsample': 0.9}\n"
     ]
    },
    {
     "name": "stdout",
     "output_type": "stream",
     "text": [
      "LOG-LOSS: 0.5070877157144487, ROC-AUC: 0.72966941246326                           \n",
      "SPACE:                                                                            \n",
      "{'objective': 'binary:logistic', 'gamma': 0.9, 'silent': 0, 'labelCol': 'label', 'eta': 0.3, 'colsample_bytree': 0.9, 'min_child_weight': 50.0, 'featuresCol': 'features', 'eval_metric': 'logloss', 'nthread': 1, 'nworkers': 1, 'num_round': 40, 'max_depth': 6, 'predictionCol': 'prediction', 'subsample': 0.9}\n",
      "LOG-LOSS: 0.5043433238278184, ROC-AUC: 0.7334145630575858                         \n",
      "SPACE:                                                                              \n",
      "{'objective': 'binary:logistic', 'gamma': 0.9, 'silent': 0, 'labelCol': 'label', 'eta': 0.15, 'colsample_bytree': 0.9, 'min_child_weight': 50.0, 'featuresCol': 'features', 'eval_metric': 'logloss', 'nthread': 1, 'nworkers': 1, 'num_round': 10, 'max_depth': 6, 'predictionCol': 'prediction', 'subsample': 0.9}\n",
      "LOG-LOSS: 0.5250770221493121, ROC-AUC: 0.7206804696684908                           \n",
      "100%|██████████| 20/20 [1:05:35<00:00, 196.79s/trial, best loss: 0.5013809286589649]\n",
      "CPU times: user 3.98 s, sys: 835 ms, total: 4.82 s\n",
      "Wall time: 1h 5min 35s\n"
     ]
    }
   ],
   "source": [
    "%%time\n",
    "\n",
    "num_round_choice = [10, 20, 40, 100]\n",
    "eta_choice = [0.5, 0.10, 0.15, 0.20, 0.30]\n",
    "\n",
    "space = {\n",
    "    # Optimize\n",
    "    'num_round': hp.choice('num_round', num_round_choice),\n",
    "    'eta': hp.choice('eta', eta_choice),\n",
    "    \n",
    "    # Fixed    \n",
    "    'max_depth': baseline_params['max_depth'],\n",
    "    'min_child_weight': baseline_params['min_child_weight'],\n",
    "    'subsample': baseline_params['subsample'],\n",
    "    'gamma': baseline_params['gamma'],\n",
    "    'colsample_bytree': baseline_params['colsample_bytree'],\n",
    "    \n",
    "    **static_params\n",
    "}\n",
    "\n",
    "\n",
    "trials = Trials()\n",
    "best = fmin(fn=objective,\n",
    "            space=space,\n",
    "            algo=tpe.suggest,\n",
    "            max_evals=20,\n",
    "            trials=trials)"
   ]
  },
  {
   "cell_type": "code",
   "execution_count": 23,
   "metadata": {},
   "outputs": [
    {
     "data": {
      "text/plain": [
       "{'eta': 4, 'num_round': 3}"
      ]
     },
     "execution_count": 23,
     "metadata": {},
     "output_type": "execute_result"
    }
   ],
   "source": [
    "best"
   ]
  },
  {
   "cell_type": "code",
   "execution_count": 24,
   "metadata": {},
   "outputs": [],
   "source": [
    "params = {k: v for k, v in baseline_params.items()}\n",
    "params['eta'] = eta_choice[best['eta']]\n",
    "params['num_round'] = num_round_choice[best['num_round']]"
   ]
  },
  {
   "cell_type": "code",
   "execution_count": 25,
   "metadata": {},
   "outputs": [],
   "source": [
    "model = XGBoostEstimator(**{**static_params, **params}).fit(train_df)"
   ]
  },
  {
   "cell_type": "code",
   "execution_count": 26,
   "metadata": {},
   "outputs": [],
   "source": [
    "add_metrics_result(\"model_1\", model, train_df, test_df, all_metrics)"
   ]
  },
  {
   "cell_type": "markdown",
   "metadata": {},
   "source": [
    "Обратите внимание на то, что в случае с `hp.choice` в переменной `best` хранится не конкретное значение гиперпараметра, а его индекс из списка, например, `num_round_choice`"
   ]
  },
  {
   "cell_type": "code",
   "execution_count": 27,
   "metadata": {},
   "outputs": [],
   "source": [
    "best_eta = eta_choice[best['eta']]  # change me!\n",
    "best_num_round = num_round_choice[best['num_round']]  # change me!"
   ]
  },
  {
   "cell_type": "markdown",
   "metadata": {},
   "source": [
    "### Tune tree-specific parameters\n",
    "\n",
    "> Tune tree-specific parameters ( max_depth, min_child_weight, gamma, subsample, colsample_bytree) for decided learning rate and number of trees. Note that we can choose different parameters to define a tree and I’ll take up an example here."
   ]
  },
  {
   "cell_type": "markdown",
   "metadata": {},
   "source": [
    "#### Tune max_depth, min_child_weight"
   ]
  },
  {
   "cell_type": "code",
   "execution_count": 30,
   "metadata": {},
   "outputs": [
    {
     "name": "stdout",
     "output_type": "stream",
     "text": [
      "SPACE:                                                \n",
      "{'objective': 'binary:logistic', 'gamma': 0.9, 'silent': 0, 'labelCol': 'label', 'eta': 0.3, 'colsample_bytree': 0.9, 'min_child_weight': 0.0, 'featuresCol': 'features', 'eval_metric': 'logloss', 'nthread': 1, 'nworkers': 1, 'num_round': 100, 'max_depth': 10, 'predictionCol': 'prediction', 'subsample': 0.9}\n",
      "LOG-LOSS: 0.50310622593908, ROC-AUC: 0.7349396115601177\n",
      "SPACE:                                                                           \n",
      "{'objective': 'binary:logistic', 'gamma': 0.9, 'silent': 0, 'labelCol': 'label', 'eta': 0.3, 'colsample_bytree': 0.9, 'min_child_weight': 50.0, 'featuresCol': 'features', 'eval_metric': 'logloss', 'nthread': 1, 'nworkers': 1, 'num_round': 100, 'max_depth': 10, 'predictionCol': 'prediction', 'subsample': 0.9}\n",
      "LOG-LOSS: 0.5004216511176252, ROC-AUC: 0.7386419365473672                        \n",
      "SPACE:                                                                             \n",
      "{'objective': 'binary:logistic', 'gamma': 0.9, 'silent': 0, 'labelCol': 'label', 'eta': 0.3, 'colsample_bytree': 0.9, 'min_child_weight': 25.0, 'featuresCol': 'features', 'eval_metric': 'logloss', 'nthread': 1, 'nworkers': 1, 'num_round': 100, 'max_depth': 15, 'predictionCol': 'prediction', 'subsample': 0.9}\n",
      "LOG-LOSS: 0.5022175327446531, ROC-AUC: 0.736189470856261                           \n",
      "SPACE:                                                                             \n",
      "{'objective': 'binary:logistic', 'gamma': 0.9, 'silent': 0, 'labelCol': 'label', 'eta': 0.3, 'colsample_bytree': 0.9, 'min_child_weight': 50.0, 'featuresCol': 'features', 'eval_metric': 'logloss', 'nthread': 1, 'nworkers': 1, 'num_round': 100, 'max_depth': 5, 'predictionCol': 'prediction', 'subsample': 0.9}\n",
      "LOG-LOSS: 0.5028088359536254, ROC-AUC: 0.7357790046306143                          \n",
      "SPACE:                                                                             \n",
      "{'objective': 'binary:logistic', 'gamma': 0.9, 'silent': 0, 'labelCol': 'label', 'eta': 0.3, 'colsample_bytree': 0.9, 'min_child_weight': 10.0, 'featuresCol': 'features', 'eval_metric': 'logloss', 'nthread': 1, 'nworkers': 1, 'num_round': 100, 'max_depth': 10, 'predictionCol': 'prediction', 'subsample': 0.9}\n",
      "LOG-LOSS: 0.501384578143289, ROC-AUC: 0.7373241510853397                           \n",
      "SPACE:                                                                               \n",
      "{'objective': 'binary:logistic', 'gamma': 0.9, 'silent': 0, 'labelCol': 'label', 'eta': 0.3, 'colsample_bytree': 0.9, 'min_child_weight': 25.0, 'featuresCol': 'features', 'eval_metric': 'logloss', 'nthread': 1, 'nworkers': 1, 'num_round': 100, 'max_depth': 5, 'predictionCol': 'prediction', 'subsample': 0.9}\n",
      "LOG-LOSS: 0.5021798919604946, ROC-AUC: 0.7364267692605194                            \n",
      "SPACE:                                                                               \n",
      "{'objective': 'binary:logistic', 'gamma': 0.9, 'silent': 0, 'labelCol': 'label', 'eta': 0.3, 'colsample_bytree': 0.9, 'min_child_weight': 0.0, 'featuresCol': 'features', 'eval_metric': 'logloss', 'nthread': 1, 'nworkers': 1, 'num_round': 100, 'max_depth': 5, 'predictionCol': 'prediction', 'subsample': 0.9}\n",
      "LOG-LOSS: 0.5029431587479736, ROC-AUC: 0.7354672472167091                            \n",
      "SPACE:                                                                               \n",
      "{'objective': 'binary:logistic', 'gamma': 0.9, 'silent': 0, 'labelCol': 'label', 'eta': 0.3, 'colsample_bytree': 0.9, 'min_child_weight': 10.0, 'featuresCol': 'features', 'eval_metric': 'logloss', 'nthread': 1, 'nworkers': 1, 'num_round': 100, 'max_depth': 10, 'predictionCol': 'prediction', 'subsample': 0.9}\n",
      "LOG-LOSS: 0.501384578143289, ROC-AUC: 0.7373241510853431                             \n",
      "SPACE:                                                                               \n",
      "{'objective': 'binary:logistic', 'gamma': 0.9, 'silent': 0, 'labelCol': 'label', 'eta': 0.3, 'colsample_bytree': 0.9, 'min_child_weight': 50.0, 'featuresCol': 'features', 'eval_metric': 'logloss', 'nthread': 1, 'nworkers': 1, 'num_round': 100, 'max_depth': 15, 'predictionCol': 'prediction', 'subsample': 0.9}\n",
      "LOG-LOSS: 0.5015242274051209, ROC-AUC: 0.737248055513186                             \n",
      "SPACE:                                                                               \n",
      "{'objective': 'binary:logistic', 'gamma': 0.9, 'silent': 0, 'labelCol': 'label', 'eta': 0.3, 'colsample_bytree': 0.9, 'min_child_weight': 50.0, 'featuresCol': 'features', 'eval_metric': 'logloss', 'nthread': 1, 'nworkers': 1, 'num_round': 100, 'max_depth': 5, 'predictionCol': 'prediction', 'subsample': 0.9}\n",
      "LOG-LOSS: 0.5028088359536254, ROC-AUC: 0.7357790046306147                            \n",
      "SPACE:                                                                                \n",
      "{'objective': 'binary:logistic', 'gamma': 0.9, 'silent': 0, 'labelCol': 'label', 'eta': 0.3, 'colsample_bytree': 0.9, 'min_child_weight': 50.0, 'featuresCol': 'features', 'eval_metric': 'logloss', 'nthread': 1, 'nworkers': 1, 'num_round': 100, 'max_depth': 10, 'predictionCol': 'prediction', 'subsample': 0.9}\n",
      "LOG-LOSS: 0.5004216511176252, ROC-AUC: 0.7386419365473664                             \n",
      "SPACE:                                                                                \n",
      "{'objective': 'binary:logistic', 'gamma': 0.9, 'silent': 0, 'labelCol': 'label', 'eta': 0.3, 'colsample_bytree': 0.9, 'min_child_weight': 0.0, 'featuresCol': 'features', 'eval_metric': 'logloss', 'nthread': 1, 'nworkers': 1, 'num_round': 100, 'max_depth': 15, 'predictionCol': 'prediction', 'subsample': 0.9}\n",
      "LOG-LOSS: 0.5113143938590023, ROC-AUC: 0.7255751230898975                             \n",
      "SPACE:                                                                                 \n",
      "{'objective': 'binary:logistic', 'gamma': 0.9, 'silent': 0, 'labelCol': 'label', 'eta': 0.3, 'colsample_bytree': 0.9, 'min_child_weight': 50.0, 'featuresCol': 'features', 'eval_metric': 'logloss', 'nthread': 1, 'nworkers': 1, 'num_round': 100, 'max_depth': 15, 'predictionCol': 'prediction', 'subsample': 0.9}\n",
      "LOG-LOSS: 0.5015242274051209, ROC-AUC: 0.7372480555131865                              \n",
      "SPACE:                                                                                 \n",
      "{'objective': 'binary:logistic', 'gamma': 0.9, 'silent': 0, 'labelCol': 'label', 'eta': 0.3, 'colsample_bytree': 0.9, 'min_child_weight': 50.0, 'featuresCol': 'features', 'eval_metric': 'logloss', 'nthread': 1, 'nworkers': 1, 'num_round': 100, 'max_depth': 5, 'predictionCol': 'prediction', 'subsample': 0.9}\n",
      "LOG-LOSS: 0.5028088359536254, ROC-AUC: 0.7357790046306156                              \n",
      "SPACE:                                                                                 \n",
      "{'objective': 'binary:logistic', 'gamma': 0.9, 'silent': 0, 'labelCol': 'label', 'eta': 0.3, 'colsample_bytree': 0.9, 'min_child_weight': 25.0, 'featuresCol': 'features', 'eval_metric': 'logloss', 'nthread': 1, 'nworkers': 1, 'num_round': 100, 'max_depth': 15, 'predictionCol': 'prediction', 'subsample': 0.9}\n",
      "LOG-LOSS: 0.5022175327446531, ROC-AUC: 0.7361894708562616                             \n",
      "SPACE:                                                                                \n",
      "{'objective': 'binary:logistic', 'gamma': 0.9, 'silent': 0, 'labelCol': 'label', 'eta': 0.3, 'colsample_bytree': 0.9, 'min_child_weight': 10.0, 'featuresCol': 'features', 'eval_metric': 'logloss', 'nthread': 1, 'nworkers': 1, 'num_round': 100, 'max_depth': 10, 'predictionCol': 'prediction', 'subsample': 0.9}\n",
      "LOG-LOSS: 0.501384578143289, ROC-AUC: 0.737324151085345                               \n",
      "SPACE:                                                                                \n",
      "{'objective': 'binary:logistic', 'gamma': 0.9, 'silent': 0, 'labelCol': 'label', 'eta': 0.3, 'colsample_bytree': 0.9, 'min_child_weight': 25.0, 'featuresCol': 'features', 'eval_metric': 'logloss', 'nthread': 1, 'nworkers': 1, 'num_round': 100, 'max_depth': 5, 'predictionCol': 'prediction', 'subsample': 0.9}\n",
      "LOG-LOSS: 0.5021798919604946, ROC-AUC: 0.7364267692605156                             \n"
     ]
    },
    {
     "name": "stdout",
     "output_type": "stream",
     "text": [
      "SPACE:                                                                                \n",
      "{'objective': 'binary:logistic', 'gamma': 0.9, 'silent': 0, 'labelCol': 'label', 'eta': 0.3, 'colsample_bytree': 0.9, 'min_child_weight': 0.0, 'featuresCol': 'features', 'eval_metric': 'logloss', 'nthread': 1, 'nworkers': 1, 'num_round': 100, 'max_depth': 10, 'predictionCol': 'prediction', 'subsample': 0.9}\n",
      "LOG-LOSS: 0.50310622593908, ROC-AUC: 0.7349396115601143                             \n",
      "SPACE:                                                                              \n",
      "{'objective': 'binary:logistic', 'gamma': 0.9, 'silent': 0, 'labelCol': 'label', 'eta': 0.3, 'colsample_bytree': 0.9, 'min_child_weight': 25.0, 'featuresCol': 'features', 'eval_metric': 'logloss', 'nthread': 1, 'nworkers': 1, 'num_round': 100, 'max_depth': 5, 'predictionCol': 'prediction', 'subsample': 0.9}\n",
      "LOG-LOSS: 0.5021798919604946, ROC-AUC: 0.7364267692605153                           \n",
      "SPACE:                                                                              \n",
      "{'objective': 'binary:logistic', 'gamma': 0.9, 'silent': 0, 'labelCol': 'label', 'eta': 0.3, 'colsample_bytree': 0.9, 'min_child_weight': 50.0, 'featuresCol': 'features', 'eval_metric': 'logloss', 'nthread': 1, 'nworkers': 1, 'num_round': 100, 'max_depth': 10, 'predictionCol': 'prediction', 'subsample': 0.9}\n",
      "LOG-LOSS: 0.5004216511176252, ROC-AUC: 0.7386419365473663                           \n",
      "100%|██████████| 20/20 [4:26:20<00:00, 799.05s/trial, best loss: 0.5004216511176252]\n"
     ]
    },
    {
     "data": {
      "text/plain": [
       "{'max_depth': 1, 'min_child_weight': 3}"
      ]
     },
     "execution_count": 30,
     "metadata": {},
     "output_type": "execute_result"
    }
   ],
   "source": [
    "max_depth_choice = [5, 10, 15]\n",
    "min_child_weight_choice = [0.0, 10.0, 25.0, 50.0]\n",
    "\n",
    "space = {\n",
    "    # Optimize\n",
    "    'max_depth': hp.choice('max_depth', max_depth_choice),\n",
    "    'min_child_weight': hp.choice('min_child_weight', min_child_weight_choice),\n",
    "    \n",
    "    # Fixed    \n",
    "    'num_round': best_num_round,\n",
    "    'eta': best_eta,\n",
    "    'subsample': baseline_params['subsample'],\n",
    "    'gamma': baseline_params['gamma'],\n",
    "    'colsample_bytree': baseline_params['colsample_bytree'],\n",
    "    \n",
    "    **static_params\n",
    "}\n",
    "\n",
    "\n",
    "trials = Trials()\n",
    "best = fmin(fn=objective,\n",
    "            space=space,\n",
    "            algo=tpe.suggest,\n",
    "            max_evals=20,\n",
    "            trials=trials)\n",
    "best"
   ]
  },
  {
   "cell_type": "code",
   "execution_count": 31,
   "metadata": {},
   "outputs": [],
   "source": [
    "params['max_depth'] = max_depth_choice[best['max_depth']]\n",
    "params['min_child_weight'] = min_child_weight_choice[best['min_child_weight']]"
   ]
  },
  {
   "cell_type": "code",
   "execution_count": 32,
   "metadata": {},
   "outputs": [],
   "source": [
    "model = XGBoostEstimator(**{**static_params, **params}).fit(train_df)"
   ]
  },
  {
   "cell_type": "code",
   "execution_count": 33,
   "metadata": {},
   "outputs": [],
   "source": [
    "add_metrics_result(\"model_2\", model, train_df, test_df, all_metrics)"
   ]
  },
  {
   "cell_type": "code",
   "execution_count": 34,
   "metadata": {},
   "outputs": [],
   "source": [
    "best_max_depth = max_depth_choice[best['max_depth']]\n",
    "best_min_child_weight = min_child_weight_choice[best['min_child_weight']]"
   ]
  },
  {
   "cell_type": "markdown",
   "metadata": {},
   "source": [
    "#### Tune gamma"
   ]
  },
  {
   "cell_type": "code",
   "execution_count": 40,
   "metadata": {},
   "outputs": [
    {
     "name": "stdout",
     "output_type": "stream",
     "text": [
      "SPACE:                                                \n",
      "{'objective': 'binary:logistic', 'gamma': 2.0, 'silent': 0, 'labelCol': 'label', 'eta': 0.3, 'colsample_bytree': 0.9, 'min_child_weight': 50.0, 'featuresCol': 'features', 'eval_metric': 'logloss', 'nthread': 1, 'nworkers': 1, 'num_round': 100, 'max_depth': 10, 'predictionCol': 'prediction', 'subsample': 0.9}\n",
      "LOG-LOSS: 0.500380975948034, ROC-AUC: 0.738841730156651\n",
      "SPACE:                                                                            \n",
      "{'objective': 'binary:logistic', 'gamma': 2.0, 'silent': 0, 'labelCol': 'label', 'eta': 0.3, 'colsample_bytree': 0.9, 'min_child_weight': 50.0, 'featuresCol': 'features', 'eval_metric': 'logloss', 'nthread': 1, 'nworkers': 1, 'num_round': 100, 'max_depth': 10, 'predictionCol': 'prediction', 'subsample': 0.9}\n",
      "LOG-LOSS: 0.500380975948034, ROC-AUC: 0.7388417301566523                          \n",
      "SPACE:                                                                            \n",
      "{'objective': 'binary:logistic', 'gamma': 0.5, 'silent': 0, 'labelCol': 'label', 'eta': 0.3, 'colsample_bytree': 0.9, 'min_child_weight': 50.0, 'featuresCol': 'features', 'eval_metric': 'logloss', 'nthread': 1, 'nworkers': 1, 'num_round': 100, 'max_depth': 10, 'predictionCol': 'prediction', 'subsample': 0.9}\n",
      "LOG-LOSS: 0.5004532476433748, ROC-AUC: 0.7385514127054624                         \n",
      "SPACE:                                                                            \n",
      "{'objective': 'binary:logistic', 'gamma': 0.5, 'silent': 0, 'labelCol': 'label', 'eta': 0.3, 'colsample_bytree': 0.9, 'min_child_weight': 50.0, 'featuresCol': 'features', 'eval_metric': 'logloss', 'nthread': 1, 'nworkers': 1, 'num_round': 100, 'max_depth': 10, 'predictionCol': 'prediction', 'subsample': 0.9}\n",
      "LOG-LOSS: 0.5004532476433748, ROC-AUC: 0.7385514127054712                         \n",
      "SPACE:                                                                            \n",
      "{'objective': 'binary:logistic', 'gamma': 2.0, 'silent': 0, 'labelCol': 'label', 'eta': 0.3, 'colsample_bytree': 0.9, 'min_child_weight': 50.0, 'featuresCol': 'features', 'eval_metric': 'logloss', 'nthread': 1, 'nworkers': 1, 'num_round': 100, 'max_depth': 10, 'predictionCol': 'prediction', 'subsample': 0.9}\n",
      "LOG-LOSS: 0.500380975948034, ROC-AUC: 0.7388417301566588                          \n",
      "SPACE:                                                                              \n",
      "{'objective': 'binary:logistic', 'gamma': 1.5, 'silent': 0, 'labelCol': 'label', 'eta': 0.3, 'colsample_bytree': 0.9, 'min_child_weight': 50.0, 'featuresCol': 'features', 'eval_metric': 'logloss', 'nthread': 1, 'nworkers': 1, 'num_round': 100, 'max_depth': 10, 'predictionCol': 'prediction', 'subsample': 0.9}\n",
      "LOG-LOSS: 0.500094574574192, ROC-AUC: 0.7391646088915022                            \n",
      "SPACE:                                                                              \n",
      "{'objective': 'binary:logistic', 'gamma': 1.0, 'silent': 0, 'labelCol': 'label', 'eta': 0.3, 'colsample_bytree': 0.9, 'min_child_weight': 50.0, 'featuresCol': 'features', 'eval_metric': 'logloss', 'nthread': 1, 'nworkers': 1, 'num_round': 100, 'max_depth': 10, 'predictionCol': 'prediction', 'subsample': 0.9}\n",
      "LOG-LOSS: 0.50035174709315, ROC-AUC: 0.7387659912366255                           \n",
      "SPACE:                                                                            \n",
      "{'objective': 'binary:logistic', 'gamma': 3.0, 'silent': 0, 'labelCol': 'label', 'eta': 0.3, 'colsample_bytree': 0.9, 'min_child_weight': 50.0, 'featuresCol': 'features', 'eval_metric': 'logloss', 'nthread': 1, 'nworkers': 1, 'num_round': 100, 'max_depth': 10, 'predictionCol': 'prediction', 'subsample': 0.9}\n",
      "LOG-LOSS: 0.5005152619257294, ROC-AUC: 0.7386370484330962                         \n",
      "SPACE:                                                                            \n",
      "{'objective': 'binary:logistic', 'gamma': 0.5, 'silent': 0, 'labelCol': 'label', 'eta': 0.3, 'colsample_bytree': 0.9, 'min_child_weight': 50.0, 'featuresCol': 'features', 'eval_metric': 'logloss', 'nthread': 1, 'nworkers': 1, 'num_round': 100, 'max_depth': 10, 'predictionCol': 'prediction', 'subsample': 0.9}\n",
      "LOG-LOSS: 0.5004532476433748, ROC-AUC: 0.7385514127054685                         \n",
      "SPACE:                                                                            \n",
      "{'objective': 'binary:logistic', 'gamma': 1.0, 'silent': 0, 'labelCol': 'label', 'eta': 0.3, 'colsample_bytree': 0.9, 'min_child_weight': 50.0, 'featuresCol': 'features', 'eval_metric': 'logloss', 'nthread': 1, 'nworkers': 1, 'num_round': 100, 'max_depth': 10, 'predictionCol': 'prediction', 'subsample': 0.9}\n",
      "LOG-LOSS: 0.50035174709315, ROC-AUC: 0.7387659912366216                           \n",
      "100%|██████████| 10/10 [2:02:10<00:00, 733.04s/trial, best loss: 0.500094574574192]\n",
      "CPU times: user 2.74 s, sys: 599 ms, total: 3.34 s\n",
      "Wall time: 2h 2min 10s\n"
     ]
    },
    {
     "data": {
      "text/plain": [
       "{'gamma': 2}"
      ]
     },
     "execution_count": 40,
     "metadata": {},
     "output_type": "execute_result"
    }
   ],
   "source": [
    "%%time\n",
    "\n",
    "gamma_choice = [0.5, 1.0, 1.5, 2.0, 2.5, 3.0]\n",
    "\n",
    "space = {\n",
    "    # Optimize\n",
    "    'gamma': hp.choice('gamma', gamma_choice),\n",
    "    \n",
    "    # Fixed    \n",
    "    'num_round': best_num_round,\n",
    "    'eta': best_eta,\n",
    "    'max_depth': best_max_depth,\n",
    "    'min_child_weight': best_min_child_weight,\n",
    "    'subsample': baseline_params['subsample'],\n",
    "    'colsample_bytree': baseline_params['colsample_bytree'],\n",
    "    \n",
    "    **static_params\n",
    "}\n",
    "\n",
    "\n",
    "trials = Trials()\n",
    "best = fmin(fn=objective,\n",
    "            space=space,\n",
    "            algo=tpe.suggest,\n",
    "            max_evals=10,\n",
    "            trials=trials)\n",
    "best"
   ]
  },
  {
   "cell_type": "code",
   "execution_count": 41,
   "metadata": {},
   "outputs": [],
   "source": [
    "params['gamma'] = gamma_choice[best['gamma']]"
   ]
  },
  {
   "cell_type": "code",
   "execution_count": 42,
   "metadata": {},
   "outputs": [],
   "source": [
    "model = XGBoostEstimator(**{**static_params, **params}).fit(train_df)"
   ]
  },
  {
   "cell_type": "code",
   "execution_count": 43,
   "metadata": {},
   "outputs": [],
   "source": [
    "add_metrics_result(\"model_3\", model, train_df, test_df, all_metrics)"
   ]
  },
  {
   "cell_type": "code",
   "execution_count": 44,
   "metadata": {},
   "outputs": [],
   "source": [
    "best_gamma = gamma_choice[best['gamma']]"
   ]
  },
  {
   "cell_type": "markdown",
   "metadata": {},
   "source": [
    "#### Tune subsample, colsample_bytree"
   ]
  },
  {
   "cell_type": "code",
   "execution_count": 45,
   "metadata": {},
   "outputs": [
    {
     "name": "stdout",
     "output_type": "stream",
     "text": [
      "SPACE:                                                \n",
      "{'objective': 'binary:logistic', 'gamma': 1.5, 'silent': 0, 'labelCol': 'label', 'eta': 0.3, 'colsample_bytree': 0.9, 'min_child_weight': 50.0, 'featuresCol': 'features', 'eval_metric': 'logloss', 'nthread': 1, 'nworkers': 1, 'num_round': 100, 'max_depth': 10, 'predictionCol': 'prediction', 'subsample': 0.25}\n",
      "LOG-LOSS: 0.5036490170439193, ROC-AUC: 0.7342174385406672\n",
      "SPACE:                                                                             \n",
      "{'objective': 'binary:logistic', 'gamma': 1.5, 'silent': 0, 'labelCol': 'label', 'eta': 0.3, 'colsample_bytree': 0.9, 'min_child_weight': 50.0, 'featuresCol': 'features', 'eval_metric': 'logloss', 'nthread': 1, 'nworkers': 1, 'num_round': 100, 'max_depth': 10, 'predictionCol': 'prediction', 'subsample': 0.9}\n",
      "LOG-LOSS: 0.500094574574192, ROC-AUC: 0.7391646088915047                           \n",
      "SPACE:                                                                             \n",
      "{'objective': 'binary:logistic', 'gamma': 1.5, 'silent': 0, 'labelCol': 'label', 'eta': 0.3, 'colsample_bytree': 0.5, 'min_child_weight': 50.0, 'featuresCol': 'features', 'eval_metric': 'logloss', 'nthread': 1, 'nworkers': 1, 'num_round': 100, 'max_depth': 10, 'predictionCol': 'prediction', 'subsample': 0.25}\n",
      "LOG-LOSS: 0.5034862292764616, ROC-AUC: 0.7344948490218018                         \n",
      "SPACE:                                                                            \n",
      "{'objective': 'binary:logistic', 'gamma': 1.5, 'silent': 0, 'labelCol': 'label', 'eta': 0.3, 'colsample_bytree': 0.05, 'min_child_weight': 50.0, 'featuresCol': 'features', 'eval_metric': 'logloss', 'nthread': 1, 'nworkers': 1, 'num_round': 100, 'max_depth': 10, 'predictionCol': 'prediction', 'subsample': 0.05}\n",
      "LOG-LOSS: 0.515381356365681, ROC-AUC: 0.7180895366590001                          \n",
      "SPACE:                                                                            \n",
      "{'objective': 'binary:logistic', 'gamma': 1.5, 'silent': 0, 'labelCol': 'label', 'eta': 0.3, 'colsample_bytree': 0.75, 'min_child_weight': 50.0, 'featuresCol': 'features', 'eval_metric': 'logloss', 'nthread': 1, 'nworkers': 1, 'num_round': 100, 'max_depth': 10, 'predictionCol': 'prediction', 'subsample': 0.9}\n",
      "LOG-LOSS: 0.5001530886774483, ROC-AUC: 0.7389431953368998                         \n",
      "SPACE:                                                                            \n",
      "{'objective': 'binary:logistic', 'gamma': 1.5, 'silent': 0, 'labelCol': 'label', 'eta': 0.3, 'colsample_bytree': 0.5, 'min_child_weight': 50.0, 'featuresCol': 'features', 'eval_metric': 'logloss', 'nthread': 1, 'nworkers': 1, 'num_round': 100, 'max_depth': 10, 'predictionCol': 'prediction', 'subsample': 0.05}\n",
      "LOG-LOSS: 0.5173168778002455, ROC-AUC: 0.7156435797729221                         \n",
      "SPACE:                                                                            \n",
      "{'objective': 'binary:logistic', 'gamma': 1.5, 'silent': 0, 'labelCol': 'label', 'eta': 0.3, 'colsample_bytree': 0.25, 'min_child_weight': 50.0, 'featuresCol': 'features', 'eval_metric': 'logloss', 'nthread': 1, 'nworkers': 1, 'num_round': 100, 'max_depth': 10, 'predictionCol': 'prediction', 'subsample': 0.5}\n",
      "LOG-LOSS: 0.5015071026314535, ROC-AUC: 0.7371219330274731                         \n",
      "SPACE:                                                                            \n",
      "{'objective': 'binary:logistic', 'gamma': 1.5, 'silent': 0, 'labelCol': 'label', 'eta': 0.3, 'colsample_bytree': 0.05, 'min_child_weight': 50.0, 'featuresCol': 'features', 'eval_metric': 'logloss', 'nthread': 1, 'nworkers': 1, 'num_round': 100, 'max_depth': 10, 'predictionCol': 'prediction', 'subsample': 0.05}\n",
      "LOG-LOSS: 0.515381356365681, ROC-AUC: 0.7180895366590064                          \n",
      "SPACE:                                                                              \n",
      "{'objective': 'binary:logistic', 'gamma': 1.5, 'silent': 0, 'labelCol': 'label', 'eta': 0.3, 'colsample_bytree': 0.75, 'min_child_weight': 50.0, 'featuresCol': 'features', 'eval_metric': 'logloss', 'nthread': 1, 'nworkers': 1, 'num_round': 100, 'max_depth': 10, 'predictionCol': 'prediction', 'subsample': 0.5}\n",
      "LOG-LOSS: 0.5013798823738617, ROC-AUC: 0.737393208922507                            \n",
      "SPACE:                                                                              \n",
      "{'objective': 'binary:logistic', 'gamma': 1.5, 'silent': 0, 'labelCol': 'label', 'eta': 0.3, 'colsample_bytree': 0.9, 'min_child_weight': 50.0, 'featuresCol': 'features', 'eval_metric': 'logloss', 'nthread': 1, 'nworkers': 1, 'num_round': 100, 'max_depth': 10, 'predictionCol': 'prediction', 'subsample': 0.5}\n",
      "LOG-LOSS: 0.5014661537738396, ROC-AUC: 0.737185248372453                            \n",
      "SPACE:                                                                               \n",
      "{'objective': 'binary:logistic', 'gamma': 1.5, 'silent': 0, 'labelCol': 'label', 'eta': 0.3, 'colsample_bytree': 0.25, 'min_child_weight': 50.0, 'featuresCol': 'features', 'eval_metric': 'logloss', 'nthread': 1, 'nworkers': 1, 'num_round': 100, 'max_depth': 10, 'predictionCol': 'prediction', 'subsample': 0.25}\n",
      "LOG-LOSS: 0.5029261953766097, ROC-AUC: 0.7352906622688411                            \n",
      "SPACE:                                                                               \n",
      "{'objective': 'binary:logistic', 'gamma': 1.5, 'silent': 0, 'labelCol': 'label', 'eta': 0.3, 'colsample_bytree': 0.5, 'min_child_weight': 50.0, 'featuresCol': 'features', 'eval_metric': 'logloss', 'nthread': 1, 'nworkers': 1, 'num_round': 100, 'max_depth': 10, 'predictionCol': 'prediction', 'subsample': 0.5}\n",
      "LOG-LOSS: 0.5012836367471434, ROC-AUC: 0.737539931246781                             \n",
      "SPACE:                                                                               \n",
      "{'objective': 'binary:logistic', 'gamma': 1.5, 'silent': 0, 'labelCol': 'label', 'eta': 0.3, 'colsample_bytree': 0.75, 'min_child_weight': 50.0, 'featuresCol': 'features', 'eval_metric': 'logloss', 'nthread': 1, 'nworkers': 1, 'num_round': 100, 'max_depth': 10, 'predictionCol': 'prediction', 'subsample': 0.25}\n",
      "LOG-LOSS: 0.5031340954844647, ROC-AUC: 0.7348559736699547                            \n",
      "SPACE:                                                                               \n",
      "{'objective': 'binary:logistic', 'gamma': 1.5, 'silent': 0, 'labelCol': 'label', 'eta': 0.3, 'colsample_bytree': 0.5, 'min_child_weight': 50.0, 'featuresCol': 'features', 'eval_metric': 'logloss', 'nthread': 1, 'nworkers': 1, 'num_round': 100, 'max_depth': 10, 'predictionCol': 'prediction', 'subsample': 0.25}\n",
      "LOG-LOSS: 0.5034862292764616, ROC-AUC: 0.7344948490218032                            \n",
      "SPACE:                                                                               \n",
      "{'objective': 'binary:logistic', 'gamma': 1.5, 'silent': 0, 'labelCol': 'label', 'eta': 0.3, 'colsample_bytree': 0.05, 'min_child_weight': 50.0, 'featuresCol': 'features', 'eval_metric': 'logloss', 'nthread': 1, 'nworkers': 1, 'num_round': 100, 'max_depth': 10, 'predictionCol': 'prediction', 'subsample': 0.25}\n",
      "LOG-LOSS: 0.5107103991064591, ROC-AUC: 0.7252059780450111                          \n",
      "SPACE:                                                                             \n",
      "{'objective': 'binary:logistic', 'gamma': 1.5, 'silent': 0, 'labelCol': 'label', 'eta': 0.3, 'colsample_bytree': 0.9, 'min_child_weight': 50.0, 'featuresCol': 'features', 'eval_metric': 'logloss', 'nthread': 1, 'nworkers': 1, 'num_round': 100, 'max_depth': 10, 'predictionCol': 'prediction', 'subsample': 0.9}\n",
      "LOG-LOSS: 0.500094574574192, ROC-AUC: 0.7391646088915026                           \n",
      "SPACE:                                                                             \n",
      "{'objective': 'binary:logistic', 'gamma': 1.5, 'silent': 0, 'labelCol': 'label', 'eta': 0.3, 'colsample_bytree': 0.9, 'min_child_weight': 50.0, 'featuresCol': 'features', 'eval_metric': 'logloss', 'nthread': 1, 'nworkers': 1, 'num_round': 100, 'max_depth': 10, 'predictionCol': 'prediction', 'subsample': 0.5}\n",
      "LOG-LOSS: 0.5014661537738396, ROC-AUC: 0.7371852483724497                          \n",
      "SPACE:                                                                             \n"
     ]
    },
    {
     "name": "stdout",
     "output_type": "stream",
     "text": [
      "{'objective': 'binary:logistic', 'gamma': 1.5, 'silent': 0, 'labelCol': 'label', 'eta': 0.3, 'colsample_bytree': 0.75, 'min_child_weight': 50.0, 'featuresCol': 'features', 'eval_metric': 'logloss', 'nthread': 1, 'nworkers': 1, 'num_round': 100, 'max_depth': 10, 'predictionCol': 'prediction', 'subsample': 0.5}\n",
      "LOG-LOSS: 0.5013798823738617, ROC-AUC: 0.7373932089225125                          \n",
      "SPACE:                                                                             \n",
      "{'objective': 'binary:logistic', 'gamma': 1.5, 'silent': 0, 'labelCol': 'label', 'eta': 0.3, 'colsample_bytree': 0.5, 'min_child_weight': 50.0, 'featuresCol': 'features', 'eval_metric': 'logloss', 'nthread': 1, 'nworkers': 1, 'num_round': 100, 'max_depth': 10, 'predictionCol': 'prediction', 'subsample': 0.5}\n",
      "LOG-LOSS: 0.5012836367471434, ROC-AUC: 0.7375399312467789                          \n",
      "SPACE:                                                                             \n",
      "{'objective': 'binary:logistic', 'gamma': 1.5, 'silent': 0, 'labelCol': 'label', 'eta': 0.3, 'colsample_bytree': 0.05, 'min_child_weight': 50.0, 'featuresCol': 'features', 'eval_metric': 'logloss', 'nthread': 1, 'nworkers': 1, 'num_round': 100, 'max_depth': 10, 'predictionCol': 'prediction', 'subsample': 0.25}\n",
      "LOG-LOSS: 0.5107103991064591, ROC-AUC: 0.72520597804501                            \n",
      "100%|██████████| 20/20 [2:51:48<00:00, 515.40s/trial, best loss: 0.500094574574192]\n",
      "CPU times: user 5.03 s, sys: 962 ms, total: 6 s\n",
      "Wall time: 2h 51min 48s\n"
     ]
    },
    {
     "data": {
      "text/plain": [
       "{'colsample_bytree': 4, 'subsample': 4}"
      ]
     },
     "execution_count": 45,
     "metadata": {},
     "output_type": "execute_result"
    }
   ],
   "source": [
    "%%time\n",
    "\n",
    "subsample_choice = [0.05, 0.25, 0.5, 0.75, 0.9]\n",
    "colsample_bytree_choice = [0.05, 0.25, 0.5, 0.75, 0.9]\n",
    "\n",
    "space = {\n",
    "    # Optimize\n",
    "    'subsample': hp.choice('subsample', subsample_choice),\n",
    "    'colsample_bytree': hp.choice('colsample_bytree', colsample_bytree_choice),\n",
    "    \n",
    "    # Fixed    \n",
    "    'num_round': best_num_round,\n",
    "    'eta': best_eta,\n",
    "    'max_depth': best_max_depth,\n",
    "    'min_child_weight': best_min_child_weight,\n",
    "    'gamma': best_gamma,\n",
    "    \n",
    "    **static_params\n",
    "}\n",
    "\n",
    "\n",
    "trials = Trials()\n",
    "best = fmin(fn=objective,\n",
    "            space=space,\n",
    "            algo=tpe.suggest,\n",
    "            max_evals=20,\n",
    "            trials=trials)\n",
    "best"
   ]
  },
  {
   "cell_type": "code",
   "execution_count": 46,
   "metadata": {},
   "outputs": [],
   "source": [
    "params['subsample'] = subsample_choice[best['subsample']]\n",
    "params['colsample_bytree'] = colsample_bytree_choice[best['colsample_bytree']]"
   ]
  },
  {
   "cell_type": "code",
   "execution_count": 47,
   "metadata": {},
   "outputs": [],
   "source": [
    "model = XGBoostEstimator(**{**static_params, **params}).fit(train_df)"
   ]
  },
  {
   "cell_type": "code",
   "execution_count": 48,
   "metadata": {},
   "outputs": [],
   "source": [
    "add_metrics_result(\"model_4\", model, train_df, test_df, all_metrics)"
   ]
  },
  {
   "cell_type": "code",
   "execution_count": 49,
   "metadata": {},
   "outputs": [],
   "source": [
    "best_subsample = subsample_choice[best['subsample']]\n",
    "best_colsample_bytree = colsample_bytree_choice[best['colsample_bytree']]"
   ]
  },
  {
   "cell_type": "markdown",
   "metadata": {},
   "source": [
    "### Tune regularization parameters\n",
    "\n",
    "> Tune regularization parameters (lambda, alpha) for xgboost which can help reduce model complexity and enhance performance."
   ]
  },
  {
   "cell_type": "code",
   "execution_count": 50,
   "metadata": {},
   "outputs": [
    {
     "name": "stdout",
     "output_type": "stream",
     "text": [
      "SPACE:                                                \n",
      "{'objective': 'binary:logistic', 'gamma': 1.5, 'silent': 0, 'labelCol': 'label', 'alpha': 0.25, 'colsample_bytree': 0.9, 'eta': 0.3, 'predictionCol': 'prediction', 'featuresCol': 'features', 'eval_metric': 'logloss', 'num_round': 100, 'nworkers': 1, 'nthread': 1, 'subsample': 0.9, 'min_child_weight': 50.0, 'max_depth': 10, 'lambda': 0.0}\n",
      "LOG-LOSS: 0.5001364014442373, ROC-AUC: 0.7390614828017854\n",
      "SPACE:                                                                             \n",
      "{'objective': 'binary:logistic', 'gamma': 1.5, 'silent': 0, 'labelCol': 'label', 'alpha': 0.75, 'colsample_bytree': 0.9, 'eta': 0.3, 'predictionCol': 'prediction', 'featuresCol': 'features', 'eval_metric': 'logloss', 'num_round': 100, 'nworkers': 1, 'nthread': 1, 'subsample': 0.9, 'min_child_weight': 50.0, 'max_depth': 10, 'lambda': 0.0}\n",
      "LOG-LOSS: 0.5003792306012671, ROC-AUC: 0.7386927012662292                          \n",
      "SPACE:                                                                             \n",
      "{'objective': 'binary:logistic', 'gamma': 1.5, 'silent': 0, 'labelCol': 'label', 'alpha': 0.5, 'colsample_bytree': 0.9, 'eta': 0.3, 'predictionCol': 'prediction', 'featuresCol': 'features', 'eval_metric': 'logloss', 'num_round': 100, 'nworkers': 1, 'nthread': 1, 'subsample': 0.9, 'min_child_weight': 50.0, 'max_depth': 10, 'lambda': 0.0}\n",
      "LOG-LOSS: 0.5003560065927535, ROC-AUC: 0.7388724993962945                          \n",
      "SPACE:                                                                             \n",
      "{'objective': 'binary:logistic', 'gamma': 1.5, 'silent': 0, 'labelCol': 'label', 'alpha': 1.0, 'colsample_bytree': 0.9, 'eta': 0.3, 'predictionCol': 'prediction', 'featuresCol': 'features', 'eval_metric': 'logloss', 'num_round': 100, 'nworkers': 1, 'nthread': 1, 'subsample': 0.9, 'min_child_weight': 50.0, 'max_depth': 10, 'lambda': 2.0}\n",
      "LOG-LOSS: 0.5002233545818409, ROC-AUC: 0.7390611630553315                          \n",
      "SPACE:                                                                             \n",
      "{'objective': 'binary:logistic', 'gamma': 1.5, 'silent': 0, 'labelCol': 'label', 'alpha': 0.25, 'colsample_bytree': 0.9, 'eta': 0.3, 'predictionCol': 'prediction', 'featuresCol': 'features', 'eval_metric': 'logloss', 'num_round': 100, 'nworkers': 1, 'nthread': 1, 'subsample': 0.9, 'min_child_weight': 50.0, 'max_depth': 10, 'lambda': 2.0}\n",
      "LOG-LOSS: 0.5001744300693958, ROC-AUC: 0.7391490934838303                          \n",
      "SPACE:                                                                               \n",
      "{'objective': 'binary:logistic', 'gamma': 1.5, 'silent': 0, 'labelCol': 'label', 'alpha': 0.0, 'colsample_bytree': 0.9, 'eta': 0.3, 'predictionCol': 'prediction', 'featuresCol': 'features', 'eval_metric': 'logloss', 'num_round': 100, 'nworkers': 1, 'nthread': 1, 'subsample': 0.9, 'min_child_weight': 50.0, 'max_depth': 10, 'lambda': 2.0}\n",
      "LOG-LOSS: 0.5005056019419847, ROC-AUC: 0.7385416018056523                            \n",
      "SPACE:                                                                               \n",
      "{'objective': 'binary:logistic', 'gamma': 1.5, 'silent': 0, 'labelCol': 'label', 'alpha': 0.25, 'colsample_bytree': 0.9, 'eta': 0.3, 'predictionCol': 'prediction', 'featuresCol': 'features', 'eval_metric': 'logloss', 'num_round': 100, 'nworkers': 1, 'nthread': 1, 'subsample': 0.9, 'min_child_weight': 50.0, 'max_depth': 10, 'lambda': 0.0}\n",
      "LOG-LOSS: 0.5001364014442373, ROC-AUC: 0.7390614828017873                            \n",
      "SPACE:                                                                               \n",
      "{'objective': 'binary:logistic', 'gamma': 1.5, 'silent': 0, 'labelCol': 'label', 'alpha': 0.25, 'colsample_bytree': 0.9, 'eta': 0.3, 'predictionCol': 'prediction', 'featuresCol': 'features', 'eval_metric': 'logloss', 'num_round': 100, 'nworkers': 1, 'nthread': 1, 'subsample': 0.9, 'min_child_weight': 50.0, 'max_depth': 10, 'lambda': 2.0}\n",
      "LOG-LOSS: 0.5001744300693958, ROC-AUC: 0.7391490934838305                            \n",
      "SPACE:                                                                               \n",
      "{'objective': 'binary:logistic', 'gamma': 1.5, 'silent': 0, 'labelCol': 'label', 'alpha': 0.0, 'colsample_bytree': 0.9, 'eta': 0.3, 'predictionCol': 'prediction', 'featuresCol': 'features', 'eval_metric': 'logloss', 'num_round': 100, 'nworkers': 1, 'nthread': 1, 'subsample': 0.9, 'min_child_weight': 50.0, 'max_depth': 10, 'lambda': 0.5}\n",
      "LOG-LOSS: 0.5002759109471991, ROC-AUC: 0.7389097348337601                            \n",
      "SPACE:                                                                               \n",
      "{'objective': 'binary:logistic', 'gamma': 1.5, 'silent': 0, 'labelCol': 'label', 'alpha': 0.0, 'colsample_bytree': 0.9, 'eta': 0.3, 'predictionCol': 'prediction', 'featuresCol': 'features', 'eval_metric': 'logloss', 'num_round': 100, 'nworkers': 1, 'nthread': 1, 'subsample': 0.9, 'min_child_weight': 50.0, 'max_depth': 10, 'lambda': 2.0}\n",
      "LOG-LOSS: 0.5005056019419847, ROC-AUC: 0.7385416018056514                            \n",
      "SPACE:                                                                                \n",
      "{'objective': 'binary:logistic', 'gamma': 1.5, 'silent': 0, 'labelCol': 'label', 'alpha': 0.5, 'colsample_bytree': 0.9, 'eta': 0.3, 'predictionCol': 'prediction', 'featuresCol': 'features', 'eval_metric': 'logloss', 'num_round': 100, 'nworkers': 1, 'nthread': 1, 'subsample': 0.9, 'min_child_weight': 50.0, 'max_depth': 10, 'lambda': 0.0}\n",
      "LOG-LOSS: 0.5003560065927535, ROC-AUC: 0.7388724993962907                             \n",
      "SPACE:                                                                                \n",
      "{'objective': 'binary:logistic', 'gamma': 1.5, 'silent': 0, 'labelCol': 'label', 'alpha': 0.5, 'colsample_bytree': 0.9, 'eta': 0.3, 'predictionCol': 'prediction', 'featuresCol': 'features', 'eval_metric': 'logloss', 'num_round': 100, 'nworkers': 1, 'nthread': 1, 'subsample': 0.9, 'min_child_weight': 50.0, 'max_depth': 10, 'lambda': 1.5}\n",
      "LOG-LOSS: 0.5006009151887691, ROC-AUC: 0.7384085905174531                             \n",
      "SPACE:                                                                                \n",
      "{'objective': 'binary:logistic', 'gamma': 1.5, 'silent': 0, 'labelCol': 'label', 'alpha': 0.75, 'colsample_bytree': 0.9, 'eta': 0.3, 'predictionCol': 'prediction', 'featuresCol': 'features', 'eval_metric': 'logloss', 'num_round': 100, 'nworkers': 1, 'nthread': 1, 'subsample': 0.9, 'min_child_weight': 50.0, 'max_depth': 10, 'lambda': 2.0}\n",
      "LOG-LOSS: 0.500361958195493, ROC-AUC: 0.7388430690852901                              \n",
      "SPACE:                                                                                \n",
      "{'objective': 'binary:logistic', 'gamma': 1.5, 'silent': 0, 'labelCol': 'label', 'alpha': 0.25, 'colsample_bytree': 0.9, 'eta': 0.3, 'predictionCol': 'prediction', 'featuresCol': 'features', 'eval_metric': 'logloss', 'num_round': 100, 'nworkers': 1, 'nthread': 1, 'subsample': 0.9, 'min_child_weight': 50.0, 'max_depth': 10, 'lambda': 0.0}\n",
      "LOG-LOSS: 0.5001364014442373, ROC-AUC: 0.7390614828017819                             \n",
      "SPACE:                                                                                \n",
      "{'objective': 'binary:logistic', 'gamma': 1.5, 'silent': 0, 'labelCol': 'label', 'alpha': 0.0, 'colsample_bytree': 0.9, 'eta': 0.3, 'predictionCol': 'prediction', 'featuresCol': 'features', 'eval_metric': 'logloss', 'num_round': 100, 'nworkers': 1, 'nthread': 1, 'subsample': 0.9, 'min_child_weight': 50.0, 'max_depth': 10, 'lambda': 2.5}\n",
      "LOG-LOSS: 0.5004691895444978, ROC-AUC: 0.7386462320905488                             \n",
      "SPACE:                                                                                \n",
      "{'objective': 'binary:logistic', 'gamma': 1.5, 'silent': 0, 'labelCol': 'label', 'alpha': 0.5, 'colsample_bytree': 0.9, 'eta': 0.3, 'predictionCol': 'prediction', 'featuresCol': 'features', 'eval_metric': 'logloss', 'num_round': 100, 'nworkers': 1, 'nthread': 1, 'subsample': 0.9, 'min_child_weight': 50.0, 'max_depth': 10, 'lambda': 0.0}\n",
      "LOG-LOSS: 0.5003560065927535, ROC-AUC: 0.7388724993962863                             \n"
     ]
    },
    {
     "name": "stdout",
     "output_type": "stream",
     "text": [
      "SPACE:                                                                                \n",
      "{'objective': 'binary:logistic', 'gamma': 1.5, 'silent': 0, 'labelCol': 'label', 'alpha': 0.0, 'colsample_bytree': 0.9, 'eta': 0.3, 'predictionCol': 'prediction', 'featuresCol': 'features', 'eval_metric': 'logloss', 'num_round': 100, 'nworkers': 1, 'nthread': 1, 'subsample': 0.9, 'min_child_weight': 50.0, 'max_depth': 10, 'lambda': 0.0}\n",
      "LOG-LOSS: 0.5005674736325909, ROC-AUC: 0.7383430081316014                           \n",
      "SPACE:                                                                              \n",
      "{'objective': 'binary:logistic', 'gamma': 1.5, 'silent': 0, 'labelCol': 'label', 'alpha': 0.25, 'colsample_bytree': 0.9, 'eta': 0.3, 'predictionCol': 'prediction', 'featuresCol': 'features', 'eval_metric': 'logloss', 'num_round': 100, 'nworkers': 1, 'nthread': 1, 'subsample': 0.9, 'min_child_weight': 50.0, 'max_depth': 10, 'lambda': 0.0}\n",
      "LOG-LOSS: 0.5001364014442373, ROC-AUC: 0.7390614828017797                           \n",
      "SPACE:                                                                              \n",
      "{'objective': 'binary:logistic', 'gamma': 1.5, 'silent': 0, 'labelCol': 'label', 'alpha': 0.5, 'colsample_bytree': 0.9, 'eta': 0.3, 'predictionCol': 'prediction', 'featuresCol': 'features', 'eval_metric': 'logloss', 'num_round': 100, 'nworkers': 1, 'nthread': 1, 'subsample': 0.9, 'min_child_weight': 50.0, 'max_depth': 10, 'lambda': 0.5}\n",
      "LOG-LOSS: 0.500534642336837, ROC-AUC: 0.7386736462268074                            \n",
      "SPACE:                                                                              \n",
      "{'objective': 'binary:logistic', 'gamma': 1.5, 'silent': 0, 'labelCol': 'label', 'alpha': 0.0, 'colsample_bytree': 0.9, 'eta': 0.3, 'predictionCol': 'prediction', 'featuresCol': 'features', 'eval_metric': 'logloss', 'num_round': 100, 'nworkers': 1, 'nthread': 1, 'subsample': 0.9, 'min_child_weight': 50.0, 'max_depth': 10, 'lambda': 1.5}\n",
      "LOG-LOSS: 0.500275441512687, ROC-AUC: 0.7388496341348547                            \n",
      "100%|██████████| 20/20 [4:15:01<00:00, 765.07s/trial, best loss: 0.5001364014442373]\n",
      "CPU times: user 6.06 s, sys: 1.06 s, total: 7.12 s\n",
      "Wall time: 4h 15min 1s\n"
     ]
    },
    {
     "data": {
      "text/plain": [
       "{'alpha': 1, 'reg_lambda': 0}"
      ]
     },
     "execution_count": 50,
     "metadata": {},
     "output_type": "execute_result"
    }
   ],
   "source": [
    "%%time\n",
    "\n",
    "alpha_choice = [0.0, 0.25, 0.5, 0.75, 1.0]\n",
    "reg_lambda_choice = [0.0, 0.5, 1.5, 2.0, 2.5]\n",
    "\n",
    "space = {\n",
    "    # Optimize\n",
    "    'alpha': hp.choice('alpha', alpha_choice),\n",
    "    'reg_lambda': hp.choice('reg_lambda', reg_lambda_choice),\n",
    "    \n",
    "    # Fixed    \n",
    "    'num_round': best_num_round,\n",
    "    'eta': best_eta,\n",
    "    'max_depth': best_max_depth,\n",
    "    'min_child_weight': best_min_child_weight,\n",
    "    'gamma': best_gamma,\n",
    "    'subsample': best_subsample,\n",
    "    'colsample_bytree': best_colsample_bytree,\n",
    "    \n",
    "    **static_params\n",
    "}\n",
    "\n",
    "\n",
    "trials = Trials()\n",
    "best = fmin(fn=objective,\n",
    "            space=space,\n",
    "            algo=tpe.suggest,\n",
    "            max_evals=20,\n",
    "            trials=trials)\n",
    "best"
   ]
  },
  {
   "cell_type": "code",
   "execution_count": 51,
   "metadata": {},
   "outputs": [],
   "source": [
    "params['alpha'] = alpha_choice[best['alpha']]\n",
    "params['reg_lambda'] = reg_lambda_choice[best['reg_lambda']]"
   ]
  },
  {
   "cell_type": "code",
   "execution_count": 52,
   "metadata": {},
   "outputs": [],
   "source": [
    "model = XGBoostEstimator(**{**static_params, **params}).fit(train_df)"
   ]
  },
  {
   "cell_type": "code",
   "execution_count": 53,
   "metadata": {},
   "outputs": [],
   "source": [
    "add_metrics_result(\"model_5\", model, train_df, test_df, all_metrics)"
   ]
  },
  {
   "cell_type": "code",
   "execution_count": 54,
   "metadata": {},
   "outputs": [],
   "source": [
    "best_alpha = alpha_choice[best['alpha']]\n",
    "best_reg_lambda = reg_lambda_choice[best['reg_lambda']]"
   ]
  },
  {
   "cell_type": "markdown",
   "metadata": {},
   "source": [
    "### Lower the learning rate and decide the optimal parameters"
   ]
  },
  {
   "cell_type": "code",
   "execution_count": 57,
   "metadata": {},
   "outputs": [
    {
     "name": "stdout",
     "output_type": "stream",
     "text": [
      "SPACE:                                                \n",
      "{'objective': 'binary:logistic', 'gamma': 0.9, 'silent': 0, 'labelCol': 'label', 'alpha': 0.0, 'colsample_bytree': 0.9, 'eta': 0.05, 'predictionCol': 'prediction', 'featuresCol': 'features', 'eval_metric': 'logloss', 'num_round': 20, 'nworkers': 1, 'nthread': 1, 'subsample': 0.9, 'min_child_weight': 50.0, 'max_depth': 6, 'lambda': 0.0}\n",
      "LOG-LOSS: 0.5452747216161833, ROC-AUC: 0.7195028276126487\n",
      "SPACE:                                                                             \n",
      "{'objective': 'binary:logistic', 'gamma': 0.9, 'silent': 0, 'labelCol': 'label', 'alpha': 0.25, 'colsample_bytree': 0.9, 'eta': 0.05, 'predictionCol': 'prediction', 'featuresCol': 'features', 'eval_metric': 'logloss', 'num_round': 100, 'nworkers': 1, 'nthread': 1, 'subsample': 0.9, 'min_child_weight': 50.0, 'max_depth': 6, 'lambda': 1.0}\n",
      "LOG-LOSS: 0.5075588815804976, ROC-AUC: 0.7292316824207099                          \n",
      "SPACE:                                                                             \n",
      "{'objective': 'binary:logistic', 'gamma': 1.5, 'silent': 0, 'labelCol': 'label', 'alpha': 0.25, 'colsample_bytree': 0.9, 'eta': 0.05, 'predictionCol': 'prediction', 'featuresCol': 'features', 'eval_metric': 'logloss', 'num_round': 20, 'nworkers': 1, 'nthread': 1, 'subsample': 0.9, 'min_child_weight': 50.0, 'max_depth': 6, 'lambda': 0.0}\n",
      "LOG-LOSS: 0.5452761182405371, ROC-AUC: 0.7195050331697416                          \n",
      "SPACE:                                                                             \n",
      "{'objective': 'binary:logistic', 'gamma': 1.5, 'silent': 0, 'labelCol': 'label', 'alpha': 0.25, 'colsample_bytree': 0.9, 'eta': 0.05, 'predictionCol': 'prediction', 'featuresCol': 'features', 'eval_metric': 'logloss', 'num_round': 100, 'nworkers': 1, 'nthread': 1, 'subsample': 0.9, 'min_child_weight': 50.0, 'max_depth': 10, 'lambda': 1.0}\n",
      "LOG-LOSS: 0.5038941224446031, ROC-AUC: 0.7341326806903988                          \n",
      "SPACE:                                                                             \n",
      "{'objective': 'binary:logistic', 'gamma': 1.5, 'silent': 0, 'labelCol': 'label', 'alpha': 0.25, 'colsample_bytree': 0.9, 'eta': 0.05, 'predictionCol': 'prediction', 'featuresCol': 'features', 'eval_metric': 'logloss', 'num_round': 100, 'nworkers': 1, 'nthread': 1, 'subsample': 0.9, 'min_child_weight': 50.0, 'max_depth': 10, 'lambda': 1.0}\n",
      "LOG-LOSS: 0.5038941224446031, ROC-AUC: 0.7341326806904009                          \n",
      "SPACE:                                                                             \n",
      "{'objective': 'binary:logistic', 'gamma': 0.9, 'silent': 0, 'labelCol': 'label', 'alpha': 0.0, 'colsample_bytree': 0.9, 'eta': 0.05, 'predictionCol': 'prediction', 'featuresCol': 'features', 'eval_metric': 'logloss', 'num_round': 100, 'nworkers': 1, 'nthread': 1, 'subsample': 0.9, 'min_child_weight': 50.0, 'max_depth': 6, 'lambda': 1.0}\n",
      "LOG-LOSS: 0.5075317938993421, ROC-AUC: 0.7293092580722326                          \n",
      "SPACE:                                                                             \n",
      "{'objective': 'binary:logistic', 'gamma': 1.5, 'silent': 0, 'labelCol': 'label', 'alpha': 0.25, 'colsample_bytree': 0.9, 'eta': 0.05, 'predictionCol': 'prediction', 'featuresCol': 'features', 'eval_metric': 'logloss', 'num_round': 100, 'nworkers': 1, 'nthread': 1, 'subsample': 0.9, 'min_child_weight': 50.0, 'max_depth': 10, 'lambda': 0.0}\n",
      "LOG-LOSS: 0.5039223697004961, ROC-AUC: 0.7341887914929067                          \n",
      "SPACE:                                                                               \n",
      "{'objective': 'binary:logistic', 'gamma': 0.9, 'silent': 0, 'labelCol': 'label', 'alpha': 0.25, 'colsample_bytree': 0.9, 'eta': 0.05, 'predictionCol': 'prediction', 'featuresCol': 'features', 'eval_metric': 'logloss', 'num_round': 20, 'nworkers': 1, 'nthread': 1, 'subsample': 0.9, 'min_child_weight': 50.0, 'max_depth': 10, 'lambda': 0.0}\n",
      "LOG-LOSS: 0.5411588316078665, ROC-AUC: 0.72652234506554                              \n",
      "SPACE:                                                                               \n",
      "{'objective': 'binary:logistic', 'gamma': 0.9, 'silent': 0, 'labelCol': 'label', 'alpha': 0.0, 'colsample_bytree': 0.9, 'eta': 0.05, 'predictionCol': 'prediction', 'featuresCol': 'features', 'eval_metric': 'logloss', 'num_round': 100, 'nworkers': 1, 'nthread': 1, 'subsample': 0.9, 'min_child_weight': 50.0, 'max_depth': 6, 'lambda': 0.0}\n",
      "LOG-LOSS: 0.5074637802185809, ROC-AUC: 0.7294268582748485                            \n",
      "SPACE:                                                                               \n",
      "{'objective': 'binary:logistic', 'gamma': 1.5, 'silent': 0, 'labelCol': 'label', 'alpha': 0.0, 'colsample_bytree': 0.9, 'eta': 0.05, 'predictionCol': 'prediction', 'featuresCol': 'features', 'eval_metric': 'logloss', 'num_round': 20, 'nworkers': 1, 'nthread': 1, 'subsample': 0.9, 'min_child_weight': 50.0, 'max_depth': 10, 'lambda': 0.0}\n",
      "LOG-LOSS: 0.5411368651588586, ROC-AUC: 0.7265228171345748                            \n",
      "SPACE:                                                                                \n",
      "{'objective': 'binary:logistic', 'gamma': 1.5, 'silent': 0, 'labelCol': 'label', 'alpha': 0.25, 'colsample_bytree': 0.9, 'eta': 0.05, 'predictionCol': 'prediction', 'featuresCol': 'features', 'eval_metric': 'logloss', 'num_round': 20, 'nworkers': 1, 'nthread': 1, 'subsample': 0.9, 'min_child_weight': 50.0, 'max_depth': 6, 'lambda': 0.0}\n",
      "LOG-LOSS: 0.5452761182405371, ROC-AUC: 0.719505033169743                              \n",
      "SPACE:                                                                                \n",
      "{'objective': 'binary:logistic', 'gamma': 0.9, 'silent': 0, 'labelCol': 'label', 'alpha': 0.0, 'colsample_bytree': 0.9, 'eta': 0.05, 'predictionCol': 'prediction', 'featuresCol': 'features', 'eval_metric': 'logloss', 'num_round': 20, 'nworkers': 1, 'nthread': 1, 'subsample': 0.9, 'min_child_weight': 50.0, 'max_depth': 6, 'lambda': 0.0}\n",
      "LOG-LOSS: 0.5452747216161833, ROC-AUC: 0.719502827612647                              \n",
      "SPACE:                                                                                \n",
      "{'objective': 'binary:logistic', 'gamma': 1.5, 'silent': 0, 'labelCol': 'label', 'alpha': 0.25, 'colsample_bytree': 0.9, 'eta': 0.05, 'predictionCol': 'prediction', 'featuresCol': 'features', 'eval_metric': 'logloss', 'num_round': 100, 'nworkers': 1, 'nthread': 1, 'subsample': 0.9, 'min_child_weight': 50.0, 'max_depth': 10, 'lambda': 1.0}\n",
      "LOG-LOSS: 0.5038941224446031, ROC-AUC: 0.7341326806904016                             \n",
      "SPACE:                                                                                \n",
      "{'objective': 'binary:logistic', 'gamma': 0.9, 'silent': 0, 'labelCol': 'label', 'alpha': 0.25, 'colsample_bytree': 0.9, 'eta': 0.05, 'predictionCol': 'prediction', 'featuresCol': 'features', 'eval_metric': 'logloss', 'num_round': 20, 'nworkers': 1, 'nthread': 1, 'subsample': 0.9, 'min_child_weight': 50.0, 'max_depth': 6, 'lambda': 0.0}\n",
      "LOG-LOSS: 0.5452761182405371, ROC-AUC: 0.7195050331697421                             \n",
      "SPACE:                                                                                \n",
      "{'objective': 'binary:logistic', 'gamma': 0.9, 'silent': 0, 'labelCol': 'label', 'alpha': 0.25, 'colsample_bytree': 0.9, 'eta': 0.05, 'predictionCol': 'prediction', 'featuresCol': 'features', 'eval_metric': 'logloss', 'num_round': 20, 'nworkers': 1, 'nthread': 1, 'subsample': 0.9, 'min_child_weight': 50.0, 'max_depth': 6, 'lambda': 1.0}\n",
      "LOG-LOSS: 0.5452891735410615, ROC-AUC: 0.7195058273737037                             \n",
      "SPACE:                                                                                \n",
      "{'objective': 'binary:logistic', 'gamma': 1.5, 'silent': 0, 'labelCol': 'label', 'alpha': 0.25, 'colsample_bytree': 0.9, 'eta': 0.05, 'predictionCol': 'prediction', 'featuresCol': 'features', 'eval_metric': 'logloss', 'num_round': 20, 'nworkers': 1, 'nthread': 1, 'subsample': 0.9, 'min_child_weight': 50.0, 'max_depth': 6, 'lambda': 0.0}\n",
      "LOG-LOSS: 0.5452761182405371, ROC-AUC: 0.7195050331697427                             \n"
     ]
    },
    {
     "name": "stdout",
     "output_type": "stream",
     "text": [
      "SPACE:                                                                                \n",
      "{'objective': 'binary:logistic', 'gamma': 0.9, 'silent': 0, 'labelCol': 'label', 'alpha': 0.0, 'colsample_bytree': 0.9, 'eta': 0.05, 'predictionCol': 'prediction', 'featuresCol': 'features', 'eval_metric': 'logloss', 'num_round': 20, 'nworkers': 1, 'nthread': 1, 'subsample': 0.9, 'min_child_weight': 50.0, 'max_depth': 10, 'lambda': 1.0}\n",
      "LOG-LOSS: 0.541209975023462, ROC-AUC: 0.7264767312694006                              \n",
      "SPACE:                                                                                \n",
      "{'objective': 'binary:logistic', 'gamma': 0.9, 'silent': 0, 'labelCol': 'label', 'alpha': 0.0, 'colsample_bytree': 0.9, 'eta': 0.05, 'predictionCol': 'prediction', 'featuresCol': 'features', 'eval_metric': 'logloss', 'num_round': 100, 'nworkers': 1, 'nthread': 1, 'subsample': 0.9, 'min_child_weight': 50.0, 'max_depth': 10, 'lambda': 1.0}\n",
      "LOG-LOSS: 0.5039782243303803, ROC-AUC: 0.7341978510270835                           \n",
      "SPACE:                                                                                \n",
      "{'objective': 'binary:logistic', 'gamma': 0.9, 'silent': 0, 'labelCol': 'label', 'alpha': 0.0, 'colsample_bytree': 0.9, 'eta': 0.05, 'predictionCol': 'prediction', 'featuresCol': 'features', 'eval_metric': 'logloss', 'num_round': 20, 'nworkers': 1, 'nthread': 1, 'subsample': 0.9, 'min_child_weight': 50.0, 'max_depth': 10, 'lambda': 1.0}\n",
      "LOG-LOSS: 0.541209975023462, ROC-AUC: 0.7264767312693983                              \n",
      "SPACE:                                                                                \n",
      "{'objective': 'binary:logistic', 'gamma': 0.9, 'silent': 0, 'labelCol': 'label', 'alpha': 0.0, 'colsample_bytree': 0.9, 'eta': 0.05, 'predictionCol': 'prediction', 'featuresCol': 'features', 'eval_metric': 'logloss', 'num_round': 20, 'nworkers': 1, 'nthread': 1, 'subsample': 0.9, 'min_child_weight': 50.0, 'max_depth': 10, 'lambda': 1.0}\n",
      "LOG-LOSS: 0.541209975023462, ROC-AUC: 0.7264767312693996                              \n",
      "SPACE:                                                                                \n",
      "{'objective': 'binary:logistic', 'gamma': 1.5, 'silent': 0, 'labelCol': 'label', 'alpha': 0.25, 'colsample_bytree': 0.9, 'eta': 0.05, 'predictionCol': 'prediction', 'featuresCol': 'features', 'eval_metric': 'logloss', 'num_round': 100, 'nworkers': 1, 'nthread': 1, 'subsample': 0.9, 'min_child_weight': 50.0, 'max_depth': 10, 'lambda': 1.0}\n",
      "LOG-LOSS: 0.5038941224446031, ROC-AUC: 0.7341326806904                              \n",
      "SPACE:                                                                                \n",
      "{'objective': 'binary:logistic', 'gamma': 1.5, 'silent': 0, 'labelCol': 'label', 'alpha': 0.25, 'colsample_bytree': 0.9, 'eta': 0.05, 'predictionCol': 'prediction', 'featuresCol': 'features', 'eval_metric': 'logloss', 'num_round': 100, 'nworkers': 1, 'nthread': 1, 'subsample': 0.9, 'min_child_weight': 50.0, 'max_depth': 10, 'lambda': 1.0}\n",
      "LOG-LOSS: 0.5038941224446031, ROC-AUC: 0.7341326806904025                             \n",
      "SPACE:                                                                                \n",
      "{'objective': 'binary:logistic', 'gamma': 1.5, 'silent': 0, 'labelCol': 'label', 'alpha': 0.25, 'colsample_bytree': 0.9, 'eta': 0.05, 'predictionCol': 'prediction', 'featuresCol': 'features', 'eval_metric': 'logloss', 'num_round': 100, 'nworkers': 1, 'nthread': 1, 'subsample': 0.9, 'min_child_weight': 50.0, 'max_depth': 10, 'lambda': 1.0}\n",
      "LOG-LOSS: 0.5038941224446031, ROC-AUC: 0.734132680690402                              \n",
      "SPACE:                                                                                \n",
      "{'objective': 'binary:logistic', 'gamma': 1.5, 'silent': 0, 'labelCol': 'label', 'alpha': 0.25, 'colsample_bytree': 0.9, 'eta': 0.05, 'predictionCol': 'prediction', 'featuresCol': 'features', 'eval_metric': 'logloss', 'num_round': 100, 'nworkers': 1, 'nthread': 1, 'subsample': 0.9, 'min_child_weight': 50.0, 'max_depth': 10, 'lambda': 1.0}\n",
      "LOG-LOSS: 0.5038941224446031, ROC-AUC: 0.7341326806904019                             \n",
      "SPACE:                                                                                \n",
      "{'objective': 'binary:logistic', 'gamma': 1.5, 'silent': 0, 'labelCol': 'label', 'alpha': 0.25, 'colsample_bytree': 0.9, 'eta': 0.05, 'predictionCol': 'prediction', 'featuresCol': 'features', 'eval_metric': 'logloss', 'num_round': 100, 'nworkers': 1, 'nthread': 1, 'subsample': 0.9, 'min_child_weight': 50.0, 'max_depth': 10, 'lambda': 1.0}\n",
      "LOG-LOSS: 0.5038941224446031, ROC-AUC: 0.734132680690401                              \n",
      "SPACE:                                                                                \n",
      "{'objective': 'binary:logistic', 'gamma': 1.5, 'silent': 0, 'labelCol': 'label', 'alpha': 0.25, 'colsample_bytree': 0.9, 'eta': 0.05, 'predictionCol': 'prediction', 'featuresCol': 'features', 'eval_metric': 'logloss', 'num_round': 100, 'nworkers': 1, 'nthread': 1, 'subsample': 0.9, 'min_child_weight': 50.0, 'max_depth': 10, 'lambda': 1.0}\n",
      "LOG-LOSS: 0.5038941224446031, ROC-AUC: 0.7341326806903967                             \n",
      "SPACE:                                                                                \n",
      "{'objective': 'binary:logistic', 'gamma': 1.5, 'silent': 0, 'labelCol': 'label', 'alpha': 0.25, 'colsample_bytree': 0.9, 'eta': 0.05, 'predictionCol': 'prediction', 'featuresCol': 'features', 'eval_metric': 'logloss', 'num_round': 100, 'nworkers': 1, 'nthread': 1, 'subsample': 0.9, 'min_child_weight': 50.0, 'max_depth': 10, 'lambda': 1.0}\n",
      "LOG-LOSS: 0.5038941224446031, ROC-AUC: 0.7341326806903962                           \n",
      "SPACE:                                                                              \n",
      "{'objective': 'binary:logistic', 'gamma': 1.5, 'silent': 0, 'labelCol': 'label', 'alpha': 0.25, 'colsample_bytree': 0.9, 'eta': 0.05, 'predictionCol': 'prediction', 'featuresCol': 'features', 'eval_metric': 'logloss', 'num_round': 100, 'nworkers': 1, 'nthread': 1, 'subsample': 0.9, 'min_child_weight': 50.0, 'max_depth': 10, 'lambda': 1.0}\n",
      "LOG-LOSS: 0.5038941224446031, ROC-AUC: 0.7341326806904036                           \n",
      "SPACE:                                                                              \n",
      "{'objective': 'binary:logistic', 'gamma': 1.5, 'silent': 0, 'labelCol': 'label', 'alpha': 0.25, 'colsample_bytree': 0.9, 'eta': 0.05, 'predictionCol': 'prediction', 'featuresCol': 'features', 'eval_metric': 'logloss', 'num_round': 100, 'nworkers': 1, 'nthread': 1, 'subsample': 0.9, 'min_child_weight': 50.0, 'max_depth': 10, 'lambda': 1.0}\n",
      "LOG-LOSS: 0.5038941224446031, ROC-AUC: 0.7341326806903974                           \n",
      "SPACE:                                                                              \n",
      "{'objective': 'binary:logistic', 'gamma': 1.5, 'silent': 0, 'labelCol': 'label', 'alpha': 0.25, 'colsample_bytree': 0.9, 'eta': 0.05, 'predictionCol': 'prediction', 'featuresCol': 'features', 'eval_metric': 'logloss', 'num_round': 100, 'nworkers': 1, 'nthread': 1, 'subsample': 0.9, 'min_child_weight': 50.0, 'max_depth': 10, 'lambda': 1.0}\n",
      "LOG-LOSS: 0.5038941224446031, ROC-AUC: 0.7341326806903979                           \n",
      "100%|██████████| 30/30 [4:02:08<00:00, 484.28s/trial, best loss: 0.5038941224446031]\n",
      "CPU times: user 7.27 s, sys: 1.42 s, total: 8.69 s\n",
      "Wall time: 4h 2min 8s\n"
     ]
    },
    {
     "data": {
      "text/plain": [
       "{'alpha': 0,\n",
       " 'colsample_bytree': 1,\n",
       " 'gamma': 0,\n",
       " 'max_depth': 0,\n",
       " 'min_child_weight': 0,\n",
       " 'num_round': 0,\n",
       " 'reg_lambda': 1,\n",
       " 'subsample': 1}"
      ]
     },
     "execution_count": 57,
     "metadata": {},
     "output_type": "execute_result"
    }
   ],
   "source": [
    "%%time\n",
    "\n",
    "num_round_choice =        [best_num_round,        baseline_params['num_round']       ]\n",
    "max_depth_choice =        [best_max_depth,        baseline_params['max_depth']       ]\n",
    "min_child_weight_choice = [best_min_child_weight, baseline_params['min_child_weight']]\n",
    "gamma_choice =            [best_gamma,            baseline_params['gamma']           ]\n",
    "subsample_choice =        [best_subsample,        baseline_params['subsample']       ]\n",
    "colsample_bytree_choice = [best_colsample_bytree, baseline_params['colsample_bytree']]\n",
    "alpha_choice =            [best_alpha,            0.0                                ]\n",
    "reg_lambda_choice =       [best_reg_lambda,       1.0                                ]\n",
    "\n",
    "\n",
    "space = {\n",
    "    # Optimize\n",
    "    'num_round': hp.choice('num_round', num_round_choice),\n",
    "    'max_depth': hp.choice('max_depth', max_depth_choice),\n",
    "    'min_child_weight': hp.choice('min_child_weight', min_child_weight_choice),\n",
    "    'gamma': hp.choice('gamma', gamma_choice),\n",
    "    'subsample': hp.choice('subsample', subsample_choice),\n",
    "    'colsample_bytree': hp.choice('colsample_bytree', colsample_bytree_choice),\n",
    "    'alpha': hp.choice('alpha', alpha_choice),\n",
    "    'reg_lambda': hp.choice('reg_lambda', reg_lambda_choice),\n",
    "    \n",
    "    # Fixed    \n",
    "    'eta': 0.05,\n",
    "    \n",
    "    **static_params\n",
    "}\n",
    "\n",
    "\n",
    "trials = Trials()\n",
    "best = fmin(fn=objective,\n",
    "            space=space,\n",
    "            algo=tpe.suggest,\n",
    "            max_evals=30,\n",
    "            trials=trials)\n",
    "best"
   ]
  },
  {
   "cell_type": "code",
   "execution_count": 63,
   "metadata": {},
   "outputs": [],
   "source": [
    "final_params = {\n",
    "    'num_round':        num_round_choice[best['num_round']],\n",
    "    'max_depth':        max_depth_choice[best['max_depth']],\n",
    "    'min_child_weight': min_child_weight_choice[best['min_child_weight']],\n",
    "    'gamma':            gamma_choice[best['gamma']],\n",
    "    'subsample':        subsample_choice[best['subsample']],\n",
    "    'colsample_bytree': colsample_bytree_choice[best['colsample_bytree']],\n",
    "    'alpha':            alpha_choice[best['alpha']],\n",
    "    'reg_lambda':       reg_lambda_choice[best['reg_lambda']],\n",
    "    'eta':              best_eta\n",
    "}"
   ]
  },
  {
   "cell_type": "code",
   "execution_count": 64,
   "metadata": {},
   "outputs": [],
   "source": [
    "model = XGBoostEstimator(**{**static_params, **final_params}).fit(train_df)"
   ]
  },
  {
   "cell_type": "code",
   "execution_count": 65,
   "metadata": {},
   "outputs": [],
   "source": [
    "add_metrics_result(\"model_final\", model, train_df, test_df, all_metrics)"
   ]
  },
  {
   "cell_type": "code",
   "execution_count": 61,
   "metadata": {},
   "outputs": [
    {
     "name": "stdout",
     "output_type": "stream",
     "text": [
      "num_round = 100\n",
      "alpha = 0.25\n",
      "gamma = 1.5\n",
      "eta = 0.05\n",
      "max_depth = 10\n",
      "reg_lambda = 1.0\n",
      "colsample_bytree = 0.9\n",
      "subsample = 0.9\n",
      "min_child_weight = 50.0\n"
     ]
    }
   ],
   "source": [
    "for k, v in final_params.items():\n",
    "    print(k, \"=\", v)"
   ]
  },
  {
   "cell_type": "markdown",
   "metadata": {},
   "source": [
    "---\n",
    "## LogisticRegression Tuning\n",
    "\n",
    "Подберем гиперпараметры для логрега из предыдущих практик"
   ]
  },
  {
   "cell_type": "code",
   "execution_count": 88,
   "metadata": {},
   "outputs": [],
   "source": [
    "def objective_log_reg(space):\n",
    "    estimator = LogisticRegression(**space)\n",
    "    print('SPACE:', estimator._input_kwargs)\n",
    "    success = False\n",
    "    attempts = 0\n",
    "    model = None\n",
    "    while not success and attempts < 2:\n",
    "        try:\n",
    "            model = estimator.fit(train_df)\n",
    "            success = True\n",
    "        except Exception as e:\n",
    "            attempts += 1\n",
    "            print(e)\n",
    "            print('Try again')\n",
    "        \n",
    "    log_loss = logloss(model, val_df, probabilities_col='probability')\n",
    "    roc_auc = rocauc(model, val_df, probabilities_col='probability')\n",
    "    \n",
    "    print('LOG-LOSS: {}, ROC-AUC: {}'.format(log_loss, roc_auc))\n",
    "\n",
    "    return {'loss': log_loss, 'rocauc': roc_auc, 'status': STATUS_OK }"
   ]
  },
  {
   "cell_type": "code",
   "execution_count": 98,
   "metadata": {},
   "outputs": [],
   "source": [
    "lr_metrics = {}"
   ]
  },
  {
   "cell_type": "code",
   "execution_count": 99,
   "metadata": {},
   "outputs": [],
   "source": [
    "CONTROL_NAME_LR = 'log_reg_baseline'"
   ]
  },
  {
   "cell_type": "code",
   "execution_count": 108,
   "metadata": {},
   "outputs": [],
   "source": [
    "baseline_params_lr = {\n",
    "    'regParam': 0.0,\n",
    "    'elasticNetParam': 0.0,\n",
    "    'maxIter': 30,\n",
    "    'standardization': True,\n",
    "    'threshold': 0.5\n",
    "}"
   ]
  },
  {
   "cell_type": "code",
   "execution_count": 109,
   "metadata": {},
   "outputs": [],
   "source": [
    "static_params_lr = {\n",
    "    'featuresCol': \"features\", \n",
    "    'labelCol': \"label\",\n",
    "}"
   ]
  },
  {
   "cell_type": "code",
   "execution_count": 110,
   "metadata": {},
   "outputs": [],
   "source": [
    "baseline_model_lr = LogisticRegression(**{**static_params_lr, **baseline_params_lr}).fit(train_df)"
   ]
  },
  {
   "cell_type": "code",
   "execution_count": 111,
   "metadata": {},
   "outputs": [],
   "source": [
    "add_metrics_result(CONTROL_NAME_LR, baseline_model_lr, train_df, test_df, lr_metrics, probabilities_col='probability')"
   ]
  },
  {
   "cell_type": "code",
   "execution_count": 89,
   "metadata": {},
   "outputs": [
    {
     "name": "stdout",
     "output_type": "stream",
     "text": [
      "SPACE:                                                 \n",
      "{'featuresCol': 'features', 'maxIter': 50, 'regParam': 1.0, 'labelCol': 'label', 'threshold': 0.25, 'standardization': False, 'elasticNetParam': 0.5}\n",
      "LOG-LOSS: 0.5623304998829375, ROC-AUC: 0.6467681035602768\n",
      "SPACE:                                                                             \n",
      "{'featuresCol': 'features', 'maxIter': 20, 'regParam': 0.5, 'labelCol': 'label', 'threshold': 0.75, 'standardization': True, 'elasticNetParam': 0.25}\n",
      "LOG-LOSS: 0.5750326435773161, ROC-AUC: 0.5                                         \n",
      "SPACE:                                                                             \n",
      "{'featuresCol': 'features', 'maxIter': 20, 'regParam': 2.0, 'labelCol': 'label', 'threshold': 0.85, 'standardization': True, 'elasticNetParam': 0.0}\n",
      "LOG-LOSS: 0.5641329141738674, ROC-AUC: 0.699438916244874                           \n",
      "SPACE:                                                                             \n",
      "{'featuresCol': 'features', 'maxIter': 10, 'regParam': 0.75, 'labelCol': 'label', 'threshold': 0.25, 'standardization': True, 'elasticNetParam': 0.25}\n",
      "LOG-LOSS: 0.5750326435773161, ROC-AUC: 0.5                                         \n",
      "SPACE:                                                                             \n",
      "{'featuresCol': 'features', 'maxIter': 20, 'regParam': 0.0, 'labelCol': 'label', 'threshold': 0.75, 'standardization': True, 'elasticNetParam': 0.0}\n",
      "LOG-LOSS: 0.5282529644822185, ROC-AUC: 0.7025384972879484                          \n",
      "SPACE:                                                                             \n",
      "{'featuresCol': 'features', 'maxIter': 50, 'regParam': 0.25, 'labelCol': 'label', 'threshold': 0.15, 'standardization': True, 'elasticNetParam': 0.85}\n",
      "LOG-LOSS: 0.5750326435773161, ROC-AUC: 0.5                                         \n",
      "SPACE:                                                                             \n",
      "{'featuresCol': 'features', 'maxIter': 40, 'regParam': 0.0, 'labelCol': 'label', 'threshold': 0.15, 'standardization': True, 'elasticNetParam': 0.75}\n",
      "LOG-LOSS: 0.5310230324704763, ROC-AUC: 0.7025388782099942                        \n",
      "SPACE:                                                                             \n",
      "{'featuresCol': 'features', 'maxIter': 30, 'regParam': 1.0, 'labelCol': 'label', 'threshold': 0.15, 'standardization': True, 'elasticNetParam': 0.5}\n",
      "LOG-LOSS: 0.5750326435773161, ROC-AUC: 0.5                                         \n",
      "SPACE:                                                                             \n",
      "{'featuresCol': 'features', 'maxIter': 10, 'regParam': 0.25, 'labelCol': 'label', 'threshold': 0.5, 'standardization': False, 'elasticNetParam': 1.0}\n",
      "LOG-LOSS: 0.557015262757491, ROC-AUC: 0.6645724727662643                         \n",
      "SPACE:                                                                           \n",
      "{'featuresCol': 'features', 'maxIter': 30, 'regParam': 0.25, 'labelCol': 'label', 'threshold': 0.25, 'standardization': True, 'elasticNetParam': 0.75}\n",
      "LOG-LOSS: 0.5750326435773161, ROC-AUC: 0.5                                       \n",
      "SPACE:                                                                            \n",
      "{'featuresCol': 'features', 'maxIter': 50, 'regParam': 0.5, 'labelCol': 'label', 'threshold': 0.25, 'standardization': True, 'elasticNetParam': 0.0}\n",
      "LOG-LOSS: 0.5492618245496279, ROC-AUC: 0.6998133986670553                         \n",
      "SPACE:                                                                            \n",
      "{'featuresCol': 'features', 'maxIter': 10, 'regParam': 0.0, 'labelCol': 'label', 'threshold': 0.75, 'standardization': True, 'elasticNetParam': 0.25}\n",
      "LOG-LOSS: 0.5284054649300534, ROC-AUC: 0.7028389466952103                         \n",
      "SPACE:                                                                            \n",
      "{'featuresCol': 'features', 'maxIter': 10, 'regParam': 2.0, 'labelCol': 'label', 'threshold': 0.85, 'standardization': False, 'elasticNetParam': 1.0}\n",
      "LOG-LOSS: 0.5654659018271868, ROC-AUC: 0.632123378034885                          \n",
      "SPACE:                                                                            \n",
      "{'featuresCol': 'features', 'maxIter': 10, 'regParam': 1.0, 'labelCol': 'label', 'threshold': 0.25, 'standardization': False, 'elasticNetParam': 0.85}\n",
      "LOG-LOSS: 0.562865386008897, ROC-AUC: 0.6447289222553054                          \n",
      "SPACE:                                                                            \n",
      "{'featuresCol': 'features', 'maxIter': 20, 'regParam': 0.5, 'labelCol': 'label', 'threshold': 0.25, 'standardization': False, 'elasticNetParam': 0.0}\n",
      "LOG-LOSS: 0.574027794413798, ROC-AUC: 0.6982066030930771                          \n",
      "SPACE:                                                                            \n",
      "{'featuresCol': 'features', 'maxIter': 40, 'regParam': 2.0, 'labelCol': 'label', 'threshold': 0.15, 'standardization': True, 'elasticNetParam': 0.15}\n",
      "LOG-LOSS: 0.5750326435773161, ROC-AUC: 0.5                                        \n",
      "SPACE:                                                                            \n",
      "{'featuresCol': 'features', 'maxIter': 10, 'regParam': 1.0, 'labelCol': 'label', 'threshold': 0.15, 'standardization': False, 'elasticNetParam': 0.5}\n",
      "LOG-LOSS: 0.5623330864370928, ROC-AUC: 0.6466921026793004                         \n",
      "SPACE:                                                                            \n",
      "{'featuresCol': 'features', 'maxIter': 40, 'regParam': 2.0, 'labelCol': 'label', 'threshold': 0.85, 'standardization': True, 'elasticNetParam': 0.85}\n",
      "LOG-LOSS: 0.5750326435773161, ROC-AUC: 0.5                                        \n",
      "SPACE:                                                                            \n",
      "{'featuresCol': 'features', 'maxIter': 30, 'regParam': 0.5, 'labelCol': 'label', 'threshold': 0.15, 'standardization': False, 'elasticNetParam': 0.25}\n",
      "LOG-LOSS: 0.5521655943188161, ROC-AUC: 0.6723248972425853                         \n",
      "SPACE:                                                                            \n",
      "{'featuresCol': 'features', 'maxIter': 20, 'regParam': 1.0, 'labelCol': 'label', 'threshold': 0.75, 'standardization': True, 'elasticNetParam': 0.85}\n",
      "LOG-LOSS: 0.5750326435773161, ROC-AUC: 0.5                                        \n",
      "SPACE:                                                                            \n",
      "{'featuresCol': 'features', 'maxIter': 20, 'regParam': 0.0, 'labelCol': 'label', 'threshold': 0.75, 'standardization': True, 'elasticNetParam': 0.25}\n",
      "LOG-LOSS: 0.5282529644822185, ROC-AUC: 0.7025384972879508                         \n",
      "SPACE:                                                                            \n",
      "{'featuresCol': 'features', 'maxIter': 20, 'regParam': 1.5, 'labelCol': 'label', 'threshold': 0.75, 'standardization': True, 'elasticNetParam': 0.0}\n",
      "LOG-LOSS: 0.5615511253530383, ROC-AUC: 0.6995531779092924                         \n",
      "SPACE:                                                                            \n",
      "{'featuresCol': 'features', 'maxIter': 20, 'regParam': 0.0, 'labelCol': 'label', 'threshold': 0.75, 'standardization': True, 'elasticNetParam': 0.15}\n",
      "LOG-LOSS: 0.5282529644822185, ROC-AUC: 0.7025384972879517                         \n",
      "SPACE:                                                                            \n",
      "{'featuresCol': 'features', 'maxIter': 20, 'regParam': 0.0, 'labelCol': 'label', 'threshold': 0.75, 'standardization': True, 'elasticNetParam': 0.15}\n",
      "LOG-LOSS: 0.5282529644822185, ROC-AUC: 0.7025384972879538                         \n",
      "SPACE:                                                                            \n",
      "{'featuresCol': 'features', 'maxIter': 20, 'regParam': 0.0, 'labelCol': 'label', 'threshold': 0.5, 'standardization': True, 'elasticNetParam': 0.15}\n",
      "LOG-LOSS: 0.5282529644822185, ROC-AUC: 0.7025384972879536                         \n",
      "SPACE:                                                                            \n",
      "{'featuresCol': 'features', 'maxIter': 20, 'regParam': 0.0, 'labelCol': 'label', 'threshold': 0.5, 'standardization': True, 'elasticNetParam': 0.15}\n",
      "LOG-LOSS: 0.5282529644822185, ROC-AUC: 0.7025384972879508                         \n"
     ]
    },
    {
     "name": "stdout",
     "output_type": "stream",
     "text": [
      "SPACE:                                                                            \n",
      "{'featuresCol': 'features', 'maxIter': 20, 'regParam': 1.5, 'labelCol': 'label', 'threshold': 0.5, 'standardization': True, 'elasticNetParam': 0.15}\n",
      "LOG-LOSS: 0.5750326435773161, ROC-AUC: 0.5                                        \n",
      "SPACE:                                                                            \n",
      "{'featuresCol': 'features', 'maxIter': 20, 'regParam': 0.75, 'labelCol': 'label', 'threshold': 0.5, 'standardization': True, 'elasticNetParam': 0.15}\n",
      "LOG-LOSS: 0.5750326435773161, ROC-AUC: 0.5                                        \n",
      "SPACE:                                                                            \n",
      "{'featuresCol': 'features', 'maxIter': 50, 'regParam': 0.0, 'labelCol': 'label', 'threshold': 0.5, 'standardization': True, 'elasticNetParam': 0.15}\n",
      "LOG-LOSS: 0.5349166396424252, ROC-AUC: 0.7025494885529899                         \n",
      "SPACE:                                                                            \n",
      "{'featuresCol': 'features', 'maxIter': 20, 'regParam': 0.0, 'labelCol': 'label', 'threshold': 0.5, 'standardization': True, 'elasticNetParam': 0.15}\n",
      "LOG-LOSS: 0.5282529644822185, ROC-AUC: 0.7025384972879533                         \n",
      "SPACE:                                                                            \n",
      "{'featuresCol': 'features', 'maxIter': 40, 'regParam': 1.5, 'labelCol': 'label', 'threshold': 0.5, 'standardization': False, 'elasticNetParam': 0.15}\n",
      "LOG-LOSS: 0.5568872406400811, ROC-AUC: 0.6643088384261979                         \n",
      "SPACE:                                                                            \n",
      "{'featuresCol': 'features', 'maxIter': 30, 'regParam': 0.0, 'labelCol': 'label', 'threshold': 0.5, 'standardization': True, 'elasticNetParam': 0.15}\n",
      "LOG-LOSS: 0.5295218164686812, ROC-AUC: 0.7025337191972955                         \n",
      "SPACE:                                                                            \n",
      "{'featuresCol': 'features', 'maxIter': 20, 'regParam': 0.75, 'labelCol': 'label', 'threshold': 0.5, 'standardization': True, 'elasticNetParam': 1.0}\n",
      "LOG-LOSS: 0.5750326435773161, ROC-AUC: 0.5                                        \n",
      "SPACE:                                                                            \n",
      "{'featuresCol': 'features', 'maxIter': 50, 'regParam': 0.0, 'labelCol': 'label', 'threshold': 0.85, 'standardization': True, 'elasticNetParam': 0.0}\n",
      "LOG-LOSS: 0.5349166396424252, ROC-AUC: 0.7025494885529905                         \n",
      "SPACE:                                                                            \n",
      "{'featuresCol': 'features', 'maxIter': 20, 'regParam': 0.75, 'labelCol': 'label', 'threshold': 0.75, 'standardization': True, 'elasticNetParam': 0.75}\n",
      "LOG-LOSS: 0.5750326435773161, ROC-AUC: 0.5                                        \n",
      "SPACE:                                                                            \n",
      "{'featuresCol': 'features', 'maxIter': 20, 'regParam': 0.0, 'labelCol': 'label', 'threshold': 0.75, 'standardization': True, 'elasticNetParam': 0.5}\n",
      "LOG-LOSS: 0.5282529644822185, ROC-AUC: 0.7025384972879525                         \n",
      "SPACE:                                                                            \n",
      "{'featuresCol': 'features', 'maxIter': 20, 'regParam': 0.25, 'labelCol': 'label', 'threshold': 0.75, 'standardization': True, 'elasticNetParam': 0.5}\n",
      "LOG-LOSS: 0.5750326435773161, ROC-AUC: 0.5                                        \n",
      "SPACE:                                                                            \n",
      "{'featuresCol': 'features', 'maxIter': 50, 'regParam': 0.0, 'labelCol': 'label', 'threshold': 0.75, 'standardization': False, 'elasticNetParam': 0.5}\n",
      "LOG-LOSS: 0.5349166396424252, ROC-AUC: 0.7025494885529916                         \n",
      "SPACE:                                                                            \n",
      "{'featuresCol': 'features', 'maxIter': 30, 'regParam': 0.25, 'labelCol': 'label', 'threshold': 0.75, 'standardization': True, 'elasticNetParam': 0.5}\n",
      "LOG-LOSS: 0.5750326435773161, ROC-AUC: 0.5                                        \n",
      "SPACE:                                                                            \n",
      "{'featuresCol': 'features', 'maxIter': 40, 'regParam': 0.0, 'labelCol': 'label', 'threshold': 0.85, 'standardization': True, 'elasticNetParam': 0.15}\n",
      "LOG-LOSS: 0.5310230324704763, ROC-AUC: 0.7025388782099904                         \n",
      "SPACE:                                                                            \n",
      "{'featuresCol': 'features', 'maxIter': 20, 'regParam': 0.5, 'labelCol': 'label', 'threshold': 0.5, 'standardization': True, 'elasticNetParam': 0.75}\n",
      "LOG-LOSS: 0.5750326435773161, ROC-AUC: 0.5                                        \n",
      "SPACE:                                                                            \n",
      "{'featuresCol': 'features', 'maxIter': 20, 'regParam': 1.5, 'labelCol': 'label', 'threshold': 0.75, 'standardization': True, 'elasticNetParam': 0.25}\n",
      "LOG-LOSS: 0.5750326435773161, ROC-AUC: 0.5                                        \n",
      "SPACE:                                                                            \n",
      "{'featuresCol': 'features', 'maxIter': 50, 'regParam': 2.0, 'labelCol': 'label', 'threshold': 0.25, 'standardization': False, 'elasticNetParam': 0.25}\n",
      "LOG-LOSS: 0.562333506914606, ROC-AUC: 0.6467377939850601                          \n",
      "SPACE:                                                                            \n",
      "{'featuresCol': 'features', 'maxIter': 30, 'regParam': 0.0, 'labelCol': 'label', 'threshold': 0.85, 'standardization': True, 'elasticNetParam': 0.25}\n",
      "LOG-LOSS: 0.5295218164686812, ROC-AUC: 0.7025337191972909                         \n",
      "SPACE:                                                                            \n",
      "{'featuresCol': 'features', 'maxIter': 10, 'regParam': 1.0, 'labelCol': 'label', 'threshold': 0.75, 'standardization': True, 'elasticNetParam': 0.25}\n",
      "LOG-LOSS: 0.5750326435773161, ROC-AUC: 0.5                                        \n",
      "SPACE:                                                                            \n",
      "{'featuresCol': 'features', 'maxIter': 40, 'regParam': 0.75, 'labelCol': 'label', 'threshold': 0.75, 'standardization': False, 'elasticNetParam': 1.0}\n",
      "LOG-LOSS: 0.5626924940156901, ROC-AUC: 0.6449835082330488                         \n",
      "SPACE:                                                                            \n",
      "{'featuresCol': 'features', 'maxIter': 20, 'regParam': 0.25, 'labelCol': 'label', 'threshold': 0.75, 'standardization': True, 'elasticNetParam': 0.15}\n",
      "LOG-LOSS: 0.563794483689299, ROC-AUC: 0.6642040439534231                          \n",
      "SPACE:                                                                            \n",
      "{'featuresCol': 'features', 'maxIter': 10, 'regParam': 0.5, 'labelCol': 'label', 'threshold': 0.15, 'standardization': True, 'elasticNetParam': 0.75}\n",
      "LOG-LOSS: 0.5750326435773161, ROC-AUC: 0.5                                        \n",
      "SPACE:                                                                            \n",
      "{'featuresCol': 'features', 'maxIter': 20, 'regParam': 2.0, 'labelCol': 'label', 'threshold': 0.25, 'standardization': False, 'elasticNetParam': 0.85}\n",
      "LOG-LOSS: 0.5646189523130564, ROC-AUC: 0.6385668341924409                         \n",
      "SPACE:                                                                            \n",
      "{'featuresCol': 'features', 'maxIter': 30, 'regParam': 0.0, 'labelCol': 'label', 'threshold': 0.5, 'standardization': True, 'elasticNetParam': 0.15}\n",
      "LOG-LOSS: 0.5295218164686812, ROC-AUC: 0.7025337191972894                         \n",
      "SPACE:                                                                            \n",
      "{'featuresCol': 'features', 'maxIter': 50, 'regParam': 1.0, 'labelCol': 'label', 'threshold': 0.15, 'standardization': True, 'elasticNetParam': 0.5}\n",
      "LOG-LOSS: 0.5750326435773161, ROC-AUC: 0.5                                        \n",
      "SPACE:                                                                            \n",
      "{'featuresCol': 'features', 'maxIter': 40, 'regParam': 0.0, 'labelCol': 'label', 'threshold': 0.5, 'standardization': False, 'elasticNetParam': 1.0}\n"
     ]
    },
    {
     "name": "stdout",
     "output_type": "stream",
     "text": [
      "LOG-LOSS: 0.5310230324704763, ROC-AUC: 0.7025388782099912                         \n",
      "SPACE:                                                                            \n",
      "{'featuresCol': 'features', 'maxIter': 10, 'regParam': 0.5, 'labelCol': 'label', 'threshold': 0.25, 'standardization': True, 'elasticNetParam': 0.0}\n",
      "LOG-LOSS: 0.5492606893576685, ROC-AUC: 0.6998126954560002                         \n",
      "SPACE:                                                                            \n",
      "{'featuresCol': 'features', 'maxIter': 20, 'regParam': 1.5, 'labelCol': 'label', 'threshold': 0.75, 'standardization': True, 'elasticNetParam': 0.25}\n",
      "LOG-LOSS: 0.5750326435773161, ROC-AUC: 0.5                                        \n",
      "SPACE:                                                                            \n",
      "{'featuresCol': 'features', 'maxIter': 20, 'regParam': 0.0, 'labelCol': 'label', 'threshold': 0.75, 'standardization': True, 'elasticNetParam': 0.25}\n",
      "LOG-LOSS: 0.5282529644822185, ROC-AUC: 0.7025384972879534                         \n",
      "SPACE:                                                                            \n",
      "{'featuresCol': 'features', 'maxIter': 20, 'regParam': 2.0, 'labelCol': 'label', 'threshold': 0.75, 'standardization': False, 'elasticNetParam': 0.25}\n",
      "LOG-LOSS: 0.5623335167732494, ROC-AUC: 0.6467385441949884                         \n",
      "SPACE:                                                                            \n",
      "{'featuresCol': 'features', 'maxIter': 30, 'regParam': 0.25, 'labelCol': 'label', 'threshold': 0.85, 'standardization': True, 'elasticNetParam': 0.5}\n",
      "LOG-LOSS: 0.5750326435773161, ROC-AUC: 0.5                                        \n",
      "SPACE:                                                                            \n",
      "{'featuresCol': 'features', 'maxIter': 10, 'regParam': 0.0, 'labelCol': 'label', 'threshold': 0.15, 'standardization': True, 'elasticNetParam': 0.85}\n",
      "LOG-LOSS: 0.5284054649300534, ROC-AUC: 0.7028389466952114                         \n",
      "SPACE:                                                                            \n",
      "{'featuresCol': 'features', 'maxIter': 20, 'regParam': 1.0, 'labelCol': 'label', 'threshold': 0.75, 'standardization': True, 'elasticNetParam': 0.5}\n",
      "LOG-LOSS: 0.5750326435773161, ROC-AUC: 0.5                                        \n",
      "SPACE:                                                                            \n",
      "{'featuresCol': 'features', 'maxIter': 40, 'regParam': 0.75, 'labelCol': 'label', 'threshold': 0.5, 'standardization': False, 'elasticNetParam': 0.15}\n",
      "LOG-LOSS: 0.5515357727131254, ROC-AUC: 0.6736145333826444                         \n",
      "SPACE:                                                                            \n",
      "{'featuresCol': 'features', 'maxIter': 50, 'regParam': 0.0, 'labelCol': 'label', 'threshold': 0.25, 'standardization': True, 'elasticNetParam': 0.15}\n",
      "LOG-LOSS: 0.5349166396424252, ROC-AUC: 0.7025494885529898                         \n",
      "SPACE:                                                                            \n",
      "{'featuresCol': 'features', 'maxIter': 20, 'regParam': 1.5, 'labelCol': 'label', 'threshold': 0.5, 'standardization': True, 'elasticNetParam': 0.75}\n",
      "LOG-LOSS: 0.5750326435773161, ROC-AUC: 0.5                                        \n",
      "SPACE:                                                                            \n",
      "{'featuresCol': 'features', 'maxIter': 20, 'regParam': 0.0, 'labelCol': 'label', 'threshold': 0.85, 'standardization': True, 'elasticNetParam': 0.15}\n",
      "LOG-LOSS: 0.5282529644822185, ROC-AUC: 0.7025384972879494                         \n",
      "SPACE:                                                                            \n",
      "{'featuresCol': 'features', 'maxIter': 20, 'regParam': 0.5, 'labelCol': 'label', 'threshold': 0.85, 'standardization': False, 'elasticNetParam': 0.25}\n",
      "LOG-LOSS: 0.5521642303707747, ROC-AUC: 0.6723358181634022                         \n",
      "SPACE:                                                                            \n",
      "{'featuresCol': 'features', 'maxIter': 30, 'regParam': 0.0, 'labelCol': 'label', 'threshold': 0.15, 'standardization': True, 'elasticNetParam': 0.0}\n",
      "LOG-LOSS: 0.5295218164686812, ROC-AUC: 0.7025337191972882                         \n",
      "SPACE:                                                                            \n",
      "{'featuresCol': 'features', 'maxIter': 20, 'regParam': 0.0, 'labelCol': 'label', 'threshold': 0.85, 'standardization': True, 'elasticNetParam': 0.0}\n",
      "LOG-LOSS: 0.5282529644822185, ROC-AUC: 0.7025384972879494                         \n",
      "SPACE:                                                                            \n",
      "{'featuresCol': 'features', 'maxIter': 20, 'regParam': 0.0, 'labelCol': 'label', 'threshold': 0.85, 'standardization': True, 'elasticNetParam': 0.0}\n",
      "LOG-LOSS: 0.5282529644822185, ROC-AUC: 0.7025384972879518                         \n",
      "SPACE:                                                                            \n",
      "{'featuresCol': 'features', 'maxIter': 20, 'regParam': 0.0, 'labelCol': 'label', 'threshold': 0.85, 'standardization': True, 'elasticNetParam': 0.0}\n",
      "LOG-LOSS: 0.5282529644822185, ROC-AUC: 0.7025384972879521                         \n",
      "SPACE:                                                                            \n",
      "{'featuresCol': 'features', 'maxIter': 20, 'regParam': 0.0, 'labelCol': 'label', 'threshold': 0.85, 'standardization': True, 'elasticNetParam': 0.0}\n",
      "LOG-LOSS: 0.5282529644822185, ROC-AUC: 0.70253849728795                           \n",
      "SPACE:                                                                            \n",
      "{'featuresCol': 'features', 'maxIter': 20, 'regParam': 0.0, 'labelCol': 'label', 'threshold': 0.85, 'standardization': True, 'elasticNetParam': 0.5}\n",
      "LOG-LOSS: 0.5282529644822185, ROC-AUC: 0.7025384972879527                         \n",
      "SPACE:                                                                            \n",
      "{'featuresCol': 'features', 'maxIter': 20, 'regParam': 0.0, 'labelCol': 'label', 'threshold': 0.5, 'standardization': True, 'elasticNetParam': 0.5}\n",
      "LOG-LOSS: 0.5282529644822185, ROC-AUC: 0.7025384972879505                         \n",
      "SPACE:                                                                            \n",
      "{'featuresCol': 'features', 'maxIter': 20, 'regParam': 2.0, 'labelCol': 'label', 'threshold': 0.85, 'standardization': True, 'elasticNetParam': 0.0}\n",
      "LOG-LOSS: 0.5641329141738674, ROC-AUC: 0.6994389162448695                         \n",
      "SPACE:                                                                            \n",
      "{'featuresCol': 'features', 'maxIter': 40, 'regParam': 0.75, 'labelCol': 'label', 'threshold': 0.75, 'standardization': True, 'elasticNetParam': 0.15}\n",
      "LOG-LOSS: 0.5750326435773161, ROC-AUC: 0.5                                        \n",
      "SPACE:                                                                            \n",
      "{'featuresCol': 'features', 'maxIter': 20, 'regParam': 0.25, 'labelCol': 'label', 'threshold': 0.75, 'standardization': True, 'elasticNetParam': 0.15}\n",
      "LOG-LOSS: 0.563794483689299, ROC-AUC: 0.6642040439534231                          \n",
      "SPACE:                                                                            \n",
      "{'featuresCol': 'features', 'maxIter': 50, 'regParam': 0.0, 'labelCol': 'label', 'threshold': 0.75, 'standardization': True, 'elasticNetParam': 1.0}\n",
      "LOG-LOSS: 0.5349166396424252, ROC-AUC: 0.7025494885529919                         \n",
      "SPACE:                                                                            \n",
      "{'featuresCol': 'features', 'maxIter': 10, 'regParam': 1.0, 'labelCol': 'label', 'threshold': 0.5, 'standardization': True, 'elasticNetParam': 0.5}\n",
      "LOG-LOSS: 0.5750326435773161, ROC-AUC: 0.5                                        \n",
      "SPACE:                                                                            \n",
      "{'featuresCol': 'features', 'maxIter': 20, 'regParam': 0.0, 'labelCol': 'label', 'threshold': 0.25, 'standardization': True, 'elasticNetParam': 0.85}\n",
      "LOG-LOSS: 0.5282529644822185, ROC-AUC: 0.702538497287954                          \n",
      "SPACE:                                                                            \n",
      "{'featuresCol': 'features', 'maxIter': 20, 'regParam': 1.5, 'labelCol': 'label', 'threshold': 0.25, 'standardization': True, 'elasticNetParam': 0.85}\n"
     ]
    },
    {
     "name": "stdout",
     "output_type": "stream",
     "text": [
      "LOG-LOSS: 0.5750326435773161, ROC-AUC: 0.5                                        \n",
      "SPACE:                                                                            \n",
      "{'featuresCol': 'features', 'maxIter': 20, 'regParam': 0.0, 'labelCol': 'label', 'threshold': 0.85, 'standardization': True, 'elasticNetParam': 0.0}\n",
      "LOG-LOSS: 0.5282529644822185, ROC-AUC: 0.7025384972879511                         \n",
      "SPACE:                                                                            \n",
      "{'featuresCol': 'features', 'maxIter': 30, 'regParam': 0.5, 'labelCol': 'label', 'threshold': 0.5, 'standardization': False, 'elasticNetParam': 0.15}\n",
      "LOG-LOSS: 0.5491119578481176, ROC-AUC: 0.6780070607505677                         \n",
      "SPACE:                                                                            \n",
      "{'featuresCol': 'features', 'maxIter': 20, 'regParam': 0.0, 'labelCol': 'label', 'threshold': 0.75, 'standardization': True, 'elasticNetParam': 0.25}\n",
      "LOG-LOSS: 0.5282529644822185, ROC-AUC: 0.7025384972879536                         \n",
      "SPACE:                                                                            \n",
      "{'featuresCol': 'features', 'maxIter': 40, 'regParam': 2.0, 'labelCol': 'label', 'threshold': 0.75, 'standardization': True, 'elasticNetParam': 0.25}\n",
      "LOG-LOSS: 0.5750326435773161, ROC-AUC: 0.5                                        \n",
      "SPACE:                                                                            \n",
      "{'featuresCol': 'features', 'maxIter': 50, 'regParam': 0.75, 'labelCol': 'label', 'threshold': 0.85, 'standardization': True, 'elasticNetParam': 0.75}\n",
      "LOG-LOSS: 0.5750326435773161, ROC-AUC: 0.5                                        \n",
      "SPACE:                                                                            \n",
      "{'featuresCol': 'features', 'maxIter': 10, 'regParam': 0.25, 'labelCol': 'label', 'threshold': 0.5, 'standardization': True, 'elasticNetParam': 0.5}\n",
      "LOG-LOSS: 0.5750326435773161, ROC-AUC: 0.5                                        \n",
      "SPACE:                                                                            \n",
      "{'featuresCol': 'features', 'maxIter': 20, 'regParam': 0.0, 'labelCol': 'label', 'threshold': 0.85, 'standardization': False, 'elasticNetParam': 1.0}\n",
      "LOG-LOSS: 0.5282529644822185, ROC-AUC: 0.7025384972879511                         \n",
      "SPACE:                                                                            \n",
      "{'featuresCol': 'features', 'maxIter': 20, 'regParam': 1.5, 'labelCol': 'label', 'threshold': 0.15, 'standardization': False, 'elasticNetParam': 1.0}\n",
      "LOG-LOSS: 0.5641276944989443, ROC-AUC: 0.640550684645111                          \n",
      "SPACE:                                                                            \n",
      "{'featuresCol': 'features', 'maxIter': 30, 'regParam': 1.0, 'labelCol': 'label', 'threshold': 0.75, 'standardization': True, 'elasticNetParam': 0.15}\n",
      "LOG-LOSS: 0.5750326435773161, ROC-AUC: 0.5                                        \n",
      "SPACE:                                                                            \n",
      "{'featuresCol': 'features', 'maxIter': 20, 'regParam': 0.0, 'labelCol': 'label', 'threshold': 0.85, 'standardization': True, 'elasticNetParam': 0.0}\n",
      "LOG-LOSS: 0.5282529644822185, ROC-AUC: 0.7025384972879503                         \n",
      "SPACE:                                                                            \n",
      "{'featuresCol': 'features', 'maxIter': 40, 'regParam': 0.5, 'labelCol': 'label', 'threshold': 0.75, 'standardization': True, 'elasticNetParam': 0.15}\n",
      "LOG-LOSS: 0.5738533192436653, ROC-AUC: 0.6047964702266095                         \n",
      "SPACE:                                                                            \n",
      "{'featuresCol': 'features', 'maxIter': 10, 'regParam': 0.0, 'labelCol': 'label', 'threshold': 0.85, 'standardization': True, 'elasticNetParam': 0.0}\n",
      "LOG-LOSS: 0.5284054649300534, ROC-AUC: 0.7028389466952111                         \n",
      "SPACE:                                                                            \n",
      "{'featuresCol': 'features', 'maxIter': 50, 'regParam': 2.0, 'labelCol': 'label', 'threshold': 0.5, 'standardization': True, 'elasticNetParam': 0.15}\n",
      "LOG-LOSS: 0.5750326435773161, ROC-AUC: 0.5                                        \n",
      "SPACE:                                                                            \n",
      "{'featuresCol': 'features', 'maxIter': 20, 'regParam': 0.75, 'labelCol': 'label', 'threshold': 0.75, 'standardization': True, 'elasticNetParam': 0.15}\n",
      "LOG-LOSS: 0.5750326435773161, ROC-AUC: 0.5                                        \n",
      "SPACE:                                                                            \n",
      "{'featuresCol': 'features', 'maxIter': 20, 'regParam': 0.25, 'labelCol': 'label', 'threshold': 0.15, 'standardization': True, 'elasticNetParam': 0.75}\n",
      "LOG-LOSS: 0.5750326435773161, ROC-AUC: 0.5                                        \n",
      "SPACE:                                                                              \n",
      "{'featuresCol': 'features', 'maxIter': 20, 'regParam': 0.0, 'labelCol': 'label', 'threshold': 0.5, 'standardization': False, 'elasticNetParam': 0.15}\n",
      "LOG-LOSS: 0.5282529644822185, ROC-AUC: 0.702538497287951                            \n",
      "SPACE:                                                                              \n",
      "{'featuresCol': 'features', 'maxIter': 30, 'regParam': 1.0, 'labelCol': 'label', 'threshold': 0.75, 'standardization': False, 'elasticNetParam': 0.25}\n",
      "LOG-LOSS: 0.5571918306285643, ROC-AUC: 0.6642912444354403                           \n",
      "SPACE:                                                                              \n",
      "{'featuresCol': 'features', 'maxIter': 40, 'regParam': 0.0, 'labelCol': 'label', 'threshold': 0.75, 'standardization': True, 'elasticNetParam': 0.5}\n",
      "LOG-LOSS: 0.5310230324704763, ROC-AUC: 0.7025388782099908                           \n",
      "SPACE:                                                                              \n",
      "{'featuresCol': 'features', 'maxIter': 20, 'regParam': 0.0, 'labelCol': 'label', 'threshold': 0.85, 'standardization': True, 'elasticNetParam': 0.0}\n",
      "LOG-LOSS: 0.5282529644822185, ROC-AUC: 0.7025384972879505                           \n",
      "SPACE:                                                                              \n",
      "{'featuresCol': 'features', 'maxIter': 20, 'regParam': 1.5, 'labelCol': 'label', 'threshold': 0.85, 'standardization': True, 'elasticNetParam': 0.25}\n",
      "LOG-LOSS: 0.5750326435773161, ROC-AUC: 0.5                                          \n",
      "SPACE:                                                                              \n",
      "{'featuresCol': 'features', 'maxIter': 10, 'regParam': 0.0, 'labelCol': 'label', 'threshold': 0.5, 'standardization': True, 'elasticNetParam': 0.5}\n",
      "LOG-LOSS: 0.5284054649300534, ROC-AUC: 0.7028389466952111                           \n",
      "SPACE:                                                                              \n",
      "{'featuresCol': 'features', 'maxIter': 50, 'regParam': 0.5, 'labelCol': 'label', 'threshold': 0.25, 'standardization': True, 'elasticNetParam': 0.85}\n",
      "LOG-LOSS: 0.5750326435773161, ROC-AUC: 0.5                                          \n",
      "100%|██████████| 100/100 [1:04:53<00:00, 38.94s/trial, best loss: 0.5282529644822185]\n",
      "CPU times: user 13 s, sys: 1.99 s, total: 15 s\n",
      "Wall time: 1h 4min 54s\n"
     ]
    },
    {
     "data": {
      "text/plain": [
       "{'elasticNetParam': 0,\n",
       " 'maxIter': 1,\n",
       " 'regParam': 0,\n",
       " 'standardization': 0,\n",
       " 'threshold': 3}"
      ]
     },
     "execution_count": 89,
     "metadata": {},
     "output_type": "execute_result"
    }
   ],
   "source": [
    "%%time\n",
    "\n",
    "reg_param_choice =               [0.0, 0.25, 0.5, 0.75, 1.0, 1.5, 2.0]\n",
    "elastic_net_param_choice =       [0.0, 0.15, 0.25, 0.5, 0.75, 0.85, 1.0]\n",
    "max_iter_choice =                [10, 20, 30, 40, 50]\n",
    "standardization_choice =         [True, False]\n",
    "threshold_choice =               [0.15, 0.25, 0.5, 0.75, 0.85]\n",
    "\n",
    "\n",
    "space = {\n",
    "    # Optimize\n",
    "    'regParam':        hp.choice('regParam', reg_param_choice),\n",
    "    'elasticNetParam': hp.choice('elasticNetParam', elastic_net_param_choice),\n",
    "    'maxIter':         hp.choice('maxIter', max_iter_choice),\n",
    "    'standardization': hp.choice('standardization', standardization_choice),\n",
    "    'threshold':       hp.choice('threshold', threshold_choice),\n",
    "    \n",
    "    **static_params_lr\n",
    "}\n",
    "\n",
    "\n",
    "trials = Trials()\n",
    "best_lr = fmin(fn=objective_log_reg,\n",
    "            space=space,\n",
    "            algo=tpe.suggest,\n",
    "            max_evals=100,\n",
    "            trials=trials)\n",
    "best_lr"
   ]
  },
  {
   "cell_type": "code",
   "execution_count": 90,
   "metadata": {},
   "outputs": [],
   "source": [
    "params_lr = {\n",
    "    'regParam': reg_param_choice[best_lr['regParam']],\n",
    "    'elasticNetParam': elastic_net_param_choice[best_lr['elasticNetParam']],\n",
    "    'maxIter': max_iter_choice[best_lr['maxIter']],\n",
    "    'standardization': standardization_choice[best_lr['standardization']],\n",
    "    'threshold': threshold_choice[best_lr['threshold']]\n",
    "}"
   ]
  },
  {
   "cell_type": "code",
   "execution_count": 107,
   "metadata": {},
   "outputs": [
    {
     "data": {
      "text/plain": [
       "{'elasticNetParam': 0.0,\n",
       " 'maxIter': 20,\n",
       " 'regParam': 0.0,\n",
       " 'standardization': True,\n",
       " 'threshold': 0.75}"
      ]
     },
     "execution_count": 107,
     "metadata": {},
     "output_type": "execute_result"
    }
   ],
   "source": [
    "params_lr"
   ]
  },
  {
   "cell_type": "code",
   "execution_count": 91,
   "metadata": {},
   "outputs": [],
   "source": [
    "model_lr = LogisticRegression(**{**static_params_lr, **params_lr}).fit(train_df)"
   ]
  },
  {
   "cell_type": "code",
   "execution_count": 105,
   "metadata": {},
   "outputs": [],
   "source": [
    "add_metrics_result(\"model_lr\", model_lr, train_df, test_df, lr_metrics, probabilities_col='probability')"
   ]
  },
  {
   "cell_type": "code",
   "execution_count": 93,
   "metadata": {},
   "outputs": [],
   "source": [
    "add_metrics_result(\"model_lr\", model_lr, train_df, test_df, all_metrics, probabilities_col='probability')"
   ]
  },
  {
   "cell_type": "code",
   "execution_count": 113,
   "metadata": {},
   "outputs": [
    {
     "data": {
      "text/html": [
       "<div>\n",
       "<style scoped>\n",
       "    .dataframe tbody tr th:only-of-type {\n",
       "        vertical-align: middle;\n",
       "    }\n",
       "\n",
       "    .dataframe tbody tr th {\n",
       "        vertical-align: top;\n",
       "    }\n",
       "\n",
       "    .dataframe thead th {\n",
       "        text-align: right;\n",
       "    }\n",
       "</style>\n",
       "<table border=\"1\" class=\"dataframe\">\n",
       "  <thead>\n",
       "    <tr style=\"text-align: right;\">\n",
       "      <th></th>\n",
       "      <th>metric</th>\n",
       "      <th>model_lr ate %</th>\n",
       "    </tr>\n",
       "  </thead>\n",
       "  <tbody>\n",
       "    <tr>\n",
       "      <th>0</th>\n",
       "      <td>rocauc_test</td>\n",
       "      <td>0.002083</td>\n",
       "    </tr>\n",
       "    <tr>\n",
       "      <th>1</th>\n",
       "      <td>logloss_test</td>\n",
       "      <td>-0.224725</td>\n",
       "    </tr>\n",
       "  </tbody>\n",
       "</table>\n",
       "</div>"
      ],
      "text/plain": [
       "         metric  model_lr ate %\n",
       "0   rocauc_test        0.002083\n",
       "1  logloss_test       -0.224725"
      ]
     },
     "execution_count": 113,
     "metadata": {},
     "output_type": "execute_result"
    }
   ],
   "source": [
    "get_ate(lr_metrics, CONTROL_NAME_LR)"
   ]
  },
  {
   "cell_type": "markdown",
   "metadata": {},
   "source": [
    "---\n",
    "## Optional [MongoTrials](https://hyperopt.github.io/hyperopt/scaleout/mongodb/)\n",
    "\n",
    "> For parallel search, hyperopt includes a MongoTrials implementation that supports asynchronous updates.\n",
    "\n",
    "**TLDR** Преимущества использования `MongoTrials`:\n",
    "* `MongoTrials` позволяет параллельно запускать несколько вычислений целевой функции\n",
    "* Динамический уровень параллелизма - можно добавлять/удалять воркеров, которые вычисляют целевую функцию\n",
    "* Все результаты сохраняются в БД - история запусков никуда не потеряется\n",
    "\n",
    "*За выполнение данного задания можно получить дополнительно +0.4 к итоговому баллу*"
   ]
  },
  {
   "cell_type": "markdown",
   "metadata": {},
   "source": [
    "### XGBoost Tuning"
   ]
  },
  {
   "cell_type": "code",
   "execution_count": null,
   "metadata": {},
   "outputs": [],
   "source": [
    "######################################\n",
    "######### YOUR CODE HERE #############\n",
    "######################################"
   ]
  },
  {
   "cell_type": "markdown",
   "metadata": {},
   "source": [
    "# Results\n",
    "\n",
    "Подведем итоги.\n",
    "\n",
    "Обучите модели с найденными (оптимальными) гиперпараметрами и сделайте справнение на отложенной выборке"
   ]
  },
  {
   "cell_type": "markdown",
   "metadata": {},
   "source": [
    "Итоговая таблица"
   ]
  },
  {
   "cell_type": "code",
   "execution_count": 114,
   "metadata": {},
   "outputs": [
    {
     "data": {
      "text/html": [
       "<div>\n",
       "<style scoped>\n",
       "    .dataframe tbody tr th:only-of-type {\n",
       "        vertical-align: middle;\n",
       "    }\n",
       "\n",
       "    .dataframe tbody tr th {\n",
       "        vertical-align: top;\n",
       "    }\n",
       "\n",
       "    .dataframe thead th {\n",
       "        text-align: right;\n",
       "    }\n",
       "</style>\n",
       "<table border=\"1\" class=\"dataframe\">\n",
       "  <thead>\n",
       "    <tr style=\"text-align: right;\">\n",
       "      <th></th>\n",
       "      <th>metric</th>\n",
       "      <th>model_1 ate %</th>\n",
       "      <th>model_2 ate %</th>\n",
       "      <th>model_3 ate %</th>\n",
       "      <th>model_4 ate %</th>\n",
       "      <th>model_5 ate %</th>\n",
       "      <th>model_final ate %</th>\n",
       "      <th>model_lr ate %</th>\n",
       "    </tr>\n",
       "  </thead>\n",
       "  <tbody>\n",
       "    <tr>\n",
       "      <th>0</th>\n",
       "      <td>rocauc_test</td>\n",
       "      <td>1.838613</td>\n",
       "      <td>1.951576</td>\n",
       "      <td>1.994639</td>\n",
       "      <td>1.994639</td>\n",
       "      <td>2.003799</td>\n",
       "      <td>2.015592</td>\n",
       "      <td>-3.202494</td>\n",
       "    </tr>\n",
       "    <tr>\n",
       "      <th>1</th>\n",
       "      <td>logloss_test</td>\n",
       "      <td>-1.989203</td>\n",
       "      <td>-2.176228</td>\n",
       "      <td>-2.207105</td>\n",
       "      <td>-2.207105</td>\n",
       "      <td>-2.226729</td>\n",
       "      <td>-2.248687</td>\n",
       "      <td>3.314433</td>\n",
       "    </tr>\n",
       "  </tbody>\n",
       "</table>\n",
       "</div>"
      ],
      "text/plain": [
       "         metric  model_1 ate %  model_2 ate %  model_3 ate %  model_4 ate %  \\\n",
       "0   rocauc_test       1.838613       1.951576       1.994639       1.994639   \n",
       "1  logloss_test      -1.989203      -2.176228      -2.207105      -2.207105   \n",
       "\n",
       "   model_5 ate %  model_final ate %  model_lr ate %  \n",
       "0       2.003799           2.015592       -3.202494  \n",
       "1      -2.226729          -2.248687        3.314433  "
      ]
     },
     "execution_count": 114,
     "metadata": {},
     "output_type": "execute_result"
    }
   ],
   "source": [
    "get_ate(all_metrics, CONTROL_NAME)"
   ]
  }
 ],
 "metadata": {
  "kernelspec": {
   "display_name": "Python 3",
   "language": "python",
   "name": "python3"
  },
  "language_info": {
   "codemirror_mode": {
    "name": "ipython",
    "version": 3
   },
   "file_extension": ".py",
   "mimetype": "text/x-python",
   "name": "python",
   "nbconvert_exporter": "python",
   "pygments_lexer": "ipython3",
   "version": "3.5.6"
  },
  "toc": {
   "base_numbering": 1,
   "nav_menu": {},
   "number_sections": true,
   "sideBar": true,
   "skip_h1_title": false,
   "title_cell": "Table of Contents",
   "title_sidebar": "Contents",
   "toc_cell": true,
   "toc_position": {},
   "toc_section_display": true,
   "toc_window_display": true
  }
 },
 "nbformat": 4,
 "nbformat_minor": 2
}
